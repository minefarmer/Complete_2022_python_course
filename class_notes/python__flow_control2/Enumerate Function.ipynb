{
 "cells": [
  {
   "cell_type": "markdown",
   "id": "c2b8a246",
   "metadata": {},
   "source": [
    "                                Enumerate Function\n",
    "\n",
    "Zip but with counter\n",
    "\n",
    "What if we want to iterate over one iterable and one counter at the same time?\n",
    "\n",
    "We use enumerate function."
   ]
  },
  {
   "cell_type": "code",
   "execution_count": 1,
   "id": "d9176ce4",
   "metadata": {},
   "outputs": [
    {
     "name": "stdout",
     "output_type": "stream",
     "text": [
      "<enumerate object at 0x000001B1B7FA1DC0>\n"
     ]
    }
   ],
   "source": [
    "my_list = [1, 2, \"s\", 3.1]\n",
    "print(enumerate(my_list))\n"
   ]
  },
  {
   "cell_type": "code",
   "execution_count": 2,
   "id": "a55e31da",
   "metadata": {},
   "outputs": [
    {
     "name": "stdout",
     "output_type": "stream",
     "text": [
      "[(0, 1), (1, 2), (2, 's'), (3, 3.1)]\n"
     ]
    }
   ],
   "source": [
    "my_list = [1, 2, \"s\", 3.1]\n",
    "print(list(enumerate(my_list)))\n"
   ]
  },
  {
   "cell_type": "code",
   "execution_count": 3,
   "id": "51a67596",
   "metadata": {},
   "outputs": [
    {
     "name": "stdout",
     "output_type": "stream",
     "text": [
      "0\n",
      "1\n",
      "1\n",
      "2\n",
      "2\n",
      "s\n",
      "3\n",
      "3.1\n"
     ]
    }
   ],
   "source": [
    "for i, c in enumerate(my_list):\n",
    "    print(i)\n",
    "    print(c)"
   ]
  }
 ],
 "metadata": {
  "interpreter": {
   "hash": "ad2bdc8ecc057115af97d19610ffacc2b4e99fae6737bb82f5d7fb13d2f2c186"
  },
  "kernelspec": {
   "display_name": "Python 3.9.7 ('base')",
   "language": "python",
   "name": "python3"
  },
  "language_info": {
   "codemirror_mode": {
    "name": "ipython",
    "version": 3
   },
   "file_extension": ".py",
   "mimetype": "text/x-python",
   "name": "python",
   "nbconvert_exporter": "python",
   "pygments_lexer": "ipython3",
   "version": "3.9.7"
  }
 },
 "nbformat": 4,
 "nbformat_minor": 5
}
