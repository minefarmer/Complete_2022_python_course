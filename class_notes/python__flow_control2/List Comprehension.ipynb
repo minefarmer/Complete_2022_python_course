{
 "cells": [
  {
   "cell_type": "markdown",
   "id": "f2a9ada0",
   "metadata": {},
   "source": [
    "                                                List Comprehension\n",
    "\n",
    "If we want to build a list faster, we can use list comprehension."
   ]
  },
  {
   "cell_type": "code",
   "execution_count": null,
   "id": "12435f7b",
   "metadata": {},
   "outputs": [],
   "source": [
    "my_list_normal = []\n",
    "for current_element in range(10):\n",
    "    my_list_normal.append(current_element)\n",
    "\n",
    "my_list_comp = [current_element for current_element in range(10)]\n",
    "\n",
    "print(my_list_normal)\n",
    "print(my_list_comp)"
   ]
  },
  {
   "cell_type": "code",
   "execution_count": 2,
   "id": "a9f9b0c7",
   "metadata": {},
   "outputs": [
    {
     "name": "stdout",
     "output_type": "stream",
     "text": [
      "[]\n"
     ]
    }
   ],
   "source": [
    "my_list_normal = []\n",
    "for i in range(20):\n",
    "    my_list_normal= []\n",
    "print(my_list_normal)"
   ]
  },
  {
   "cell_type": "code",
   "execution_count": 3,
   "id": "637f3cd0",
   "metadata": {},
   "outputs": [
    {
     "name": "stdout",
     "output_type": "stream",
     "text": [
      "[0, 1, 2, 3, 4, 5, 6, 7, 8, 9, 10, 11, 12, 13, 14, 15, 16, 17, 18, 19]\n"
     ]
    }
   ],
   "source": [
    "my_list_normal = []\n",
    "for i in range(20):\n",
    "    my_list_normal.append(i)\n",
    "print(my_list_normal)"
   ]
  },
  {
   "cell_type": "code",
   "execution_count": 5,
   "id": "94d2604d",
   "metadata": {},
   "outputs": [
    {
     "name": "stdout",
     "output_type": "stream",
     "text": [
      "[0, 1, 2, 3, 4, 5, 6, 7, 8, 9, 10, 11, 12, 13, 14, 15, 16, 17, 18, 19]\n"
     ]
    }
   ],
   "source": [
    "my_list_com = [ i for i in range(20) ]\n",
    "print(my_list_com)"
   ]
  }
 ],
 "metadata": {
  "interpreter": {
   "hash": "ad2bdc8ecc057115af97d19610ffacc2b4e99fae6737bb82f5d7fb13d2f2c186"
  },
  "kernelspec": {
   "display_name": "Python 3.9.7 ('base')",
   "language": "python",
   "name": "python3"
  },
  "language_info": {
   "codemirror_mode": {
    "name": "ipython",
    "version": 3
   },
   "file_extension": ".py",
   "mimetype": "text/x-python",
   "name": "python",
   "nbconvert_exporter": "python",
   "pygments_lexer": "ipython3",
   "version": "3.9.7"
  }
 },
 "nbformat": 4,
 "nbformat_minor": 5
}
