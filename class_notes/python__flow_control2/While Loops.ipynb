{
 "cells": [
  {
   "cell_type": "markdown",
   "id": "34b31118",
   "metadata": {},
   "source": [
    "#                               While Loops"
   ]
  },
  {
   "cell_type": "markdown",
   "id": "9318b794",
   "metadata": {},
   "source": [
    "#                   What is a while loop?\n",
    "\n",
    "While loop runs until a condition is no longer satisfied.\n",
    "We need to make sure that the stop condition will be met at some point,  otherwise we will have an infinite loop.\n",
    "We prefer while loops over for loops when we don't know how many iterations we have.\n",
    "What if we want to multiply numbers in a list cumulatively until the result is bigger than 100?\n",
    "We can't do this with a for loop!\n"
   ]
  },
  {
   "cell_type": "code",
   "execution_count": 2,
   "id": "525844db",
   "metadata": {},
   "outputs": [
    {
     "name": "stdout",
     "output_type": "stream",
     "text": [
      "10\n"
     ]
    }
   ],
   "source": [
    "my_list = [10,2,30,5,12]\n",
    "\n",
    "cum_mul = 1\n",
    "current_element = 0\n",
    "while cum_mul < 10:\n",
    "    cum_mul *= my_list[current_element]\n",
    "    current_element += 1\n",
    "print(cum_mul)"
   ]
  },
  {
   "cell_type": "code",
   "execution_count": 3,
   "id": "36ad524a",
   "metadata": {},
   "outputs": [
    {
     "name": "stdout",
     "output_type": "stream",
     "text": [
      "0\n",
      "1\n",
      "2\n",
      "3\n",
      "4\n",
      "5\n",
      "6\n",
      "7\n",
      "8\n",
      "9\n"
     ]
    }
   ],
   "source": [
    "for i in range(10):\n",
    "    print(i)"
   ]
  },
  {
   "cell_type": "code",
   "execution_count": 6,
   "id": "765e4126",
   "metadata": {},
   "outputs": [
    {
     "name": "stdout",
     "output_type": "stream",
     "text": [
      "0\n",
      "1\n",
      "2\n",
      "3\n",
      "4\n",
      "5\n",
      "6\n",
      "7\n",
      "8\n",
      "9\n"
     ]
    }
   ],
   "source": [
    "i = 0\n",
    "while i < 10:\n",
    "    print(i)\n",
    "    i +=1"
   ]
  },
  {
   "cell_type": "code",
   "execution_count": 6,
   "id": "62cff394",
   "metadata": {},
   "outputs": [
    {
     "name": "stdout",
     "output_type": "stream",
     "text": [
      "10\n",
      "30\n",
      "60\n",
      "65\n",
      "70\n",
      "5\n"
     ]
    }
   ],
   "source": [
    "my_list = [10, 20, 30, 5, 5, 20, 40]\n",
    "\n",
    "res_add = 0\n",
    "index = 0\n",
    "\n",
    "while res_add  < 70:\n",
    "    res_add = res_add + my_list[index]\n",
    "    index += 1\n",
    "    print(res_add)\n",
    "print(index)"
   ]
  }
 ],
 "metadata": {
  "interpreter": {
   "hash": "ad2bdc8ecc057115af97d19610ffacc2b4e99fae6737bb82f5d7fb13d2f2c186"
  },
  "kernelspec": {
   "display_name": "Python 3.9.7 ('base')",
   "language": "python",
   "name": "python3"
  },
  "language_info": {
   "codemirror_mode": {
    "name": "ipython",
    "version": 3
   },
   "file_extension": ".py",
   "mimetype": "text/x-python",
   "name": "python",
   "nbconvert_exporter": "python",
   "pygments_lexer": "ipython3",
   "version": "3.9.7"
  }
 },
 "nbformat": 4,
 "nbformat_minor": 5
}
