{
 "cells": [
  {
   "cell_type": "markdown",
   "id": "f54c9a64",
   "metadata": {},
   "source": [
    "                        Continue Statement\n",
    "    More control\n",
    "What if we want to skip some iterations from a for/while loop if some condition happens.\n",
    "We use continue statement"
   ]
  },
  {
   "cell_type": "code",
   "execution_count": 1,
   "id": "eccba8d8",
   "metadata": {},
   "outputs": [
    {
     "name": "stdout",
     "output_type": "stream",
     "text": [
      "1\n",
      "3.1\n",
      "stop\n",
      "5\n",
      "stop\n",
      "5\n",
      "stop\n",
      "2\n"
     ]
    }
   ],
   "source": [
    "my_list = [1, 3.1, 'stop', 5, 'stop', 5, 'stop', 2]\n",
    "for i in my_list:\n",
    "    print(i)"
   ]
  },
  {
   "cell_type": "code",
   "execution_count": 2,
   "id": "ce95900e",
   "metadata": {},
   "outputs": [
    {
     "name": "stdout",
     "output_type": "stream",
     "text": [
      "1\n",
      "3.1\n"
     ]
    }
   ],
   "source": [
    "my_list = [1, 3.1, 'stop', 5, 'stop', 5, 'stop', 2]\n",
    "for i in my_list:\n",
    "    if i == 'stop':\n",
    "        break\n",
    "    print(i)"
   ]
  },
  {
   "cell_type": "code",
   "execution_count": 3,
   "id": "b22e7faf",
   "metadata": {},
   "outputs": [
    {
     "name": "stdout",
     "output_type": "stream",
     "text": [
      "1\n",
      "3.1\n",
      "5\n",
      "5\n",
      "2\n"
     ]
    }
   ],
   "source": [
    "my_list = [1, 3.1, 'stop', 5, 'stop', 5, 'stop', 2]\n",
    "for i in my_list:\n",
    "    if i == 'stop':\n",
    "        continue\n",
    "    print(i)"
   ]
  }
 ],
 "metadata": {
  "interpreter": {
   "hash": "ad2bdc8ecc057115af97d19610ffacc2b4e99fae6737bb82f5d7fb13d2f2c186"
  },
  "kernelspec": {
   "display_name": "Python 3 (ipykernel)",
   "language": "python",
   "name": "python3"
  },
  "language_info": {
   "codemirror_mode": {
    "name": "ipython",
    "version": 3
   },
   "file_extension": ".py",
   "mimetype": "text/x-python",
   "name": "python",
   "nbconvert_exporter": "python",
   "pygments_lexer": "ipython3",
   "version": "3.9.7"
  }
 },
 "nbformat": 4,
 "nbformat_minor": 5
}
