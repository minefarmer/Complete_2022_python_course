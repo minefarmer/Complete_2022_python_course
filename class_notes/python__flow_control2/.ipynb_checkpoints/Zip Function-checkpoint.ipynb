{
 "cells": [
  {
   "cell_type": "markdown",
   "id": "cc014b50",
   "metadata": {},
   "source": [
    "                Iterables to Iterators\n",
    "What if we have a couple of iterables and we want to create iterators of them?\n"
   ]
  },
  {
   "cell_type": "code",
   "execution_count": 1,
   "id": "4765beff",
   "metadata": {},
   "outputs": [],
   "source": [
    "list_1 = [1, 3, 2]\n",
    "list_2 = [5, 1, 4]\n"
   ]
  }
 ],
 "metadata": {
  "interpreter": {
   "hash": "ad2bdc8ecc057115af97d19610ffacc2b4e99fae6737bb82f5d7fb13d2f2c186"
  },
  "kernelspec": {
   "display_name": "Python 3 (ipykernel)",
   "language": "python",
   "name": "python3"
  },
  "language_info": {
   "codemirror_mode": {
    "name": "ipython",
    "version": 3
   },
   "file_extension": ".py",
   "mimetype": "text/x-python",
   "name": "python",
   "nbconvert_exporter": "python",
   "pygments_lexer": "ipython3",
   "version": "3.9.7"
  }
 },
 "nbformat": 4,
 "nbformat_minor": 5
}
