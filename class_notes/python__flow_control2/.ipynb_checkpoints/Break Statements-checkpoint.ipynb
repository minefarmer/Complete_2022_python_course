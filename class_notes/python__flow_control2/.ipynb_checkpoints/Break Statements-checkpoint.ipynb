{
 "cells": [
  {
   "cell_type": "markdown",
   "id": "4a3751f3",
   "metadata": {},
   "source": [
    "                                Break Statements\n",
    "\n",
    "What if we want to break from a for/while loop if some condition happens?\n",
    "\n",
    "WE use a break statement."
   ]
  },
  {
   "cell_type": "code",
   "execution_count": 2,
   "id": "b21888b0",
   "metadata": {},
   "outputs": [
    {
     "name": "stdout",
     "output_type": "stream",
     "text": [
      "1\n",
      "2\n",
      "stop\n",
      "The loop will NOT continue\n"
     ]
    }
   ],
   "source": [
    "my_list = [1,2, \"stop\", 3.42]\n",
    "\n",
    "for current_element in my_list:\n",
    "    print(current_element)\n",
    "    if current_element == \"stop\":\n",
    "        print(\"The loop will NOT continue\")\n",
    "        break"
   ]
  },
  {
   "cell_type": "code",
   "execution_count": 5,
   "id": "9c86a3f3",
   "metadata": {},
   "outputs": [
    {
     "name": "stdout",
     "output_type": "stream",
     "text": [
      "1\n",
      "2\n",
      "3\n",
      "stop\n",
      "THE CODE WILL STOP !\n",
      "This is outside the loop.\n"
     ]
    }
   ],
   "source": [
    "my_list = [1, 2, 3, \"stop\", 4.1]\n",
    "\n",
    "for i in my_list:\n",
    "    print(i)\n",
    "    if i == \"stop\":\n",
    "        print(\"THE CODE WILL STOP !\")\n",
    "        break\n",
    "print(\"This is outside the loop.\")"
   ]
  },
  {
   "cell_type": "code",
   "execution_count": 8,
   "id": "443fb255",
   "metadata": {},
   "outputs": [
    {
     "name": "stdout",
     "output_type": "stream",
     "text": [
      "1\n",
      "1\n",
      "2\n",
      "3\n",
      "stop\n",
      "THE CODE WILL STOP !\n",
      "2\n",
      "1\n",
      "2\n",
      "3\n",
      "stop\n",
      "THE CODE WILL STOP !\n",
      "3\n",
      "1\n",
      "2\n",
      "3\n",
      "stop\n",
      "THE CODE WILL STOP !\n",
      "stop\n",
      "1\n",
      "2\n",
      "3\n",
      "stop\n",
      "THE CODE WILL STOP !\n",
      "5\n",
      "1\n",
      "2\n",
      "3\n",
      "stop\n",
      "THE CODE WILL STOP !\n",
      "stop\n",
      "1\n",
      "2\n",
      "3\n",
      "stop\n",
      "THE CODE WILL STOP !\n",
      "4.1\n",
      "1\n",
      "2\n",
      "3\n",
      "stop\n",
      "THE CODE WILL STOP !\n",
      "This is outside the loop.\n"
     ]
    }
   ],
   "source": [
    "my_list = [1, 2, 3, \"stop\", 5, \"stop\", 4.1]\n",
    "\n",
    "for i in my_list:\n",
    "    print(i)\n",
    "    for i in my_list:\n",
    "        print(i)\n",
    "        if i == \"stop\":\n",
    "            print(\"THE CODE WILL STOP !\")\n",
    "            break\n",
    "print(\"This is outside the loop.\")"
   ]
  },
  {
   "cell_type": "code",
   "execution_count": 10,
   "id": "c74428a7",
   "metadata": {},
   "outputs": [
    {
     "name": "stdout",
     "output_type": "stream",
     "text": [
      "1\n",
      "2\n",
      "3\n",
      "stop\n",
      "the loop will stop !\n"
     ]
    }
   ],
   "source": [
    "index = 0\n",
    "while index <  len(my_list):\n",
    "\n",
    "    current_element = my_list[index]\n",
    "    print(current_element)\n",
    "    if current_element == \"stop\":\n",
    "        print(\"the loop will stop !\")\n",
    "        break\n",
    "    index += 1\n"
   ]
  }
 ],
 "metadata": {
  "interpreter": {
   "hash": "ad2bdc8ecc057115af97d19610ffacc2b4e99fae6737bb82f5d7fb13d2f2c186"
  },
  "kernelspec": {
   "display_name": "Python 3 (ipykernel)",
   "language": "python",
   "name": "python3"
  },
  "language_info": {
   "codemirror_mode": {
    "name": "ipython",
    "version": 3
   },
   "file_extension": ".py",
   "mimetype": "text/x-python",
   "name": "python",
   "nbconvert_exporter": "python",
   "pygments_lexer": "ipython3",
   "version": "3.9.7"
  }
 },
 "nbformat": 4,
 "nbformat_minor": 5
}
