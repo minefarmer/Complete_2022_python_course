{
 "cells": [
  {
   "cell_type": "markdown",
   "id": "cc014b50",
   "metadata": {},
   "source": [
    "                Iterables to Iterators\n",
    "What if we have a couple of iterables and we want to create iterators of them?\n",
    "We use the zip function."
   ]
  },
  {
   "cell_type": "code",
   "execution_count": 3,
   "id": "4765beff",
   "metadata": {},
   "outputs": [
    {
     "name": "stdout",
     "output_type": "stream",
     "text": [
      "[(1, 5), (2, 1), ('stop', 10), (3.42, 3)]\n"
     ]
    }
   ],
   "source": [
    "first_list = [1, 2, \"stop\", 3.42]\n",
    "second_list = [5, 1, 10, 3]\n",
    "zipped_lists = zip(first_list, second_list)\n",
    "print(list(zipped_lists))\n"
   ]
  },
  {
   "cell_type": "markdown",
   "id": "7bfa58f0",
   "metadata": {},
   "source": [
    "            Multiple iterables\n",
    "What if I want to iterate over multiples at the same time?\n",
    "I can use the zip function also!\n",
    "This is the main use case."
   ]
  },
  {
   "cell_type": "code",
   "execution_count": 4,
   "id": "8bcda165",
   "metadata": {},
   "outputs": [
    {
     "name": "stdout",
     "output_type": "stream",
     "text": [
      "1 5\n",
      "2 1\n",
      "stop 10\n",
      "3.42 3\n"
     ]
    }
   ],
   "source": [
    "first_list = [1, 2, \"stop\", 3.42]\n",
    "second_list = [5, 1, 10, 3]\n",
    "for e1, e2 in zip(first_list, second_list):\n",
    "    print(e1, e2)"
   ]
  },
  {
   "cell_type": "code",
   "execution_count": 7,
   "id": "c262806d",
   "metadata": {},
   "outputs": [],
   "source": [
    "list_1 = [1, 3, 2] # iterable\n",
    "list_2 = [5, 1, 4]  # iterable\n",
    "zip_list = zip(list_1, list_2)  # iterator"
   ]
  },
  {
   "cell_type": "code",
   "execution_count": 8,
   "id": "3b88918c",
   "metadata": {},
   "outputs": [
    {
     "name": "stdout",
     "output_type": "stream",
     "text": [
      "<zip object at 0x0000019920A05600>\n"
     ]
    }
   ],
   "source": [
    "print(zip_list)"
   ]
  },
  {
   "cell_type": "code",
   "execution_count": 9,
   "id": "2b75e80a",
   "metadata": {},
   "outputs": [
    {
     "name": "stdout",
     "output_type": "stream",
     "text": [
      "[(1, 5), (3, 1), (2, 4)]\n"
     ]
    }
   ],
   "source": [
    "print(list(zip_list))"
   ]
  },
  {
   "cell_type": "code",
   "execution_count": 13,
   "id": "4e72a69b",
   "metadata": {},
   "outputs": [
    {
     "ename": "IndexError",
     "evalue": "list index out of range",
     "output_type": "error",
     "traceback": [
      "\u001b[1;31m---------------------------------------------------------------------------\u001b[0m",
      "\u001b[1;31mIndexError\u001b[0m                                Traceback (most recent call last)",
      "\u001b[1;32m~\\AppData\\Local\\Temp/ipykernel_20096/1597529898.py\u001b[0m in \u001b[0;36m<module>\u001b[1;34m\u001b[0m\n\u001b[1;32m----> 1\u001b[1;33m \u001b[0mprint\u001b[0m\u001b[1;33m(\u001b[0m\u001b[0mlist\u001b[0m\u001b[1;33m(\u001b[0m\u001b[0mzip_list\u001b[0m\u001b[1;33m)\u001b[0m\u001b[1;33m[\u001b[0m\u001b[1;36m0\u001b[0m\u001b[1;33m]\u001b[0m\u001b[1;33m)\u001b[0m\u001b[1;33m\u001b[0m\u001b[1;33m\u001b[0m\u001b[0m\n\u001b[0m",
      "\u001b[1;31mIndexError\u001b[0m: list index out of range"
     ]
    }
   ],
   "source": [
    "print(list(zip_list)[0])"
   ]
  },
  {
   "cell_type": "code",
   "execution_count": 14,
   "id": "9eb09738",
   "metadata": {},
   "outputs": [],
   "source": [
    "for i1, i2 in zip_list:\n",
    "    print(i1,i2)"
   ]
  }
 ],
 "metadata": {
  "interpreter": {
   "hash": "ad2bdc8ecc057115af97d19610ffacc2b4e99fae6737bb82f5d7fb13d2f2c186"
  },
  "kernelspec": {
   "display_name": "Python 3 (ipykernel)",
   "language": "python",
   "name": "python3"
  },
  "language_info": {
   "codemirror_mode": {
    "name": "ipython",
    "version": 3
   },
   "file_extension": ".py",
   "mimetype": "text/x-python",
   "name": "python",
   "nbconvert_exporter": "python",
   "pygments_lexer": "ipython3",
   "version": "3.9.7"
  }
 },
 "nbformat": 4,
 "nbformat_minor": 5
}
