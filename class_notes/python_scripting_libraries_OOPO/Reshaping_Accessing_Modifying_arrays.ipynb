{
 "cells": [
  {
   "cell_type": "code",
   "execution_count": 2,
   "id": "a00e9cd8",
   "metadata": {},
   "outputs": [],
   "source": [
    "# Reshaping, Accessing, and Modifying Numpy arrays"
   ]
  },
  {
   "cell_type": "code",
   "execution_count": 4,
   "id": "ef54b2c5",
   "metadata": {},
   "outputs": [],
   "source": [
    "'''         Reshaping\n",
    "\n",
    "I can change the shape of the array using reshape function as follows.\n",
    "\n",
    "'''\n",
    "import numpy as np\n",
    "np_arr = np.range((10))\n",
    "np_arr_reshaped = np.reshape( np_arr, (5,2))"
   ]
  },
  {
   "cell_type": "code",
   "execution_count": 6,
   "id": "d38485b8",
   "metadata": {},
   "outputs": [
    {
     "data": {
      "text/plain": [
       "'         Accessing and Modifying\\n\\nI can access specific elements in a NumPy array the same way as with Python Lists in case of 1D arrays.\\n\\nimport numpy as np\\n\\nmy_list_ = [1,2,3]\\nnp_arr = np.array( my_list )\\nprint(my_list[1],np_arr[1])\\nprint(my_list[1],np_arr[-1])\\nmy_list[2] = 6\\nmy_list[2] = 6\\n\\n'"
      ]
     },
     "execution_count": 6,
     "metadata": {},
     "output_type": "execute_result"
    }
   ],
   "source": [
    "'''         Accessing and Modifying\n",
    "\n",
    "I can access specific elements in a NumPy array the same way as with Python Lists in case of 1D arrays.\n",
    "\n",
    "import numpy as np\n",
    "\n",
    "my_list_ = [1,2,3]\n",
    "np_arr = np.array( my_list )\n",
    "print(my_list[1],np_arr[1])\n",
    "print(my_list[1],np_arr[-1])\n",
    "my_list[2] = 6\n",
    "my_list[2] = 6\n",
    "\n",
    "However, higher dimensional arrays accessing and modifying is differient from it's list's counterparts. \n",
    "\n",
    "'''\n"
   ]
  },
  {
   "cell_type": "code",
   "execution_count": 8,
   "id": "02366f51",
   "metadata": {},
   "outputs": [
    {
     "name": "stdout",
     "output_type": "stream",
     "text": [
      "5 5\n",
      "3 5\n"
     ]
    }
   ],
   "source": [
    "'''         Accessing Modifying Higher Dimensional Arrays\n",
    "\n",
    "Higher dimensional arrays accessing and modifying is differient from it's list's counterparts.\n",
    "\n",
    "\n",
    "'''\n"
   ]
  }
 ],
 "metadata": {
  "interpreter": {
   "hash": "ad2bdc8ecc057115af97d19610ffacc2b4e99fae6737bb82f5d7fb13d2f2c186"
  },
  "kernelspec": {
   "display_name": "Python 3 (ipykernel)",
   "language": "python",
   "name": "python3"
  },
  "language_info": {
   "codemirror_mode": {
    "name": "ipython",
    "version": 3
   },
   "file_extension": ".py",
   "mimetype": "text/x-python",
   "name": "python",
   "nbconvert_exporter": "python",
   "pygments_lexer": "ipython3",
   "version": "3.9.7"
  }
 },
 "nbformat": 4,
 "nbformat_minor": 5
}
