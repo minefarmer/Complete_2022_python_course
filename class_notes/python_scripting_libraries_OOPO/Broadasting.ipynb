{
 "cells": [
  {
   "cell_type": "markdown",
   "id": "72c21c60",
   "metadata": {},
   "source": [
    "# Broadcasting"
   ]
  },
  {
   "cell_type": "code",
   "execution_count": 1,
   "id": "ec218c49",
   "metadata": {},
   "outputs": [
    {
     "data": {
      "text/plain": [
       "'         What is Broadcasting\\n\\nAccording to NumPy official documentation. Broadcasting is how NumPy performs arithmetic operation between arrays with differient shapes.\\n\\nThe smaller array is Broadcast across the larger one.\\n\\n_______________________________________\\nimport numpy as np\\nnp_arr1=np.array([[1, 3, 5]])\\nnp_arr2=np.array([[3, 3, 3]])\\nnp_arr3=np_arr1 * np_arr2\\nprint(np_arr3)\\n\\n\\n_______________________________________\\nimport numpy as np\\nnp_arr1 = np.array([[1, 3, 5]])\\nnp_arr3 = np_arr1 * 10\\nprint(np_arr3\\n\\n'"
      ]
     },
     "execution_count": 1,
     "metadata": {},
     "output_type": "execute_result"
    }
   ],
   "source": [
    "'''         What is Broadcasting\n",
    "\n",
    "According to NumPy official documentation. Broadcasting is how NumPy performs arithmetic operation between arrays with differient shapes.\n",
    "\n",
    "The smaller array is Broadcast across the larger one.\n",
    "\n",
    "_______________________________________\n",
    "import numpy as np\n",
    "np_arr1=np.array([[1, 3, 5]])\n",
    "np_arr2=np.array([[3, 3, 3]])\n",
    "np_arr3=np_arr1 * np_arr2\n",
    "print(np_arr3)\n",
    "\n",
    "\n",
    "_______________________________________\n",
    "import numpy as np\n",
    "np_arr1 = np.array([[1, 3, 5]])\n",
    "np_arr3 = np_arr1 * 10\n",
    "print(np_arr3\n",
    "\n",
    "'''"
   ]
  },
  {
   "cell_type": "markdown",
   "id": "aa5818f7",
   "metadata": {},
   "source": [
    "# Broadcasting Advantages\n",
    "\n",
    "Much faster than forloops.\n",
    "Doesn't create new copies in memory.\n",
    "Efficient algorithm implementation.\n"
   ]
  },
  {
   "cell_type": "markdown",
   "id": "29c47fbe",
   "metadata": {},
   "source": [
    "# Broadcasting Rules\n",
    "\n",
    "One of the following conditions must exist:\n",
    "    One of the dimensions is 1.\n",
    "    Trailing demensions match. What do we mean bt trailing here?\n"
   ]
  }
 ],
 "metadata": {
  "kernelspec": {
   "display_name": "Python 3 (ipykernel)",
   "language": "python",
   "name": "python3"
  },
  "language_info": {
   "codemirror_mode": {
    "name": "ipython",
    "version": 3
   },
   "file_extension": ".py",
   "mimetype": "text/x-python",
   "name": "python",
   "nbconvert_exporter": "python",
   "pygments_lexer": "ipython3",
   "version": "3.9.7"
  }
 },
 "nbformat": 4,
 "nbformat_minor": 5
}
