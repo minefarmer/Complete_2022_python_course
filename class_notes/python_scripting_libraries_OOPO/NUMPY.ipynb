{
 "cells": [
  {
   "cell_type": "markdown",
   "id": "a19beca8",
   "metadata": {},
   "source": [
    "# Numpy overview\n",
    "\n",
    "            What we will cover.\n",
    "What is NumPy?\n",
    "NumPy Arrays\n",
    "Reshaping, Accessing & Modifying\n",
    "Slicing and Codying\n",
    "Inserting, Appending, and Deleting\n",
    "Array Logical Indexing\n"
   ]
  }
 ],
 "metadata": {
  "kernelspec": {
   "display_name": "Python 3 (ipykernel)",
   "language": "python",
   "name": "python3"
  },
  "language_info": {
   "codemirror_mode": {
    "name": "ipython",
    "version": 3
   },
   "file_extension": ".py",
   "mimetype": "text/x-python",
   "name": "python",
   "nbconvert_exporter": "python",
   "pygments_lexer": "ipython3",
   "version": "3.9.7"
  }
 },
 "nbformat": 4,
 "nbformat_minor": 5
}
