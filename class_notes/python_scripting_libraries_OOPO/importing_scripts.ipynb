{
 "cells": [
  {
   "cell_type": "code",
   "execution_count": 2,
   "id": "e8098bf1",
   "metadata": {},
   "outputs": [],
   "source": [
    "# IMPORTING SCRIPTS"
   ]
  },
  {
   "cell_type": "code",
   "execution_count": null,
   "id": "f9f2eb1f",
   "metadata": {},
   "outputs": [],
   "source": [
    "'''         WHAT IS IMPORTING?\n",
    "\n",
    "When my project gets bigger, it is better to refactor it into differient modules.\n",
    "\n",
    "A module is basically a .PY file.\n",
    "\n",
    "If I want to USE A FUNCTION from a differient module, then I need to inport it using the IMPORT keyword.\n",
    "\n",
    "For clarity, it is BETTER to import all the modules/functions at the BEGINNING of the code.\n",
    "\n",
    "\n",
    "'''"
   ]
  },
  {
   "cell_type": "code",
   "execution_count": null,
   "id": "c567372d",
   "metadata": {},
   "outputs": [],
   "source": [
    "'''         BEST PRACTICES FOR IMPORTING\n",
    "\n",
    "We use FROM keyword to import SPECIFIC functions.\n",
    "        FROM library IMPORT function1, function2\n",
    "\n",
    "We can RENAME a module using as keyword.\n",
    "        IMPORT library AS |\n",
    "\n",
    "We can combine the last two points.\n",
    "        FROM library IMPORT function1 AS f1\n",
    "'''"
   ]
  }
 ],
 "metadata": {
  "interpreter": {
   "hash": "234ef6a6594d3bde90fb6d953f8819a2c5e4558d5396c2bcf39db0789736caa3"
  },
  "kernelspec": {
   "display_name": "Python 3.10.4 64-bit (windows store)",
   "language": "python",
   "name": "python3"
  },
  "language_info": {
   "codemirror_mode": {
    "name": "ipython",
    "version": 3
   },
   "file_extension": ".py",
   "mimetype": "text/x-python",
   "name": "python",
   "nbconvert_exporter": "python",
   "pygments_lexer": "ipython3",
   "version": "3.10.4"
  }
 },
 "nbformat": 4,
 "nbformat_minor": 5
}
