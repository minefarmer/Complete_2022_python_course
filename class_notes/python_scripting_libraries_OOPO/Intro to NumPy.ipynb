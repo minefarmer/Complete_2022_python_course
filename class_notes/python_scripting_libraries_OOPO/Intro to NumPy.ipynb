{
 "cells": [
  {
   "cell_type": "markdown",
   "id": "588cc20f",
   "metadata": {},
   "source": [
    "# Intro To  NUMPY"
   ]
  },
  {
   "cell_type": "code",
   "execution_count": 1,
   "id": "b47a9876",
   "metadata": {},
   "outputs": [
    {
     "ename": "IndentationError",
     "evalue": "unexpected indent (Temp/ipykernel_4172/539667094.py, line 3)",
     "output_type": "error",
     "traceback": [
      "\u001b[1;36m  File \u001b[1;32m\"C:\\Users\\pgold\\AppData\\Local\\Temp/ipykernel_4172/539667094.py\"\u001b[1;36m, line \u001b[1;32m3\u001b[0m\n\u001b[1;33m    One of the most popular and powerful third-party libraries in Python.\u001b[0m\n\u001b[1;37m    ^\u001b[0m\n\u001b[1;31mIndentationError\u001b[0m\u001b[1;31m:\u001b[0m unexpected indent\n"
     ]
    }
   ],
   "source": [
    "                What is NumPy\n",
    "    \n",
    "    One of the most popular and powerful third-party libraries in Python.\n",
    "\n",
    "    Short for Numerical Python.\n",
    "    \n",
    "    A must for scientific computing.\n",
    "    \n",
    "    The main component is the NumPy N-dimensional Array (cdarray)\n",
    "\n",
    "    It comes pre-installed with Anaconda.\n",
    "\n",
    "    Can be installed using the command (pip install numpy)\n",
    "    "
   ]
  }
 ],
 "metadata": {
  "kernelspec": {
   "display_name": "Python 3 (ipykernel)",
   "language": "python",
   "name": "python3"
  },
  "language_info": {
   "codemirror_mode": {
    "name": "ipython",
    "version": 3
   },
   "file_extension": ".py",
   "mimetype": "text/x-python",
   "name": "python",
   "nbconvert_exporter": "python",
   "pygments_lexer": "ipython3",
   "version": "3.9.7"
  }
 },
 "nbformat": 4,
 "nbformat_minor": 5
}
