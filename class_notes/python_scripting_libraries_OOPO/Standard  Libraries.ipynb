{
 "cells": [
  {
   "cell_type": "raw",
   "id": "f77c3bdf",
   "metadata": {},
   "source": [
    "Standard libraries"
   ]
  },
  {
   "cell_type": "raw",
   "id": "4e5ce8e2",
   "metadata": {},
   "source": [
    "'''\n",
    "When I install Pytho, it comes with dozens of ready-to-import libraries.\n",
    "\n",
    "As we go through the course, we will use a few of them when needed.\n",
    "(Python Module of the Week) is a series of articles that shows how to use the most interesting standard modules.\n",
    "\n",
    "'''"
   ]
  }
 ],
 "metadata": {
  "interpreter": {
   "hash": "ad2bdc8ecc057115af97d19610ffacc2b4e99fae6737bb82f5d7fb13d2f2c186"
  },
  "kernelspec": {
   "display_name": "Python 3.9.7 ('base')",
   "language": "python",
   "name": "python3"
  },
  "language_info": {
   "codemirror_mode": {
    "name": "ipython",
    "version": 3
   },
   "file_extension": ".py",
   "mimetype": "text/x-python",
   "name": "python",
   "nbconvert_exporter": "python",
   "pygments_lexer": "ipython3",
   "version": "3.9.7"
  }
 },
 "nbformat": 4,
 "nbformat_minor": 5
}
