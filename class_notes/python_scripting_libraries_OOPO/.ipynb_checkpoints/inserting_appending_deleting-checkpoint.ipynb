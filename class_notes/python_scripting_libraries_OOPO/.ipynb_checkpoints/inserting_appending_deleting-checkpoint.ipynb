{
 "cells": [
  {
   "cell_type": "markdown",
   "id": "c5a9133f",
   "metadata": {},
   "source": [
    "# INSERTING, APPENDING, and DELETING"
   ]
  },
  {
   "cell_type": "code",
   "execution_count": 1,
   "id": "cde023dd",
   "metadata": {},
   "outputs": [
    {
     "data": {
      "text/plain": [
       "'         Inserting\\nWith the insert method, you can specify where do you want to add the new elements.\\n\\nimport numpy as np\\nnp_arr = np.array([1,2], [5,2])\\nnp_arr2 = np.insert(np_arr, 1, [[5,3] , [3,4]], axis = 1)\\nprint(np_arr2)\\n'"
      ]
     },
     "execution_count": 1,
     "metadata": {},
     "output_type": "execute_result"
    }
   ],
   "source": [
    "'''         Inserting\n",
    "With the insert method, you can specify where do you want to add the new elements.\n",
    "\n",
    "import numpy as np\n",
    "np_arr = np.array([1,2], [5,2])\n",
    "np_arr2 = np.insert(np_arr, 1, [[5,3] , [3,4]], axis = 1)\n",
    "print(np_arr2)\n",
    "'''\n"
   ]
  },
  {
   "cell_type": "code",
   "execution_count": 8,
   "id": "acfe4155",
   "metadata": {},
   "outputs": [
    {
     "data": {
      "text/plain": [
       "'         Inserting\\nThe append method is for concatenating new elements. So, they are added after the original array elements.\\nIf the axis parameter is not used, the output will be 1D array.\\n\\nIf not, the added elements must have the same shape as the original array.\\n\\nimport numpy as np\\nnp_arr = np.array([1,2], [5,2])\\nnp_arr2 = np.append(np_arr, 1, [6, 1, 2])\\nprint(np_arr2)\\n\\n'"
      ]
     },
     "execution_count": 8,
     "metadata": {},
     "output_type": "execute_result"
    }
   ],
   "source": [
    "'''         Inserting\n",
    "The append method is for concatenating new elements. So, they are added after the original array elements.\n",
    "If the axis parameter is not used, the output will be 1D array.\n",
    "\n",
    "If not, the added elements must have the same shape as the original array.\n",
    "\n",
    "import numpy as np\n",
    "np_arr = np.array([1,2], [5,2])\n",
    "np_arr2 = np.append(np_arr, 1, [6, 1, 2])\n",
    "print(np_arr2)\n",
    "\n",
    "'''"
   ]
  },
  {
   "cell_type": "code",
   "execution_count": 9,
   "id": "2f75974b",
   "metadata": {},
   "outputs": [
    {
     "data": {
      "text/plain": [
       "'         Appending\\nIf the axis parameter is 1, then the added elements must have the correct shape with the original array.\\n\\nimport numpy as np\\nnp_arr2 = np.append(np_arr,[[5,3], [3,4]], axis = 1)\\nprint(np_arr2)\\n\\n'"
      ]
     },
     "execution_count": 9,
     "metadata": {},
     "output_type": "execute_result"
    }
   ],
   "source": [
    "'''         Appending\n",
    "If the axis parameter is 1, then the added elements must have the correct shape with the original array.\n",
    "\n",
    "import numpy as np\n",
    "np_arr2 = np.append(np_arr,[[5,3], [3,4]], axis = 1)\n",
    "print(np_arr2)\n",
    "\n",
    "'''"
   ]
  },
  {
   "cell_type": "code",
   "execution_count": 11,
   "id": "7c2895a4",
   "metadata": {},
   "outputs": [
    {
     "data": {
      "text/plain": [
       "'         Deleting\\n\\nYou can delete elements from a 1D NumPy array using delete function as follows.\\n\\nimport numpy as np\\nnp_arr = np.array([1,2,5, 20, 31])\\nnp_arr = np.delete(np_arr , 0)\\nprint(np_arr)\\nnp_arr = np.delete(np_arr ,[1, 3 ])\\nprint(np_arr)\\n\\nI can delete elements from a higher NumPy array using delete function by specifying the axis parameter.\\n\\nimport numpy as np\\nnp_arr = np.array([[1,2,3], [2,3,5] , [1,3,5],[3 , 6, 1]])\\nnp_arr = np.delete(np_arr , 0, axis = 1)\\nprint(np_arr)\\nnp_arr = np.delete(np_arr ,[1, 3 ], axis = 0)\\nprint(np_arr)\\n\\n'"
      ]
     },
     "execution_count": 11,
     "metadata": {},
     "output_type": "execute_result"
    }
   ],
   "source": [
    "'''         Deleting\n",
    "\n",
    "You can delete elements from a 1D NumPy array using delete function as follows.\n",
    "\n",
    "import numpy as np\n",
    "np_arr = np.array([1,2,5, 20, 31])\n",
    "np_arr = np.delete(np_arr , 0)\n",
    "print(np_arr)\n",
    "np_arr = np.delete(np_arr ,[1, 3 ])\n",
    "print(np_arr)\n",
    "\n",
    "I can delete elements from a higher NumPy array using delete function by specifying the axis parameter.\n",
    "\n",
    "import numpy as np\n",
    "np_arr = np.array([[1,2,3], [2,3,5] , [1,3,5],[3 , 6, 1]])\n",
    "np_arr = np.delete(np_arr , 0, axis = 1)\n",
    "print(np_arr)\n",
    "np_arr = np.delete(np_arr ,[1, 3 ], axis = 0)\n",
    "print(np_arr)\n",
    "\n",
    "'''"
   ]
  }
 ],
 "metadata": {
  "interpreter": {
   "hash": "ad2bdc8ecc057115af97d19610ffacc2b4e99fae6737bb82f5d7fb13d2f2c186"
  },
  "kernelspec": {
   "display_name": "Python 3 (ipykernel)",
   "language": "python",
   "name": "python3"
  },
  "language_info": {
   "codemirror_mode": {
    "name": "ipython",
    "version": 3
   },
   "file_extension": ".py",
   "mimetype": "text/x-python",
   "name": "python",
   "nbconvert_exporter": "python",
   "pygments_lexer": "ipython3",
   "version": "3.9.7"
  }
 },
 "nbformat": 4,
 "nbformat_minor": 5
}
