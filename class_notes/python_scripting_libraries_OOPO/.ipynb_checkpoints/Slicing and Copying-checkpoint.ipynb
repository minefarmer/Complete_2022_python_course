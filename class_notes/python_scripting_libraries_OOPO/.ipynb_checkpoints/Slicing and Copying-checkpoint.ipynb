{
 "cells": [
  {
   "cell_type": "markdown",
   "id": "0bdfbc5b",
   "metadata": {},
   "source": [
    "#    Slicing and Copying"
   ]
  },
  {
   "cell_type": "code",
   "execution_count": 1,
   "id": "c77f4463",
   "metadata": {},
   "outputs": [
    {
     "data": {
      "text/plain": [
       "'         Basic Slicing\\n\\n\\n\\n'"
      ]
     },
     "execution_count": 1,
     "metadata": {},
     "output_type": "execute_result"
    }
   ],
   "source": [
    "'''         Basic Slicing    \n",
    "\n",
    "I can slice a NumPy array as follows.\n",
    "\n",
    "\n",
    "        open:  class_notes\\python_scripting_libraries_OOPO\\slicing_and_copying.py\n",
    "            for start code example\n",
    "\n",
    "'''"
   ]
  },
  {
   "cell_type": "markdown",
   "id": "1ecc5363",
   "metadata": {},
   "source": [
    "'''         Copy Function\n",
    "\n",
    "I should always use the copy function if I want to work on a subarray (without manipulating) the original one.\n",
    "\n",
    "\n",
    "\n",
    "\n",
    "        open:  class_notes\\python_scripting_libraries_OOPO\\slicing_and_copying.py       line 20\n",
    "            for start code example\n",
    "\n",
    "'''"
   ]
  }
 ],
 "metadata": {
  "interpreter": {
   "hash": "ad2bdc8ecc057115af97d19610ffacc2b4e99fae6737bb82f5d7fb13d2f2c186"
  },
  "kernelspec": {
   "display_name": "Python 3 (ipykernel)",
   "language": "python",
   "name": "python3"
  },
  "language_info": {
   "codemirror_mode": {
    "name": "ipython",
    "version": 3
   },
   "file_extension": ".py",
   "mimetype": "text/x-python",
   "name": "python",
   "nbconvert_exporter": "python",
   "pygments_lexer": "ipython3",
   "version": "3.9.7"
  }
 },
 "nbformat": 4,
 "nbformat_minor": 5
}
