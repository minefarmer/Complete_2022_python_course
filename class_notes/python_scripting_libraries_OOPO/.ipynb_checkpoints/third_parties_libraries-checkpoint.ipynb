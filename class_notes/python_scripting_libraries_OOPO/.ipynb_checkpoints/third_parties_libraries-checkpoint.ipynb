{
 "cells": [
  {
   "cell_type": "markdown",
   "id": "48de48fc",
   "metadata": {},
   "source": [
    "#   Third Party Libraries"
   ]
  },
  {
   "cell_type": "code",
   "execution_count": 1,
   "id": "166ec82a",
   "metadata": {},
   "outputs": [
    {
     "data": {
      "text/plain": [
       "'\\nAlthough Python has hundreds of standard pre-installed libraries, there is also tens of thousands of third party lubraries.\\n\\nAnyone can write his/her own library, and anyone can install it and use it.\\n\\nSo there is a lot of low quality libraries.\\n\\nThere are hundreds of high-quality ones.\\n'"
      ]
     },
     "execution_count": 1,
     "metadata": {},
     "output_type": "execute_result"
    }
   ],
   "source": [
    "'''\n",
    "Although Python has hundreds of standard pre-installed libraries, there is also tens of thousands of third party lubraries.\n",
    "\n",
    "Anyone can write his/her own library, and anyone can install it and use it.\n",
    "\n",
    "So there is a lot of low quality libraries.\n",
    "\n",
    "There are hundreds of high-quality ones.\n",
    "'''"
   ]
  },
  {
   "cell_type": "markdown",
   "id": "e9526788",
   "metadata": {},
   "source": [
    "             HOW TO INSTALL!"
   ]
  },
  {
   "cell_type": "code",
   "execution_count": 2,
   "id": "7b013f2a",
   "metadata": {},
   "outputs": [
    {
     "data": {
      "text/plain": [
       "'\\nUsing PIP INSTALL command in the command line.\\n\\nUsing CONDA INSTALL, if I have anaconda installed.\\n'"
      ]
     },
     "execution_count": 2,
     "metadata": {},
     "output_type": "execute_result"
    }
   ],
   "source": [
    "'''\n",
    "Using PIP INSTALL command in the command line.\n",
    "\n",
    "Using CONDA INSTALL, if I have anaconda installed.\n",
    "'''"
   ]
  },
  {
   "cell_type": "markdown",
   "id": "a74b581d",
   "metadata": {},
   "source": [
    "            Requiremente File\n",
    "\n",
    "Sometimes you have many liberies that you want to install at once.\n",
    "\n",
    "Write them don in a requirements.txt file, with each line corresponding to one library.\n",
    "\n",
    "I can specify the required version of each library using ==\n"
   ]
  }
 ],
 "metadata": {
  "interpreter": {
   "hash": "ad2bdc8ecc057115af97d19610ffacc2b4e99fae6737bb82f5d7fb13d2f2c186"
  },
  "kernelspec": {
   "display_name": "Python 3 (ipykernel)",
   "language": "python",
   "name": "python3"
  },
  "language_info": {
   "codemirror_mode": {
    "name": "ipython",
    "version": 3
   },
   "file_extension": ".py",
   "mimetype": "text/x-python",
   "name": "python",
   "nbconvert_exporter": "python",
   "pygments_lexer": "ipython3",
   "version": "3.9.7"
  }
 },
 "nbformat": 4,
 "nbformat_minor": 5
}
