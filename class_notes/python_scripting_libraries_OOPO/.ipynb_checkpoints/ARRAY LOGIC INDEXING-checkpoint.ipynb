{
 "cells": [
  {
   "cell_type": "markdown",
   "id": "a2d95fb9",
   "metadata": {},
   "source": [
    "#                                       Array logical Indexing"
   ]
  },
  {
   "cell_type": "markdown",
   "id": "2bb4c25f",
   "metadata": {},
   "source": [
    "                        Index Based on condition\n"
   ]
  },
  {
   "cell_type": "code",
   "execution_count": 3,
   "id": "cbecf7ce",
   "metadata": {},
   "outputs": [
    {
     "name": "stdout",
     "output_type": "stream",
     "text": [
      "[3 3 5]\n",
      "[[False False  True]\n",
      " [False  True  True]]\n"
     ]
    }
   ],
   "source": [
    "'''\n",
    "Sometimes, you want to select some elements from an array bassed on a condition.\n",
    "\n",
    "We can achieve this in NumPy very easily as follows.\n",
    "\n",
    "'''\n",
    "import numpy as np\n",
    "\n",
    "np_arr= np.array([[1,2,3], [2,3,5]] )\n",
    "np_condarr = np_arr [np_arr>2]\n",
    "print(np_condarr)\n",
    "print(np_arr>2)"
   ]
  }
 ],
 "metadata": {
  "interpreter": {
   "hash": "ad2bdc8ecc057115af97d19610ffacc2b4e99fae6737bb82f5d7fb13d2f2c186"
  },
  "kernelspec": {
   "display_name": "Python 3 (ipykernel)",
   "language": "python",
   "name": "python3"
  },
  "language_info": {
   "codemirror_mode": {
    "name": "ipython",
    "version": 3
   },
   "file_extension": ".py",
   "mimetype": "text/x-python",
   "name": "python",
   "nbconvert_exporter": "python",
   "pygments_lexer": "ipython3",
   "version": "3.9.7"
  }
 },
 "nbformat": 4,
 "nbformat_minor": 5
}
