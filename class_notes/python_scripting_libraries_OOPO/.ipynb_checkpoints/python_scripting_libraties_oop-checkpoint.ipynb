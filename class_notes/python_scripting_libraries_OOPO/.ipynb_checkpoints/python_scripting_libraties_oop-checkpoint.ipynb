{
 "cells": [
  {
   "cell_type": "markdown",
   "id": "bc845458",
   "metadata": {},
   "source": [
    "# PYTHON SCRIPTING LIBRARIES & OOP OVERVIEW"
   ]
  }
 ],
 "metadata": {
  "kernelspec": {
   "display_name": "Python 3 (ipykernel)",
   "language": "python",
   "name": "python3"
  },
  "language_info": {
   "codemirror_mode": {
    "name": "ipython",
    "version": 3
   },
   "file_extension": ".py",
   "mimetype": "text/x-python",
   "name": "python",
   "nbconvert_exporter": "python",
   "pygments_lexer": "ipython3",
   "version": "3.9.7"
  }
 },
 "nbformat": 4,
 "nbformat_minor": 5
}
