{
 "cells": [
  {
   "cell_type": "markdown",
   "id": "b6cfb5b8",
   "metadata": {},
   "source": [
    "# PYTHON SCRIPTS"
   ]
  },
  {
   "cell_type": "code",
   "execution_count": null,
   "id": "0e64d65a",
   "metadata": {
    "vscode": {
     "languageId": "plaintext"
    }
   },
   "outputs": [],
   "source": [
    "'''\n",
    "So far, we have been working with Jupyter Notebook.\n",
    "\n",
    "Python scripts are basically text files with .py extension that run at once.\n",
    "\n",
    "I can imagine that all the Jupyter Notbook is in one code cell.\n",
    "\n",
    "To run a Python script, I can use the command line or an Integrated Developement Enviorment - IDE.\n",
    "\n",
    "If I am going to run from the command line, then a text editor is recommended.\n",
    "\n",
    "If I'm going to use an IDE, then I only need to prepare the ENVIRONMENT.\n",
    "\n",
    "'''"
   ]
  }
 ],
 "metadata": {
  "kernelspec": {
   "display_name": "Python 3 (ipykernel)",
   "language": "python",
   "name": "python3"
  },
  "language_info": {
   "codemirror_mode": {
    "name": "ipython",
    "version": 3
   },
   "file_extension": ".py",
   "mimetype": "text/x-python",
   "name": "python",
   "nbconvert_exporter": "python",
   "pygments_lexer": "ipython3",
   "version": "3.9.7"
  }
 },
 "nbformat": 4,
 "nbformat_minor": 5
}
