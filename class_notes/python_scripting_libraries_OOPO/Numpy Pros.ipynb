{
 "cells": [
  {
   "cell_type": "markdown",
   "id": "adbd31a6",
   "metadata": {},
   "source": [
    "why_use_numPy"
   ]
  },
  {
   "cell_type": "code",
   "execution_count": null,
   "id": "864b713b",
   "metadata": {},
   "outputs": [],
   "source": [
    "'''\n",
    "Faster than Python arrays.\n",
    "\n",
    "N-dimensional arrays by nature. Optimized and easier to work with more complex data.\n",
    "Dozens of built-in functions.\n",
    "'''"
   ]
  },
  {
   "cell_type": "code",
   "execution_count": null,
   "id": "ad42b754",
   "metadata": {},
   "outputs": [],
   "source": [
    "'''         NUMPY APPLICATIONS')\n",
    "\n",
    "Scientific Domain\n",
    "\n",
    "Dozens of third-party libraries\n",
    "\n",
    "Data Science\n",
    "\n",
    "Machine learning\n",
    "\n",
    "Visualization\n",
    "\n",
    "'''"
   ]
  }
 ],
 "metadata": {
  "interpreter": {
   "hash": "234ef6a6594d3bde90fb6d953f8819a2c5e4558d5396c2bcf39db0789736caa3"
  },
  "kernelspec": {
   "display_name": "Python 3 (ipykernel)",
   "language": "python",
   "name": "python3"
  },
  "language_info": {
   "codemirror_mode": {
    "name": "ipython",
    "version": 3
   },
   "file_extension": ".py",
   "mimetype": "text/x-python",
   "name": "python",
   "nbconvert_exporter": "python",
   "pygments_lexer": "ipython3",
   "version": "3.9.7"
  }
 },
 "nbformat": 4,
 "nbformat_minor": 5
}
