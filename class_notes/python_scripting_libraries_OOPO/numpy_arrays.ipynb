{
 "cells": [
  {
   "cell_type": "markdown",
   "id": "6052fd75",
   "metadata": {},
   "source": [
    "# Numpy Arrays"
   ]
  },
  {
   "cell_type": "code",
   "execution_count": null,
   "id": "8036a424",
   "metadata": {
    "vscode": {
     "languageId": "plaintext"
    }
   },
   "outputs": [],
   "source": [
    "'''         What is a numpy array?\n",
    "Fundamental unit of NumPy library.\n",
    "Multi-dimensional array where all the elements have the same data type.\n",
    "\n",
    "Can be created using NumPy functions or by converting Python lists to NumPy arrays.\n",
    "\n",
    "Important notes  *************************************************************************************************\n",
    "\n",
    "It is  standard to import Numpy and give it an alias which is np using the following line.\n",
    "                import numpy as np\n",
    "\n",
    "Convert a Python list to a NumPy array using np.asarray function as follows.\n",
    "                import numpy as np\n",
    "                my_list = [1, 2, 3]\n",
    "                np_arr = np.asarray(my_list)\n",
    "\n",
    "We can get the shape and dType of the array element using shape and dtype attributes as follows.\n",
    "                import numpy as np\n",
    "                my_list = [1, 2, 3]\n",
    "                np_arr = np.asarray(my_list)\n",
    "                print(np_arr.shape)\n",
    "                print(np_arr.dtype) \n",
    "\n",
    "I can force the data type of the NumPy array as follows.\n",
    "                import numpy as np\n",
    "                my_list = [1, 2, 3]\n",
    "                np_arr = np.array(my_list, dtype = np.int64)\n",
    "                print(np_arr.shape)\n",
    "                print(np_arr.dtype)\n",
    "\n",
    "NumPy has it's own data types which are differient from the Python ones.\n",
    "\n",
    "I can create a NumPy array using one of the many avaiable functions as follows.\n",
    "                import numpy as np\n",
    "                np_arr_zeros = np.zeros((2, 5))\n",
    "                np_arr_ones = np.ones((3, 6))\n",
    "                np_arr_zero_five = np.arange((6))\n",
    "                np_arr_spaced = np.linespace(0,10,2)\n",
    "                np_random = np.random.random((5,5))\n",
    "\n",
    "                # and many, many more..\n"
   ]
  }
 ],
 "metadata": {
  "kernelspec": {
   "display_name": "Python 3 (ipykernel)",
   "language": "python",
   "name": "python3"
  },
  "language_info": {
   "codemirror_mode": {
    "name": "ipython",
    "version": 3
   },
   "file_extension": ".py",
   "mimetype": "text/x-python",
   "name": "python",
   "nbconvert_exporter": "python",
   "pygments_lexer": "ipython3",
   "version": "3.9.7"
  }
 },
 "nbformat": 4,
 "nbformat_minor": 5
}
