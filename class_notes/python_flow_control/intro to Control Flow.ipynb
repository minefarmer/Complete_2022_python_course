{
 "cells": [
  {
   "cell_type": "markdown",
   "id": "5ceec42b",
   "metadata": {},
   "source": [
    "# The programming Power"
   ]
  },
  {
   "cell_type": "markdown",
   "id": "25fcc3e9",
   "metadata": {},
   "source": [
    "So far, we have Discussed how to manipulate data in Python.\n",
    "\n",
    "But we are not controlling anything. There is no logic!\n",
    "\n",
    "So let's spend some time dtudying and praticing that."
   ]
  }
 ],
 "metadata": {
  "kernelspec": {
   "display_name": "Python 3 (ipykernel)",
   "language": "python",
   "name": "python3"
  },
  "language_info": {
   "codemirror_mode": {
    "name": "ipython",
    "version": 3
   },
   "file_extension": ".py",
   "mimetype": "text/x-python",
   "name": "python",
   "nbconvert_exporter": "python",
   "pygments_lexer": "ipython3",
   "version": "3.9.12"
  }
 },
 "nbformat": 4,
 "nbformat_minor": 5
}
