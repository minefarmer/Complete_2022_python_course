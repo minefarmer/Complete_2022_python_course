{
 "cells": [
  {
   "cell_type": "markdown",
   "id": "f9d8919e",
   "metadata": {},
   "source": [
    "#  For Loops"
   ]
  }
 ],
 "metadata": {
  "interpreter": {
   "hash": "143d2740fa7885280d88cdaad3dbdadb51fa40347825ef5e3d2acba7c4a72194"
  },
  "kernelspec": {
   "display_name": "Python 3.9.12 ('base')",
   "language": "python",
   "name": "python3"
  },
  "language_info": {
   "codemirror_mode": {
    "name": "ipython",
    "version": 3
   },
   "file_extension": ".py",
   "mimetype": "text/x-python",
   "name": "python",
   "nbconvert_exporter": "python",
   "pygments_lexer": "ipython3",
   "version": "3.9.12"
  }
 },
 "nbformat": 4,
 "nbformat_minor": 5
}
