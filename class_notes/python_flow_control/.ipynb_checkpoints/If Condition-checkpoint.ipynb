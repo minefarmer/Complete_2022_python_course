{
 "cells": [
  {
   "cell_type": "markdown",
   "id": "6fe805ff",
   "metadata": {},
   "source": [
    "# If condition\n",
    "\n",
    "Python syntax is very similar to English.\n",
    "\n",
    "So, if we want to execute something only if something else happens, we use the keyword if.\n"
   ]
  },
  {
   "cell_type": "code",
   "execution_count": 2,
   "id": "ce11d72e",
   "metadata": {},
   "outputs": [],
   "source": [
    "x = 10\n",
    "y = 20\n",
    "if x > y:\n",
    "    print(x)\n"
   ]
  },
  {
   "cell_type": "markdown",
   "id": "a878aef5",
   "metadata": {},
   "source": [
    "# if else condition\n",
    "What if we want another thing to happen if the contition is not true?\n",
    "\n",
    "We use the if else statement.\n"
   ]
  },
  {
   "cell_type": "code",
   "execution_count": 3,
   "id": "a84fb043",
   "metadata": {},
   "outputs": [
    {
     "name": "stdout",
     "output_type": "stream",
     "text": [
      "30\n"
     ]
    }
   ],
   "source": [
    "x = 10\n",
    "y = 20\n",
    "z = 30\n",
    "if x>y:\n",
    "    print(x)\n",
    "else:\n",
    "    print(z)"
   ]
  },
  {
   "cell_type": "markdown",
   "id": "a3f75a22",
   "metadata": {},
   "source": [
    "# If, Else If, else condition\n",
    "\n",
    "We can have even more options to choose from using the elif keyword.\n",
    "\n",
    "Note that only one statement will be executed, which is the first one to be true."
   ]
  },
  {
   "cell_type": "code",
   "execution_count": 4,
   "id": "0c406bb2",
   "metadata": {},
   "outputs": [
    {
     "name": "stdout",
     "output_type": "stream",
     "text": [
      "30\n"
     ]
    }
   ],
   "source": [
    "x = 10\n",
    "y = 20\n",
    "z = 30\n",
    "if x > y:\n",
    "    print(x)\n",
    "elif y > z:\n",
    "    print(y)\n",
    "else:\n",
    "    print(z)"
   ]
  },
  {
   "cell_type": "markdown",
   "id": "387f53ff",
   "metadata": {},
   "source": [
    "# Code Blocks\n",
    "\n",
    "As we saw, Python interprets that the code uses indention, which is done using a tab.\n",
    "\n",
    "Space is differient from tab. I should always stick with one indention in your code, otherwise, syntax errors will occur.\n",
    "\n",
    "We can have a condition that is checked only if another condition is True."
   ]
  },
  {
   "cell_type": "code",
   "execution_count": 5,
   "id": "134872ce",
   "metadata": {},
   "outputs": [
    {
     "name": "stdout",
     "output_type": "stream",
     "text": [
      "First Block\n",
      "Second Block Y is bigger than X\n"
     ]
    }
   ],
   "source": [
    "x = 10\n",
    "y = 20\n",
    "if x > 5:\n",
    "    print(\"First Block\")\n",
    "    if y > x:\n",
    "        print(\"Second Block Y is bigger than X\")\n",
    "    elif y < x:\n",
    "        print(\"Second Block Y is bigger than X\")\n"
   ]
  }
 ],
 "metadata": {
  "interpreter": {
   "hash": "a624adbc5e596fddf72740b255048309200567f23df85867ce297e9f9d364c1b"
  },
  "kernelspec": {
   "display_name": "Python 3 (ipykernel)",
   "language": "python",
   "name": "python3"
  },
  "language_info": {
   "codemirror_mode": {
    "name": "ipython",
    "version": 3
   },
   "file_extension": ".py",
   "mimetype": "text/x-python",
   "name": "python",
   "nbconvert_exporter": "python",
   "pygments_lexer": "ipython3",
   "version": "3.9.12"
  }
 },
 "nbformat": 4,
 "nbformat_minor": 5
}
