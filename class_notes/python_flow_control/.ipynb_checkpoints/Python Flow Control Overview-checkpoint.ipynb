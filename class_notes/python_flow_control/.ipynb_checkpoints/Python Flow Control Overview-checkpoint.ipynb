{
 "cells": [
  {
   "cell_type": "markdown",
   "id": "910f95ed",
   "metadata": {},
   "source": [
    "# Python Flow Control = Part 1"
   ]
  },
  {
   "cell_type": "markdown",
   "id": "2c6ee178",
   "metadata": {},
   "source": [
    "Control Flow\n",
    "Conditional Statements\n",
    "For Loops\n",
    "While Loops\n"
   ]
  },
  {
   "cell_type": "markdown",
   "id": "b17a09f1",
   "metadata": {},
   "source": [
    "#           Conditional Statements\n",
    "\n",
    "By default, statements in the script are executed sequentially from the first to the last.\n",
    "\n",
    "If the processing logic requires so, the sequentiql flow can be altered in two ways:\n",
    "    Conditional execution: a block of one or more statements will be executed if a certain expression is True.\n",
    "    Repetitive execution: a block of one or more statements will be reptitively ececuted as long as a certain expression is true."
   ]
  }
 ],
 "metadata": {
  "kernelspec": {
   "display_name": "Python 3 (ipykernel)",
   "language": "python",
   "name": "python3"
  },
  "language_info": {
   "codemirror_mode": {
    "name": "ipython",
    "version": 3
   },
   "file_extension": ".py",
   "mimetype": "text/x-python",
   "name": "python",
   "nbconvert_exporter": "python",
   "pygments_lexer": "ipython3",
   "version": "3.9.12"
  }
 },
 "nbformat": 4,
 "nbformat_minor": 5
}
