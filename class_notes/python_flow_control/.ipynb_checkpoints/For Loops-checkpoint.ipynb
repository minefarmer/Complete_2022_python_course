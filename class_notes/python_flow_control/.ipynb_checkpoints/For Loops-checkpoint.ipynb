{
 "cells": [
  {
   "cell_type": "markdown",
   "id": "f9d8919e",
   "metadata": {},
   "source": [
    "#               For Loops"
   ]
  },
  {
   "cell_type": "markdown",
   "id": "00f9e0a5",
   "metadata": {},
   "source": [
    "#                   Iterative Operations\n",
    "What if we want to do an operation iteratively?\n",
    "\n",
    "We use loops.\n",
    "\n",
    "There are two kinds of loops in Python.\n",
    "\n",
    "for loops and while loops.\n",
    "\n",
    "For loops run for specific pre-defined number of iterations.\n",
    "\n",
    "We iterate over iterables, which are Python objects that return one or more of it's elements per iteration.\n"
   ]
  },
  {
   "cell_type": "markdown",
   "id": "1348546f",
   "metadata": {},
   "source": [
    "#                    Kinds of Iterables\n",
    "\n",
    "Iterables can be:\n",
    "    Files\n",
    "    Dictionaries\n",
    "    Lists\n",
    "    Sets\n",
    "    Tuples\n",
    "    Strings\n"
   ]
  },
  {
   "cell_type": "markdown",
   "id": "d5bfa066",
   "metadata": {},
   "source": [
    "#               Indention\n",
    "\n",
    "We use the same indention we used in the if condition.\n"
   ]
  },
  {
   "cell_type": "code",
   "execution_count": 1,
   "id": "7c4beddd",
   "metadata": {},
   "outputs": [
    {
     "name": "stdout",
     "output_type": "stream",
     "text": [
      "1\n",
      "2\n",
      "3.42\n",
      "For Loop has finished!\n"
     ]
    }
   ],
   "source": [
    "my_list = [1,2,3.42]\n",
    "\n",
    "for current_element in my_list:\n",
    "    print(current_element)\n",
    "\n",
    "print(\"For Loop has finished!\")"
   ]
  },
  {
   "cell_type": "markdown",
   "id": "49a7d6dd",
   "metadata": {},
   "source": [
    "#               Range Function\n",
    "\n",
    "We can use the range function to loop over a range of values.\n"
   ]
  },
  {
   "cell_type": "code",
   "execution_count": 2,
   "id": "93fb9113",
   "metadata": {},
   "outputs": [
    {
     "name": "stdout",
     "output_type": "stream",
     "text": [
      "3.42\n",
      "3.42\n",
      "3.42\n",
      "3.42\n",
      "3.42\n",
      "3.42\n",
      "3.42\n",
      "3.42\n",
      "3.42\n",
      "3.42\n",
      "For Loop has finished\n"
     ]
    }
   ],
   "source": [
    "for current_number in range(10):\n",
    "    print(current_element)\n",
    "\n",
    "print(\"For Loop has finished\")"
   ]
  },
  {
   "cell_type": "code",
   "execution_count": 5,
   "id": "0bfcc940",
   "metadata": {},
   "outputs": [
    {
     "name": "stdout",
     "output_type": "stream",
     "text": [
      "1\n",
      "2\n",
      "3\n",
      "ahmed\n",
      "4.5\n",
      "Done\n"
     ]
    }
   ],
   "source": [
    "my_list = [1,2 , 3 , \"ahmed\", 4.5]\n",
    "\n",
    "for element in my_list:\n",
    "    print(element)\n",
    "print(\"Done\")\n"
   ]
  },
  {
   "cell_type": "code",
   "execution_count": 6,
   "id": "11124c83",
   "metadata": {},
   "outputs": [
    {
     "name": "stdout",
     "output_type": "stream",
     "text": [
      "1\n",
      "Done\n",
      "2\n",
      "Done\n",
      "3\n",
      "Done\n",
      "ahmed\n",
      "Done\n",
      "4.5\n",
      "Done\n"
     ]
    }
   ],
   "source": [
    "my_list = [1,2 , 3 , \"ahmed\", 4.5]\n",
    "\n",
    "for element in my_list:\n",
    "    print(element)\n",
    "    print(\"Done\")"
   ]
  },
  {
   "cell_type": "code",
   "execution_count": 8,
   "id": "7e87d0aa",
   "metadata": {},
   "outputs": [
    {
     "name": "stdout",
     "output_type": "stream",
     "text": [
      "0\n",
      "1\n",
      "2\n",
      "3\n",
      "4\n",
      "5\n",
      "6\n",
      "7\n",
      "8\n",
      "9\n",
      "Done\n"
     ]
    }
   ],
   "source": [
    "my_list = [1,2 , 3 , \"ahmed\", 4.5]\n",
    "\n",
    "for element in range(10):\n",
    "    print(element)\n",
    "print(\"Done\")"
   ]
  },
  {
   "cell_type": "code",
   "execution_count": 9,
   "id": "79b0d785",
   "metadata": {},
   "outputs": [
    {
     "name": "stdout",
     "output_type": "stream",
     "text": [
      "1\n",
      "3\n",
      "5\n",
      "7\n",
      "9\n",
      "Done\n"
     ]
    }
   ],
   "source": [
    "my_list = [1,2 , 3 , \"ahmed\", 4.5]\n",
    "\n",
    "for element in range(1,10, 2):\n",
    "    print(element)\n",
    "print(\"Done\")"
   ]
  }
 ],
 "metadata": {
  "interpreter": {
   "hash": "a624adbc5e596fddf72740b255048309200567f23df85867ce297e9f9d364c1b"
  },
  "kernelspec": {
   "display_name": "Python 3 (ipykernel)",
   "language": "python",
   "name": "python3"
  },
  "language_info": {
   "codemirror_mode": {
    "name": "ipython",
    "version": 3
   },
   "file_extension": ".py",
   "mimetype": "text/x-python",
   "name": "python",
   "nbconvert_exporter": "python",
   "pygments_lexer": "ipython3",
   "version": "3.9.7"
  }
 },
 "nbformat": 4,
 "nbformat_minor": 5
}
