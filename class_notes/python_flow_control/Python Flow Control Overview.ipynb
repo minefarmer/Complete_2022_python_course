{
 "cells": [
  {
   "cell_type": "markdown",
   "id": "910f95ed",
   "metadata": {},
   "source": [
    "# Python Flow Control = Part 1"
   ]
  },
  {
   "cell_type": "markdown",
   "id": "2c6ee178",
   "metadata": {},
   "source": [
    "Control Flow\n",
    "Conditional Statements\n",
    "For Loops\n",
    "While Loops\n"
   ]
  },
  {
   "cell_type": "markdown",
   "id": "b17a09f1",
   "metadata": {},
   "source": [
    "#           Conditional Statements\n",
    "\n",
    "By default, statements in the script are executed sequentially from the first to the last.\n",
    "\n",
    "If the processing logic requires so, the sequentiql flow can be altered in two ways:\n",
    "\n",
    "        Conditional execution: a block of one or more statements will be executed if a certain expression is True.\n",
    "        \n",
    "        Repetitive execution: a block of one or more statements will be reptitively ececuted as long as a certain expression is true.\n",
    "\n",
    "In this section you'll learn the decision control if, else, elif statements in Python. The comparision and logic operators are useful in controlling flow of the program.\n",
    "\n",
    "Python uses the if keyword to implement decision control. Python's syntax for executing a block vonditionally is:\n",
    "\n",
    "        Syntax\n",
    "    if[boolean expression]:\n",
    "        statement1\n",
    "        statement2\n",
    "        .......\n",
    "        statementN\n",
    "\n",
    "\n",
    "Any Booloean expression evaluating True or False appears after the if keyword. One or more statements written with the same level of indent will be executed if the Boolean expression evaluates to  True.\n",
    "\n",
    "To end the block, decrease the indention. Subsequent statements after the block will be executed out of the if condition.\n",
    "    Ex--------->    if 10<100>\n",
    "                    print(\"10 is less than 100\"\n",
    "\n",
    "In This example, the expression 10<100 evaluates to True, so it will execute the block. The if block starts from new line after:   All the statements under the if condition start with the increased indention. \n",
    "\n",
    "\n",
    "\n",
    "Let's assume that we have to write a Python program that calculates the price and quantity and applies a 10% discount if the amount exceeds 1000 dollars.\n",
    "Calculation and application of the discount is to be done only if the amount is greater than 1000, so the process is placed in a block with increased indent, following the conditional expression.\n",
    "The print statement is written after the contitonal block is over, so it will be executed if the expression is false (i.e. the amount is not greater than 100), as well as after applying the discount if the expression is true.\n",
    "\n",
    "            price=int(input(\"Enter Price: \"))\n",
    "            qty=int(input(\"Enter quanty: \"))\n",
    "            amt=price*qty\n",
    "            if amount>1000:\n",
    "                print(\"10% discount is applicable\")\n",
    "                discount=amt*10/1000\n",
    "                amount=amt-discount\n",
    "            print(\"Amount payable: \", amt)\n",
    "\n",
    "        # Data for price and quantity are greater than 1000.\n",
    "            enter Price: 1000\n",
    "            Enter Quantity: 20\n",
    "            \n",
    "\n",
    "\n"
   ]
  }
 ],
 "metadata": {
  "interpreter": {
   "hash": "a624adbc5e596fddf72740b255048309200567f23df85867ce297e9f9d364c1b"
  },
  "kernelspec": {
   "display_name": "Python 3 (ipykernel)",
   "language": "python",
   "name": "python3"
  },
  "language_info": {
   "codemirror_mode": {
    "name": "ipython",
    "version": 3
   },
   "file_extension": ".py",
   "mimetype": "text/x-python",
   "name": "python",
   "nbconvert_exporter": "python",
   "pygments_lexer": "ipython3",
   "version": "3.9.12"
  }
 },
 "nbformat": 4,
 "nbformat_minor": 5
}
