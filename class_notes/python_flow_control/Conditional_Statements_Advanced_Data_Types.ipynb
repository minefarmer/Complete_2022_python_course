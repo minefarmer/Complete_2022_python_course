{
 "cells": [
  {
   "cell_type": "markdown",
   "id": "16a72d99",
   "metadata": {},
   "source": [
    "# Conditional statements with Advanced Data types"
   ]
  },
  {
   "cell_type": "markdown",
   "id": "fdaf965e",
   "metadata": {},
   "source": [
    "Remember Lists?\n",
    "We can combine them with if conditions!"
   ]
  },
  {
   "cell_type": "code",
   "execution_count": 2,
   "id": "bf873831",
   "metadata": {},
   "outputs": [
    {
     "name": "stdout",
     "output_type": "stream",
     "text": [
      "[1, 2, 3.42]\n"
     ]
    }
   ],
   "source": [
    "my_list = [1,2,3.42]\n",
    "if 2 in my_list:\n",
    "    print(my_list)"
   ]
  },
  {
   "cell_type": "code",
   "execution_count": 6,
   "id": "a7b6409b",
   "metadata": {},
   "outputs": [
    {
     "name": "stdout",
     "output_type": "stream",
     "text": [
      "20\n"
     ]
    }
   ],
   "source": [
    "#  I can check more than one condition at a time.\n",
    "\n",
    "x = 10\n",
    "y = 20\n",
    "z = 30\n",
    "if x > y and z > y:\n",
    "    print(z)\n",
    "elif y > z or z > x:\n",
    "    print(y)\n",
    "else:\n",
    "    print(x)"
   ]
  },
  {
   "cell_type": "code",
   "execution_count": 8,
   "id": "44fa80fa",
   "metadata": {},
   "outputs": [
    {
     "name": "stdout",
     "output_type": "stream",
     "text": [
      "['1', 1, 1.0]\n"
     ]
    }
   ],
   "source": [
    "my_list = [\"1\", 1 , 1.0]\n",
    "\n",
    "if 1 in my_list:\n",
    "    print(my_list)"
   ]
  },
  {
   "cell_type": "code",
   "execution_count": 1,
   "id": "f97d347c",
   "metadata": {},
   "outputs": [
    {
     "name": "stdout",
     "output_type": "stream",
     "text": [
      "That\n"
     ]
    }
   ],
   "source": [
    "z = 10\n",
    "x = 1\n",
    "y = 5\n",
    "\n",
    "if x > y and z > y:  ## False and True --> False\n",
    "    print(\"this\")\n",
    "elif x > y or z > y:\n",
    "    print(\"That\")\n",
    "elif x > y or z > y:   ## False and True --> False\n",
    "    print(\"That\")"
   ]
  }
 ],
 "metadata": {
  "interpreter": {
   "hash": "767d51c1340bd893661ea55ea3124f6de3c7a262a8b4abca0554b478b1e2ff90"
  },
  "kernelspec": {
   "display_name": "Python 3 (ipykernel)",
   "language": "python",
   "name": "python3"
  },
  "language_info": {
   "codemirror_mode": {
    "name": "ipython",
    "version": 3
   },
   "file_extension": ".py",
   "mimetype": "text/x-python",
   "name": "python",
   "nbconvert_exporter": "python",
   "pygments_lexer": "ipython3",
   "version": "3.9.2"
  }
 },
 "nbformat": 4,
 "nbformat_minor": 5
}
