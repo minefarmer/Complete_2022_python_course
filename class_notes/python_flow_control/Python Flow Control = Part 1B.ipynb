{
 "cells": [
  {
   "cell_type": "markdown",
   "id": "fcee8fb1",
   "metadata": {},
   "source": [
    "# Python Flow Control = Part 1B\n",
    "# For and while loop"
   ]
  },
  {
   "cell_type": "markdown",
   "id": "2bff5ea5",
   "metadata": {},
   "source": [
    "Iteration means executing the same block of code over and over again. \n",
    "\n",
    "A programming structure that implements iteration is called a loop.\n",
    "\n",
    "In programmiong, there are two types of iteration, indefinite and definite:\n",
    "    With indefinite iteration, the designated block is executed repeatedly as long a some condition is met.\n",
    "    With definate iteration, the number of times the designated block will be executed is specified explicitly at the time the loop starts.\n"
   ]
  },
  {
   "cell_type": "markdown",
   "id": "2434e9f3",
   "metadata": {},
   "source": [
    "# For loop\n",
    "\n",
    "The for loop is used with sequence types such as a list, tuple and set.\n",
    "The body of the loop is executed for each member element in the sequence.\n",
    "\n",
    "        Syntax\n",
    "    for x in sequence:\n",
    "        statement1\n",
    "        statement2\n",
    "        ...\n",
    "        statementN\n",
    "\n",
    "Variable x in the for statement refers to the item at the 0 index in the sequence. The block of statements indent after the : symbol will be executed. Variable x now refers to the next item and repeats the body of the loop til the sequence is exhausted.\n",
    "\n",
    "This example demostrates the for loop with a list object.\n",
    "\n",
    "mylist = [10,20,30,40,50]\n",
    "    for i in mylist:\n",
    "        print(x)\n",
    "    {output}\n",
    "        10\n",
    "        20\n",
    "        30\n",
    "        40\n",
    "        50\n",
    "\n",
    "\n",
    "This example demonstrates the for loop with a tuple object.\n",
    "\n",
    "mytuple = (10, 20, 30, 40, 50)\n",
    "    for i in mytuple\"\n",
    "        print(i)\n",
    "    [Output]\n",
    "        10\n",
    "        20\n",
    "        30\n",
    "        40\n",
    "        50\n"
   ]
  }
 ],
 "metadata": {
  "kernelspec": {
   "display_name": "Python 3 (ipykernel)",
   "language": "python",
   "name": "python3"
  },
  "language_info": {
   "codemirror_mode": {
    "name": "ipython",
    "version": 3
   },
   "file_extension": ".py",
   "mimetype": "text/x-python",
   "name": "python",
   "nbconvert_exporter": "python",
   "pygments_lexer": "ipython3",
   "version": "3.9.12"
  }
 },
 "nbformat": 4,
 "nbformat_minor": 5
}
