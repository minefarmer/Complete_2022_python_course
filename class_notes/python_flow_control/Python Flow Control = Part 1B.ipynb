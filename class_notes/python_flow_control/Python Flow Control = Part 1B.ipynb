{
 "cells": [
  {
   "cell_type": "markdown",
   "id": "fcee8fb1",
   "metadata": {},
   "source": [
    "# Python Flow Control = Part 1B\n",
    "# For and while loop"
   ]
  },
  {
   "cell_type": "markdown",
   "id": "2bff5ea5",
   "metadata": {},
   "source": [
    "Iteration means executing the same block of code over and over again. \n",
    "\n",
    "A programming structure that implements iteration is called a loop.\n",
    "\n",
    "In programmiong, there are two types of iteration, indefinite and definite:\n",
    "    With indefinite iteration, the designated block is executed repeatedly as long a some condition is met.\n",
    "    With definate iteration, the number of times the designated block will be executed is specified explicitly at the time the loop starts.\n"
   ]
  },
  {
   "cell_type": "markdown",
   "id": "2434e9f3",
   "metadata": {},
   "source": [
    "# For loop\n",
    "\n",
    "The for loop is used with sequence types such as a list, tuple and set.\n",
    "The body of the loop is executed for each member element in the sequence.\n",
    "\n",
    "        Syntax\n",
    "    for x in sequence:\n",
    "        statement1\n",
    "        statement2\n",
    "        ...\n",
    "        statementN\n",
    "\n",
    "Variable x in the for statement refers to the item at the 0 index in the sequence. The block of statements indent after the : symbol will be executed. Variable x now refers to the next item and repeats the body of the loop til the sequence is exhausted.\n",
    "\n",
    "This example demostrates the for loop with a list object.\n",
    "\n",
    "mylist = [10,20,30,40,50]\n",
    "    for i in mylist:\n",
    "        print(x)\n",
    "    {output}\n",
    "        10\n",
    "        20\n",
    "        30\n",
    "        40\n",
    "        50\n",
    "\n",
    "\n",
    "This example demonstrates the for loop with a tuple object.\n",
    "\n",
    "mytuple = (10, 20, 30, 40, 50)\n",
    "    for i in mytuple\"\n",
    "        print(i)\n",
    "    [Output]\n",
    "        10\n",
    "        20\n",
    "        30\n",
    "        40\n",
    "        50\n"
   ]
  },
  {
   "cell_type": "markdown",
   "id": "ad7a5899",
   "metadata": {},
   "source": []
  },
  {
   "cell_type": "markdown",
   "id": "ea2a2dd5",
   "metadata": {},
   "source": [
    "#           While Loop\n",
    "\n",
    "A program, by default, follows a sequential execution of statements. A while loop statement in Python programming language repeatedly executes a target statement as ling as a given statement is true.\n",
    "\n",
    "        Syntax\n",
    "    while<expr>\n",
    "    <statement(s)>\n",
    "\n",
    "<statement(s)> represents the block to be repeatedly executed, also knon as the body of the loop.\n",
    "\n",
    "The controlling expression, <expr> typically invalves one or more variables that are initialized prior to starting the loop and then modified somewhere in the loop body.\n"
   ]
  },
  {
   "cell_type": "markdown",
   "id": "5b93c462",
   "metadata": {},
   "source": [
    "A while loop, <expr> is first evaluated in Boolean context. If it's true, the loop body is executed. Then <expr> will keep being executed, if it is still true. This continues until <expr> becomes false, at which point program execution proceeds to the first statement beyond the loop body.\n",
    "\n",
    "        Syntax:                     Example: While Loop\n",
    "    while <expr>:                   num = 0\n",
    "        <statement(s)>              while num< 5:\n",
    "                                        num = num+1\n",
    "                                        print(\"num=\",num)\n",
    "                                    Result:\n",
    "                                    num = 1\n",
    "                                    num = 2\n",
    "                                    num = 3\n",
    "                                    num = 4\n",
    "                                    num = 5\n"
   ]
  }
 ],
 "metadata": {
  "interpreter": {
   "hash": "a624adbc5e596fddf72740b255048309200567f23df85867ce297e9f9d364c1b"
  },
  "kernelspec": {
   "display_name": "Python 3 (ipykernel)",
   "language": "python",
   "name": "python3"
  },
  "language_info": {
   "codemirror_mode": {
    "name": "ipython",
    "version": 3
   },
   "file_extension": ".py",
   "mimetype": "text/x-python",
   "name": "python",
   "nbconvert_exporter": "python",
   "pygments_lexer": "ipython3",
   "version": "3.9.12"
  }
 },
 "nbformat": 4,
 "nbformat_minor": 5
}
