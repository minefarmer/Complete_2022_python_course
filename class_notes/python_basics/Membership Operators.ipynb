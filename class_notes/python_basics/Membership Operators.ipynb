{
 "cells": [
  {
   "cell_type": "markdown",
   "id": "5243adc9",
   "metadata": {},
   "source": [
    "Membership Operators"
   ]
  },
  {
   "cell_type": "markdown",
   "id": "df867492",
   "metadata": {},
   "source": [
    "            Basic Membership operators\n",
    "    Operator    Operator Symbol\n",
    "        in          in\n",
    "       not in      not in"
   ]
  },
  {
   "cell_type": "code",
   "execution_count": 6,
   "id": "6be4e1f3",
   "metadata": {},
   "outputs": [],
   "source": [
    "x = \"rich\"\n",
    "y = \"rich matson\""
   ]
  },
  {
   "cell_type": "code",
   "execution_count": 7,
   "id": "48bc6985",
   "metadata": {},
   "outputs": [
    {
     "name": "stdout",
     "output_type": "stream",
     "text": [
      "True\n"
     ]
    }
   ],
   "source": [
    "print(x in y)"
   ]
  }
 ],
 "metadata": {
  "interpreter": {
   "hash": "a624adbc5e596fddf72740b255048309200567f23df85867ce297e9f9d364c1b"
  },
  "kernelspec": {
   "display_name": "Python 3 (ipykernel)",
   "language": "python",
   "name": "python3"
  },
  "language_info": {
   "codemirror_mode": {
    "name": "ipython",
    "version": 3
   },
   "file_extension": ".py",
   "mimetype": "text/x-python",
   "name": "python",
   "nbconvert_exporter": "python",
   "pygments_lexer": "ipython3",
   "version": "3.9.12"
  }
 },
 "nbformat": 4,
 "nbformat_minor": 5
}
