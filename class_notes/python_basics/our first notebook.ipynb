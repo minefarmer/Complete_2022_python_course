{
 "cells": [
  {
   "cell_type": "code",
   "execution_count": 2,
   "id": "75135701",
   "metadata": {},
   "outputs": [
    {
     "name": "stdout",
     "output_type": "stream",
     "text": [
      "1\n"
     ]
    }
   ],
   "source": [
    "print(x)"
   ]
  },
  {
   "cell_type": "markdown",
   "id": "73940118",
   "metadata": {},
   "source": [
    "Hello World"
   ]
  },
  {
   "cell_type": "markdown",
   "id": "3afddc8e",
   "metadata": {},
   "source": [
    "# this is level one heading"
   ]
  },
  {
   "cell_type": "raw",
   "id": "90682c6a",
   "metadata": {},
   "source": [
    "## This is level 2 heading "
   ]
  },
  {
   "cell_type": "markdown",
   "id": "7d3e039c",
   "metadata": {},
   "source": [
    "## this is level two heading"
   ]
  },
  {
   "cell_type": "code",
   "execution_count": null,
   "id": "6d5128f4",
   "metadata": {},
   "outputs": [],
   "source": []
  }
 ],
 "metadata": {
  "kernelspec": {
   "display_name": "Python 3 (ipykernel)",
   "language": "python",
   "name": "python3"
  },
  "language_info": {
   "codemirror_mode": {
    "name": "ipython",
    "version": 3
   },
   "file_extension": ".py",
   "mimetype": "text/x-python",
   "name": "python",
   "nbconvert_exporter": "python",
   "pygments_lexer": "ipython3",
   "version": "3.9.12"
  }
 },
 "nbformat": 4,
 "nbformat_minor": 5
}
