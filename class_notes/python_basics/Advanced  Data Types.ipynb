{
 "cells": [
  {
   "cell_type": "markdown",
   "id": "f25dd67c",
   "metadata": {},
   "source": [
    "Python Advanced Data Types"
   ]
  },
  {
   "cell_type": "markdown",
   "id": "324c56c5",
   "metadata": {},
   "source": [
    "Lists\n",
    "\n",
    "Tuples\n",
    "\n",
    "Sets\n",
    "\n",
    "Dictionary\n",
    "\n",
    "Compound Data Structures\n"
   ]
  },
  {
   "cell_type": "markdown",
   "id": "c9f94fd8",
   "metadata": {},
   "source": [
    "            Lists\n",
    "\n",
    "The list is a collection of items of differient data types. It is an ordered sequence of items. A list object contains one or more items, not necessarily of the same type, which are seperated by a comma and enclosed in square brackets[].\n",
    "\n",
    "                    Syntax:\n",
    "                list = [value1, value2, value3,...valueN]\n",
    "\n",
    "                    A list type variable\n",
    "                names = [\"Jeff\", \"Bill\", \"Carl\", \"Rich\"]\n",
    "\n",
    "\n",
    "\n",
    "The list orderitem includes five elements. Each individual element in the sequence is accessed by the index in the square brackets[].\n",
    "\n",
    "                    Syntax:\n",
    "                A list can also contain various elements\n",
    "            orderItem=[1,\"Jeff\",\"Computer\", 75.50, True]\n",
    "\n",
    "\n",
    "\n",
    "\n",
    "A index starts with zero.\n"
   ]
  },
  {
   "cell_type": "markdown",
   "id": "8da51987",
   "metadata": {},
   "source": [
    "            Tuples\n",
    "\n",
    "Tuples: Tuple is a collection of items of any Python data type, same as the list type. Unlike the list, tuple is immutable. The tuple object contains one or more items, of the same or differient types, separated by a comma and enclosed in parentheses().\n",
    "\n",
    "                    Syntax\n",
    "                tuple = (value1,value2,valaue3...,valaueN)\n",
    "\n",
    "                    A tuple type variable:\n",
    "                names=[\"Jeff\",\"Bill:,\"Rich\",\"Carl\"]\n",
    "\n",
    "\n",
    "The tuple type can also contain elements of differient types. It's not necessary to enclose the tuple in parentheses. The tuple object can include elements seperated by comma without parentheses.\n",
    "\n",
    "                    Syntax\n",
    "                orderitem=[1, \"Jeff\", \"Computer\", 75.50, True]\n",
    "\n",
    "\n",
    "Thetuple object orderitem includes five elements. Each individual element in the sequence is accessed by the index in the square brackets[]. An index starts with zero."
   ]
  },
  {
   "cell_type": "markdown",
   "id": "6bc936cf",
   "metadata": {},
   "source": [
    "            Sets\n",
    "\n",
    "A set is a collection of data types in Python, same as the list and tuple. However, it is not an ordered collection of objects. A set object performs mathematical set operations union, intersection, differience, etc. A set object contains one or more items, not necessarily of the same type, which are separated by a comma and enclosed in curly brackets{}.\n",
    "\n",
    "A set doesn,t store duplicate objects. Even if an object is added more than once insude the curly brackets, only one copy is held in the set object. Hence, indexing and slicing operations cannot be done on a set object.\n",
    "\n",
    "                    Syntax:\n",
    "                set = {value1,value2,value3,...valueN}\n",
    "                Below is a set object:\n",
    "                S1={1, \"Bill\",75.50}"
   ]
  },
  {
   "cell_type": "markdown",
   "id": "de717b7c",
   "metadata": {},
   "source": [
    "            Dictionaries\n",
    "\n",
    "Like the list  and the tuple, dictionary is also a collection type. However, it's not an ordered sequence, and it contains key-value pairs. One or more key:value pairs separated by commas are put inside curly brackets to form a dictionary object.\n",
    "\n",
    "                    Syntax\n",
    "                dict ={key1:value1,key2:value2,...keyN:valueN}\n",
    "\n",
    "In example below, capitals is a dictionary object. The left side fo : is a key and right side of : is a value. The key should be an immutable object.\n",
    "\n",
    "                    Syntax\n",
    "                capitals={\"USA\":\"Wasington, D.C.\". \"Italy\":\"Rome\",\"India\":\"New Delhi:}\n",
    "\n",
    "\n",
    "A number, string or tuple can be used as a key. These definitions of dictionary are also valid:\n",
    "\n",
    "                    Syntax\n",
    "                numNames={1:\"One\",2:\"Two\",3:\"Three\",4:\"Four\",5:\"Five\"}\n",
    "                decNames={1.5:\"One and half\",2.5:\"Two and half\",3.5:\"Three and half\"}\n",
    "                items={(\"Parker\",\"Reynolds\",\"Camlin\"):\"pen\",(\"LG\"),\"Whirpool\",\"Samsung\"):\"Refrigerator\"}\n",
    "\n",
    "\n",
    "A dictionary with alist as a key is not valid, as the list is mutable\n",
    "\n",
    "                    Syntax      # This is not valid code\n",
    "                dict={[\"Mango\",\"Banana\"]:\"Fruit\",[\"Blue\",\"Red\"]:\"Color\"}\n",
    "                        TypeError: unhashable type: \"list\"\n",
    "\n",
    "\n",
    "A list can be used as a value:      dict={\"Fruit\":[\"Mango\",\"Banana\"], \"Color\":[\"Blue\", \"Red\"]}\n",
    "\n",
    "\n",
    "The same key cannot appear more than once in a collection. If a key appears more than once, only the last key will be retained. the value can be of any data type. One value can be assinged to more than one key.\n",
    "\n",
    "                    Syntax\n",
    "                staff={Krishna\":\"Officer\",\"Steve\":\"Manager\",\"Anil\":\"Clerk\",\"John\":\"Manager\"}\n",
    "        # In the above example the same value parameter is used more than once. However, when the key 'John' is assigned to two different values, only the latest is retained, overwriting the previous value.\n",
    "\n",
    "\n",
    "Accessing a Dictionary: Dictionary is not an ordered collection, so a value cannot be accessed using an index in square brackets. A value in a dictionary can be fetched using an the get() method. Specify the key in the get() method to retrieve it's value.\n"
   ]
  }
 ],
 "metadata": {
  "kernelspec": {
   "display_name": "Python 3 (ipykernel)",
   "language": "python",
   "name": "python3"
  },
  "language_info": {
   "codemirror_mode": {
    "name": "ipython",
    "version": 3
   },
   "file_extension": ".py",
   "mimetype": "text/x-python",
   "name": "python",
   "nbconvert_exporter": "python",
   "pygments_lexer": "ipython3",
   "version": "3.9.12"
  }
 },
 "nbformat": 4,
 "nbformat_minor": 5
}
