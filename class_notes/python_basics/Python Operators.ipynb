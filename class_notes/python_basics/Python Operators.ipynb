{
 "cells": [
  {
   "cell_type": "markdown",
   "id": "d73d5bcf",
   "metadata": {},
   "source": [
    "            Python Operators\n",
    "\n",
    "Arithmetic Operators, \n",
    "Assignment Operators, \n",
    "Comparison Operators, \n",
    "Logical operators, \n",
    "Identity Operators, \n",
    "Membership Operators,\n",
    "Bitwise Operators\n"
   ]
  }
 ],
 "metadata": {
  "kernelspec": {
   "display_name": "Python 3 (ipykernel)",
   "language": "python",
   "name": "python3"
  },
  "language_info": {
   "codemirror_mode": {
    "name": "ipython",
    "version": 3
   },
   "file_extension": ".py",
   "mimetype": "text/x-python",
   "name": "python",
   "nbconvert_exporter": "python",
   "pygments_lexer": "ipython3",
   "version": "3.9.12"
  }
 },
 "nbformat": 4,
 "nbformat_minor": 5
}
