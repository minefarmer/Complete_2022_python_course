{
 "cells": [
  {
   "cell_type": "markdown",
   "id": "ca957cb8",
   "metadata": {},
   "source": [
    "            Basic Arithmetic Operators\n",
    "    \n",
    "    Operation   Operator Symbol\n",
    "    Addition        +\n",
    "    Subtraction     -\n",
    "    Multiplication  *\n",
    "    Division        /\n",
    "\n",
    "\n",
    "            Advanced Arithmetic Operators\n",
    "  Operation ............ Operator Symbol ........... Discription  ||||||||   \n",
    "    Modulus ..........  %  ............  Remainder |||||||\n",
    "  Floor Division .....  // .......... Divide and round down  |||||||\n",
    "    Exponent .......... ** ............ Raise to a Power"
   ]
  },
  {
   "cell_type": "code",
   "execution_count": 5,
   "id": "86720713",
   "metadata": {},
   "outputs": [
    {
     "name": "stdout",
     "output_type": "stream",
     "text": [
      "7\n"
     ]
    }
   ],
   "source": [
    "first_num = 3\n",
    "second_num = 4\n",
    "\n",
    "## Add\n",
    "\n",
    "result_add = first_num + second_num\n",
    "print(result_add)\n",
    "\n"
   ]
  },
  {
   "cell_type": "code",
   "execution_count": 6,
   "id": "4b65d850",
   "metadata": {},
   "outputs": [
    {
     "name": "stdout",
     "output_type": "stream",
     "text": [
      "0.6976744186046512\n"
     ]
    }
   ],
   "source": [
    "first_num = 3\n",
    "second_num = 4.3\n",
    "\n",
    "## Division\n",
    "\n",
    "result_div = first_num / second_num\n",
    "print(result_div)"
   ]
  },
  {
   "cell_type": "code",
   "execution_count": 8,
   "id": "b64ef237",
   "metadata": {},
   "outputs": [
    {
     "name": "stdout",
     "output_type": "stream",
     "text": [
      "12.899999999999999\n"
     ]
    }
   ],
   "source": [
    "first_num = 3\n",
    "second_num = 4.3\n",
    "\n",
    "## Multiply\n",
    "\n",
    "result_mul = first_num * second_num\n",
    "print(result_mul)"
   ]
  },
  {
   "cell_type": "code",
   "execution_count": 10,
   "id": "08b0c28d",
   "metadata": {},
   "outputs": [
    {
     "name": "stdout",
     "output_type": "stream",
     "text": [
      "3.0\n"
     ]
    }
   ],
   "source": [
    "## rem\n",
    "first_num = 3\n",
    "second_num = 4.3\n",
    "\n",
    "result_rem = first_num % second_num\n",
    "print(result_rem)"
   ]
  },
  {
   "cell_type": "code",
   "execution_count": 13,
   "id": "ad9e1700",
   "metadata": {},
   "outputs": [
    {
     "name": "stdout",
     "output_type": "stream",
     "text": [
      "2\n"
     ]
    }
   ],
   "source": [
    "## divfloor\n",
    "first_num = 7\n",
    "second_num = 3\n",
    "\n",
    "result_divfloor = first_num // second_num\n",
    "print(result_divfloor)"
   ]
  },
  {
   "cell_type": "code",
   "execution_count": 14,
   "id": "5714d0ea",
   "metadata": {},
   "outputs": [
    {
     "name": "stdout",
     "output_type": "stream",
     "text": [
      "0\n",
      "4\n",
      "64\n"
     ]
    }
   ],
   "source": [
    "first_num = 8\n",
    "second_num = 2\n",
    "## Rem\n",
    "\n",
    "result_rem = first_num % second_num\n",
    "print(result_rem)\n",
    "\n",
    "result_divfloor = first_num // second_num\n",
    "print(result_divfloor)\n",
    "\n",
    "## exponent\n",
    "\n",
    "result_exp = first_num ** second_num\n",
    "print(result_exp)"
   ]
  }
 ],
 "metadata": {
  "interpreter": {
   "hash": "767d51c1340bd893661ea55ea3124f6de3c7a262a8b4abca0554b478b1e2ff90"
  },
  "kernelspec": {
   "display_name": "Python 3 (ipykernel)",
   "language": "python",
   "name": "python3"
  },
  "language_info": {
   "codemirror_mode": {
    "name": "ipython",
    "version": 3
   },
   "file_extension": ".py",
   "mimetype": "text/x-python",
   "name": "python",
   "nbconvert_exporter": "python",
   "pygments_lexer": "ipython3",
   "version": "3.9.12"
  }
 },
 "nbformat": 4,
 "nbformat_minor": 5
}
