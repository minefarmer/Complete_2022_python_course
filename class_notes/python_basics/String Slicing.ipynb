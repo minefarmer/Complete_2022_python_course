{
 "cells": [
  {
   "cell_type": "markdown",
   "id": "194296f4",
   "metadata": {},
   "source": [
    "            String slicing\n",
    "    More than one index\n",
    "\n",
    "This is called string slicing\n",
    "\n",
    "We us : to specify the slice start and end\n",
    "\n",
    "The end index is not included.\n",
    "\n",
    "\n",
    "\n",
    "    Stride\n",
    "\n",
    "By default the stride is one.\n",
    "\n",
    "If we want to change it, se use another :\n",
    "\n",
    "So, it would [start:end:stride]\n",
    "\n",
    "\n",
    "\n",
    "    Useful functions\n",
    "\n",
    "string.count(\"a\") -> Counts the occurences in a string.\n",
    "\n",
    "string.find(\"a\") -> Return the index of the first occurance.\n",
    "\n"
   ]
  },
  {
   "cell_type": "code",
   "execution_count": 9,
   "id": "9c1b72bc",
   "metadata": {},
   "outputs": [
    {
     "name": "stdout",
     "output_type": "stream",
     "text": [
      "carl matson \n"
     ]
    }
   ],
   "source": [
    "first_str = \"carl matson is teaching programming\"\n",
    "\n",
    "print(first_str [0 : 12])"
   ]
  },
  {
   "cell_type": "code",
   "execution_count": 10,
   "id": "27cfbbbc",
   "metadata": {},
   "outputs": [
    {
     "name": "stdout",
     "output_type": "stream",
     "text": [
      "clao\n"
     ]
    }
   ],
   "source": [
    "first_str = \"carl matson is teaching programming\"\n",
    "\n",
    "print(first_str [0 : 10 : 3])"
   ]
  },
  {
   "cell_type": "code",
   "execution_count": 12,
   "id": "53bd3ec0",
   "metadata": {},
   "outputs": [
    {
     "name": "stdout",
     "output_type": "stream",
     "text": [
      "cr as\n"
     ]
    }
   ],
   "source": [
    "first_str = \"carl matson is teaching programming\"\n",
    "\n",
    "print(first_str [0 : 10 : 2])"
   ]
  },
  {
   "cell_type": "code",
   "execution_count": 16,
   "id": "6305bd29",
   "metadata": {},
   "outputs": [
    {
     "name": "stdout",
     "output_type": "stream",
     "text": [
      "in\n"
     ]
    }
   ],
   "source": [
    "first_str = \"carl matson is teaching programming\"\n",
    "\n",
    "print(first_str [-3 : -1])"
   ]
  },
  {
   "cell_type": "code",
   "execution_count": 17,
   "id": "cc4c1491",
   "metadata": {},
   "outputs": [
    {
     "data": {
      "text/plain": [
       "4"
      ]
     },
     "execution_count": 17,
     "metadata": {},
     "output_type": "execute_result"
    }
   ],
   "source": [
    "first_str.count(\"a\")"
   ]
  },
  {
   "cell_type": "code",
   "execution_count": 18,
   "id": "830f0262",
   "metadata": {},
   "outputs": [
    {
     "data": {
      "text/plain": [
       "22"
      ]
     },
     "execution_count": 18,
     "metadata": {},
     "output_type": "execute_result"
    }
   ],
   "source": [
    "first_str.find(\"g\")"
   ]
  },
  {
   "cell_type": "code",
   "execution_count": 19,
   "id": "2bc78ce8",
   "metadata": {},
   "outputs": [],
   "source": [
    "start_index = first_str.find(\"g\")"
   ]
  },
  {
   "cell_type": "code",
   "execution_count": 20,
   "id": "32d885df",
   "metadata": {},
   "outputs": [
    {
     "name": "stdout",
     "output_type": "stream",
     "text": [
      "in\n"
     ]
    }
   ],
   "source": [
    "print(first_str [ -3 : -1])"
   ]
  },
  {
   "cell_type": "code",
   "execution_count": 21,
   "id": "cce6bddc",
   "metadata": {},
   "outputs": [
    {
     "name": "stdout",
     "output_type": "stream",
     "text": [
      "g p\n"
     ]
    }
   ],
   "source": [
    "print(first_str [ start_index : start_index + 3])"
   ]
  }
 ],
 "metadata": {
  "interpreter": {
   "hash": "a624adbc5e596fddf72740b255048309200567f23df85867ce297e9f9d364c1b"
  },
  "kernelspec": {
   "display_name": "Python 3 (ipykernel)",
   "language": "python",
   "name": "python3"
  },
  "language_info": {
   "codemirror_mode": {
    "name": "ipython",
    "version": 3
   },
   "file_extension": ".py",
   "mimetype": "text/x-python",
   "name": "python",
   "nbconvert_exporter": "python",
   "pygments_lexer": "ipython3",
   "version": "3.9.12"
  }
 },
 "nbformat": 4,
 "nbformat_minor": 5
}
