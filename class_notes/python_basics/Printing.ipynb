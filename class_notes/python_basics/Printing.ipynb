{
 "cells": [
  {
   "cell_type": "markdown",
   "id": "d7532152",
   "metadata": {},
   "source": [
    "            PRINT FUNCTION\n",
    "\n",
    "Te Syntax of the print function is as follows:\n",
    "\n",
    "    print(object(s), sep, end, file, flush)\n",
    "\n",
    "By default, it prints in the current Python kernel.\n",
    "\n",
    "Can be more flexable to write in a text file for example.\n",
    "\n",
    "Can print variables by writing f before the quotqtion marks and writing the variable between curly brackets.\n",
    "\n"
   ]
  },
  {
   "cell_type": "code",
   "execution_count": 1,
   "id": "0f77001b",
   "metadata": {},
   "outputs": [
    {
     "name": "stdout",
     "output_type": "stream",
     "text": [
      "this is a string\n"
     ]
    }
   ],
   "source": [
    "print(\"this is a string\")"
   ]
  },
  {
   "cell_type": "code",
   "execution_count": 2,
   "id": "27898c8a",
   "metadata": {},
   "outputs": [
    {
     "name": "stdout",
     "output_type": "stream",
     "text": [
      "3\n"
     ]
    }
   ],
   "source": [
    "x = 3\n",
    "print(x)"
   ]
  },
  {
   "cell_type": "code",
   "execution_count": 3,
   "id": "92698e25",
   "metadata": {},
   "outputs": [
    {
     "name": "stdout",
     "output_type": "stream",
     "text": [
      "The current value of X is 3\n"
     ]
    }
   ],
   "source": [
    "print(\"The current value of X is 3\")"
   ]
  },
  {
   "cell_type": "code",
   "execution_count": 4,
   "id": "6c9ec85e",
   "metadata": {},
   "outputs": [
    {
     "name": "stdout",
     "output_type": "stream",
     "text": [
      "The current value of X is 3\n"
     ]
    }
   ],
   "source": [
    "print(\"The current value of X is 3\")"
   ]
  },
  {
   "cell_type": "code",
   "execution_count": 5,
   "id": "265c5420",
   "metadata": {},
   "outputs": [
    {
     "name": "stdout",
     "output_type": "stream",
     "text": [
      "The current value of X is {x}\n"
     ]
    }
   ],
   "source": [
    "print(\"The current value of X is {x}\")"
   ]
  },
  {
   "cell_type": "code",
   "execution_count": 6,
   "id": "cdab7647",
   "metadata": {},
   "outputs": [
    {
     "name": "stdout",
     "output_type": "stream",
     "text": [
      "The current value of X is 3\n"
     ]
    }
   ],
   "source": [
    "print(f\"The current value of X is {x}\")"
   ]
  },
  {
   "cell_type": "code",
   "execution_count": 7,
   "id": "fd4890b8",
   "metadata": {},
   "outputs": [
    {
     "name": "stdout",
     "output_type": "stream",
     "text": [
      "5\n"
     ]
    }
   ],
   "source": [
    "x = 5\n",
    "print(x)"
   ]
  },
  {
   "cell_type": "code",
   "execution_count": 8,
   "id": "2b472f25",
   "metadata": {},
   "outputs": [
    {
     "name": "stdout",
     "output_type": "stream",
     "text": [
      "The current value of X is 5\n"
     ]
    }
   ],
   "source": [
    "print(f\"The current value of X is {x}\")"
   ]
  },
  {
   "cell_type": "code",
   "execution_count": 9,
   "id": "cd192088",
   "metadata": {},
   "outputs": [
    {
     "data": {
      "text/plain": [
       "'Rich Matson is learning programming'"
      ]
     },
     "execution_count": 9,
     "metadata": {},
     "output_type": "execute_result"
    }
   ],
   "source": [
    "first_str = \"{first_name} Matson is learning programming\"\n",
    "first_str.format(first_name = \"Rich\")"
   ]
  },
  {
   "cell_type": "code",
   "execution_count": 10,
   "id": "e8b11b41",
   "metadata": {},
   "outputs": [
    {
     "data": {
      "text/plain": [
       "'Roger Matson is Teaching programming'"
      ]
     },
     "execution_count": 10,
     "metadata": {},
     "output_type": "execute_result"
    }
   ],
   "source": [
    "first_str = \"{first_name} Matson is {action} programming\"\n",
    "first_str.format(first_name = \"Roger\", action=\"Teaching\")"
   ]
  }
 ],
 "metadata": {
  "interpreter": {
   "hash": "a624adbc5e596fddf72740b255048309200567f23df85867ce297e9f9d364c1b"
  },
  "kernelspec": {
   "display_name": "Python 3 (ipykernel)",
   "language": "python",
   "name": "python3"
  },
  "language_info": {
   "codemirror_mode": {
    "name": "ipython",
    "version": 3
   },
   "file_extension": ".py",
   "mimetype": "text/x-python",
   "name": "python",
   "nbconvert_exporter": "python",
   "pygments_lexer": "ipython3",
   "version": "3.9.12"
  }
 },
 "nbformat": 4,
 "nbformat_minor": 5
}
