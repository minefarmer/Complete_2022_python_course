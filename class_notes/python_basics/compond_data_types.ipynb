{
 "cells": [
  {
   "cell_type": "markdown",
   "id": "3e42be7b",
   "metadata": {},
   "source": [
    "# Compond Data Types"
   ]
  },
  {
   "cell_type": "markdown",
   "id": "f351dd23",
   "metadata": {},
   "source": [
    "Even more complex\n",
    "\n",
    "Python is very flexible in the calues of any advanced data type, other than set.\n",
    "\n",
    "So we can do the following.\n",
    "    my_dict = {1:{1:[1, 2, 3, \"ahmed\"],3.2:)(1,2,3)}}\n",
    "    my_tuple = (1, 2, {1:[\"tuple\",6]})\n",
    "    my_list = [1,(5,1,\"a\"),6.6]"
   ]
  }
 ],
 "metadata": {
  "kernelspec": {
   "display_name": "Python 3 (ipykernel)",
   "language": "python",
   "name": "python3"
  },
  "language_info": {
   "codemirror_mode": {
    "name": "ipython",
    "version": 3
   },
   "file_extension": ".py",
   "mimetype": "text/x-python",
   "name": "python",
   "nbconvert_exporter": "python",
   "pygments_lexer": "ipython3",
   "version": "3.9.12"
  }
 },
 "nbformat": 4,
 "nbformat_minor": 5
}
