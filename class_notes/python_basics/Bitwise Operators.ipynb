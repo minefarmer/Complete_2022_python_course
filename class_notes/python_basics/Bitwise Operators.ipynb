{
 "cells": [
  {
   "cell_type": "markdown",
   "id": "87fb588c",
   "metadata": {},
   "source": [
    "            Bitwise Operators"
   ]
  },
  {
   "cell_type": "markdown",
   "id": "32b2e107",
   "metadata": {},
   "source": [
    "Everything in the computer is bit level. Zeros and Ones.\n",
    "\n",
    "    Operation   Operator Symbol\n",
    "    bitwise and    &\n",
    "    bitwise or     |\n",
    "    bitwise negate ~\n",
    "    bitwise XOR    ^\n",
    "    Shifh right   >>\n",
    "    Shift left    <<"
   ]
  },
  {
   "cell_type": "code",
   "execution_count": 1,
   "id": "d771749e",
   "metadata": {},
   "outputs": [],
   "source": [
    "x = 4"
   ]
  },
  {
   "cell_type": "code",
   "execution_count": 4,
   "id": "919b91da",
   "metadata": {},
   "outputs": [
    {
     "data": {
      "text/plain": [
       "'0b11'"
      ]
     },
     "execution_count": 4,
     "metadata": {},
     "output_type": "execute_result"
    }
   ],
   "source": [
    "x = 3\n",
    "bin(x)"
   ]
  },
  {
   "cell_type": "code",
   "execution_count": 2,
   "id": "0bae4ad4",
   "metadata": {},
   "outputs": [
    {
     "data": {
      "text/plain": [
       "4"
      ]
     },
     "execution_count": 2,
     "metadata": {},
     "output_type": "execute_result"
    }
   ],
   "source": [
    "y = 0b100\n",
    "int(y)"
   ]
  },
  {
   "cell_type": "code",
   "execution_count": 10,
   "id": "d0fb4650",
   "metadata": {},
   "outputs": [
    {
     "name": "stdout",
     "output_type": "stream",
     "text": [
      "7\n"
     ]
    }
   ],
   "source": [
    "print(x ^ y)"
   ]
  },
  {
   "cell_type": "code",
   "execution_count": 8,
   "id": "755b1227",
   "metadata": {},
   "outputs": [
    {
     "data": {
      "text/plain": [
       "'0b111'"
      ]
     },
     "execution_count": 8,
     "metadata": {},
     "output_type": "execute_result"
    }
   ],
   "source": [
    "bin(7)"
   ]
  },
  {
   "cell_type": "code",
   "execution_count": 7,
   "id": "e2547109",
   "metadata": {},
   "outputs": [
    {
     "ename": "SyntaxError",
     "evalue": "invalid syntax (969587095.py, line 1)",
     "output_type": "error",
     "traceback": [
      "\u001b[1;36m  Input \u001b[1;32mIn [7]\u001b[1;36m\u001b[0m\n\u001b[1;33m    1 0 0\u001b[0m\n\u001b[1;37m      ^\u001b[0m\n\u001b[1;31mSyntaxError\u001b[0m\u001b[1;31m:\u001b[0m invalid syntax\n"
     ]
    }
   ],
   "source": [
    "1 0 0\n",
    "0 1 1 \n",
    "------\n",
    "1 1 1"
   ]
  }
 ],
 "metadata": {
  "interpreter": {
   "hash": "a624adbc5e596fddf72740b255048309200567f23df85867ce297e9f9d364c1b"
  },
  "kernelspec": {
   "display_name": "Python 3.9.12 ('base')",
   "language": "python",
   "name": "python3"
  },
  "language_info": {
   "codemirror_mode": {
    "name": "ipython",
    "version": 3
   },
   "file_extension": ".py",
   "mimetype": "text/x-python",
   "name": "python",
   "nbconvert_exporter": "python",
   "pygments_lexer": "ipython3",
   "version": "3.9.12"
  }
 },
 "nbformat": 4,
 "nbformat_minor": 5
}
