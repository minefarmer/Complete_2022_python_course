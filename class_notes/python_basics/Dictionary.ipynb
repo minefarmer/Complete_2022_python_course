{
 "cells": [
  {
   "cell_type": "markdown",
   "id": "27bffe88",
   "metadata": {},
   "source": [
    "# What is the Dictionary"
   ]
  },
  {
   "cell_type": "markdown",
   "id": "a8994057",
   "metadata": {},
   "source": [
    "            What is a Dictionary?\n",
    "\n",
    "Not like anything e discussed so far.\n",
    "\n",
    "Key-Value pair data structure.\n",
    "\n",
    "Can be indexed, but with it's key.\n",
    "\n",
    "Keys are unique!\n",
    "\n",
    "Dictionaries don't have order.\n",
    "\n",
    "We create a dictionary using curly brackets {} and colon :\n",
    "\n",
    "    my_dict = {1:2, \"ahmed\" :4,2.3:[\"a\",5,2.1]}\n",
    "    print(my_dict[4])\n",
    "\n",
    "        It will give a syntax error!\n",
    "\n",
    "\n",
    "What if we have keys that are not unique?\n",
    "\n",
    "        my_dict = {1:2, \"carl\":1,2.3:[\"a\",5,2.1], 1:5}\n",
    "        print(my_dict)\n",
    "    It will overwrite with the last key value.\n",
    "\n",
    "\n",
    "How to check if a key exist or not?\n",
    "                print(1 in my_dict)\n",
    "        It wiil print either True or False\n",
    "\n",
    "\n",
    "What if we want to get the values of the key without a syntax error?\n",
    "\n",
    "We use the get function!\n",
    "        print(mt_dict.get(1))\n",
    "        print(my_dict.get(2))\n",
    "\n",
    "\n",
    "What if we have keys that are not unique?\n",
    "        my_dict = {1:2, \"ahmed\":1,2.3:[\"a\",5,2.1],1:5}\n",
    "        print(my_dict)\n",
    "    It will overwrite with the latest value.\n"
   ]
  },
  {
   "cell_type": "code",
   "execution_count": 1,
   "id": "d28a1946",
   "metadata": {},
   "outputs": [],
   "source": [
    "my_dict = { 1 : \"ahmed\" , \"wael\" : 4.2 , 1.3 : 1.1}"
   ]
  },
  {
   "cell_type": "code",
   "execution_count": 2,
   "id": "7fe2f395",
   "metadata": {},
   "outputs": [
    {
     "name": "stdout",
     "output_type": "stream",
     "text": [
      "<class 'dict'>\n"
     ]
    }
   ],
   "source": [
    "print(type(my_dict))"
   ]
  },
  {
   "cell_type": "code",
   "execution_count": 3,
   "id": "2dc079cc",
   "metadata": {},
   "outputs": [
    {
     "ename": "KeyError",
     "evalue": "0",
     "output_type": "error",
     "traceback": [
      "\u001b[1;31m---------------------------------------------------------------------------\u001b[0m",
      "\u001b[1;31mKeyError\u001b[0m                                  Traceback (most recent call last)",
      "\u001b[1;32mc:\\Users\\pgold\\MatsHub\\Complete_2022_python_course\\class_notes\\python_basics\\Dictionary.ipynb Cell 5'\u001b[0m in \u001b[0;36m<cell line: 1>\u001b[1;34m()\u001b[0m\n\u001b[1;32m----> <a href='vscode-notebook-cell:/c%3A/Users/pgold/MatsHub/Complete_2022_python_course/class_notes/python_basics/Dictionary.ipynb#ch0000004?line=0'>1</a>\u001b[0m my_dict[\u001b[39m0\u001b[39;49m]\n",
      "\u001b[1;31mKeyError\u001b[0m: 0"
     ]
    }
   ],
   "source": [
    "my_dict[0]"
   ]
  },
  {
   "cell_type": "code",
   "execution_count": 4,
   "id": "88b6df8d",
   "metadata": {},
   "outputs": [
    {
     "data": {
      "text/plain": [
       "'ahmed'"
      ]
     },
     "execution_count": 4,
     "metadata": {},
     "output_type": "execute_result"
    }
   ],
   "source": [
    "my_dict[1]"
   ]
  },
  {
   "cell_type": "code",
   "execution_count": 5,
   "id": "3e1c60e6",
   "metadata": {},
   "outputs": [
    {
     "data": {
      "text/plain": [
       "4.2"
      ]
     },
     "execution_count": 5,
     "metadata": {},
     "output_type": "execute_result"
    }
   ],
   "source": [
    "my_dict[\"wael\"]"
   ]
  },
  {
   "cell_type": "code",
   "execution_count": 6,
   "id": "666aca9c",
   "metadata": {},
   "outputs": [
    {
     "name": "stdout",
     "output_type": "stream",
     "text": [
      "hello\n"
     ]
    },
    {
     "ename": "KeyError",
     "evalue": "0",
     "output_type": "error",
     "traceback": [
      "\u001b[1;31m---------------------------------------------------------------------------\u001b[0m",
      "\u001b[1;31mKeyError\u001b[0m                                  Traceback (most recent call last)",
      "\u001b[1;32mc:\\Users\\pgold\\MatsHub\\Complete_2022_python_course\\class_notes\\python_basics\\Dictionary.ipynb Cell 8'\u001b[0m in \u001b[0;36m<cell line: 2>\u001b[1;34m()\u001b[0m\n\u001b[0;32m      <a href='vscode-notebook-cell:/c%3A/Users/pgold/MatsHub/Complete_2022_python_course/class_notes/python_basics/Dictionary.ipynb#ch0000007?line=0'>1</a>\u001b[0m \u001b[39mprint\u001b[39m(\u001b[39m\"\u001b[39m\u001b[39mhello\u001b[39m\u001b[39m\"\u001b[39m)\n\u001b[1;32m----> <a href='vscode-notebook-cell:/c%3A/Users/pgold/MatsHub/Complete_2022_python_course/class_notes/python_basics/Dictionary.ipynb#ch0000007?line=1'>2</a>\u001b[0m my_dict[\u001b[39m0\u001b[39;49m] \n\u001b[0;32m      <a href='vscode-notebook-cell:/c%3A/Users/pgold/MatsHub/Complete_2022_python_course/class_notes/python_basics/Dictionary.ipynb#ch0000007?line=2'>3</a>\u001b[0m \u001b[39mprint\u001b[39m(\u001b[39m\"\u001b[39m\u001b[39mhello\u001b[39m\u001b[39m\"\u001b[39m)\n",
      "\u001b[1;31mKeyError\u001b[0m: 0"
     ]
    }
   ],
   "source": [
    "print(\"hello\")\n",
    "my_dict[0] \n",
    "print(\"hello\")"
   ]
  },
  {
   "cell_type": "code",
   "execution_count": 8,
   "id": "2dde3332",
   "metadata": {},
   "outputs": [
    {
     "name": "stdout",
     "output_type": "stream",
     "text": [
      "hello\n",
      "None\n",
      "hello\n"
     ]
    }
   ],
   "source": [
    "print(\"hello\")\n",
    "print(my_dict.get(0)) \n",
    "print(\"hello\")"
   ]
  },
  {
   "cell_type": "code",
   "execution_count": 9,
   "id": "39d3b90d",
   "metadata": {},
   "outputs": [],
   "source": [
    "my_dict = { 1 : [\"ahmed\",1 , 2], \"wael\" : 4.2 , 1.3 : 1.1}"
   ]
  },
  {
   "cell_type": "code",
   "execution_count": 10,
   "id": "af8b6661",
   "metadata": {},
   "outputs": [
    {
     "name": "stdout",
     "output_type": "stream",
     "text": [
      "['ahmed', 1, 2]\n"
     ]
    }
   ],
   "source": [
    "print(my_dict[1])"
   ]
  }
 ],
 "metadata": {
  "interpreter": {
   "hash": "a624adbc5e596fddf72740b255048309200567f23df85867ce297e9f9d364c1b"
  },
  "kernelspec": {
   "display_name": "Python 3.9.12 ('base')",
   "language": "python",
   "name": "python3"
  },
  "language_info": {
   "codemirror_mode": {
    "name": "ipython",
    "version": 3
   },
   "file_extension": ".py",
   "mimetype": "text/x-python",
   "name": "python",
   "nbconvert_exporter": "python",
   "pygments_lexer": "ipython3",
   "version": "3.9.12"
  }
 },
 "nbformat": 4,
 "nbformat_minor": 5
}
