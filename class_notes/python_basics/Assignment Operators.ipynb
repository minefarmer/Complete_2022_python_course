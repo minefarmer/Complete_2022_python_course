{
 "cells": [
  {
   "cell_type": "code",
   "execution_count": null,
   "id": "54b4beff",
   "metadata": {},
   "outputs": [],
   "source": [
    "            Basic Assignment Operators\n",
    "    Operation       Operator Symbol \n",
    "      Assign            =\n",
    "Subtract and Assign     +=\n",
    "Multiply and Assign     *=\n",
    "\n",
    "\n",
    "            Advanced Assigment Operators\n",
    "    Operation       Operator Symbol\n",
    "Modulus and Assign       %=\n",
    "Exponent and Assign      *=\n",
    "   Floor and Assign      //="
   ]
  },
  {
   "cell_type": "code",
   "execution_count": null,
   "id": "5ddc6f4c",
   "metadata": {},
   "outputs": [],
   "source": [
    "x = 3\n",
    "\n",
    "x = x + 4\n",
    "x += 4\n",
    "\n",
    "x = x /4\n",
    "x /= 4\n",
    "\n",
    "x = x * 4\n",
    "x *= 4\n"
   ]
  }
 ],
 "metadata": {
  "kernelspec": {
   "display_name": "Python 3 (ipykernel)",
   "language": "python",
   "name": "python3"
  },
  "language_info": {
   "codemirror_mode": {
    "name": "ipython",
    "version": 3
   },
   "file_extension": ".py",
   "mimetype": "text/x-python",
   "name": "python",
   "nbconvert_exporter": "python",
   "pygments_lexer": "ipython3",
   "version": "3.9.12"
  }
 },
 "nbformat": 4,
 "nbformat_minor": 5
}
