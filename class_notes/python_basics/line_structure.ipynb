{
 "cells": [
  {
   "cell_type": "markdown",
   "id": "96d5f0b0",
   "metadata": {},
   "source": [
    "Line Structure"
   ]
  },
  {
   "cell_type": "code",
   "execution_count": 2,
   "id": "5b24e6e6",
   "metadata": {},
   "outputs": [],
   "source": [
    "x = 1\n",
    "y = 1 \n",
    "z = 1\n",
    "x = 1 ; y = 1 ; z = 1\n",
    "# this is a comment\n",
    "\n",
    "b = 1 + 2\n",
    "\n",
    "b = 1 \\\n",
    "+ 2\n",
    "\n"
   ]
  },
  {
   "cell_type": "code",
   "execution_count": 3,
   "id": "9a514703",
   "metadata": {},
   "outputs": [
    {
     "data": {
      "text/plain": [
       "'\\nthis is the first commented line\\nthis is the second commented line\\n\\n'"
      ]
     },
     "execution_count": 3,
     "metadata": {},
     "output_type": "execute_result"
    }
   ],
   "source": [
    "summing = 3+4 # this line sums two numbers\n",
    "\n",
    "# ths is a comment line\n",
    "\n",
    "\"\"\"\n",
    "this is the first commented line\n",
    "this is the second commented line\n",
    "\n",
    "\"\"\"\n"
   ]
  },
  {
   "cell_type": "code",
   "execution_count": null,
   "id": "eb080314",
   "metadata": {},
   "outputs": [],
   "source": []
  }
 ],
 "metadata": {
  "interpreter": {
   "hash": "234ef6a6594d3bde90fb6d953f8819a2c5e4558d5396c2bcf39db0789736caa3"
  },
  "kernelspec": {
   "display_name": "Python 3.10.4 64-bit (windows store)",
   "language": "python",
   "name": "python3"
  },
  "language_info": {
   "codemirror_mode": {
    "name": "ipython",
    "version": 3
   },
   "file_extension": ".py",
   "mimetype": "text/x-python",
   "name": "python",
   "nbconvert_exporter": "python",
   "pygments_lexer": "ipython3",
   "version": "3.10.4"
  }
 },
 "nbformat": 4,
 "nbformat_minor": 5
}
