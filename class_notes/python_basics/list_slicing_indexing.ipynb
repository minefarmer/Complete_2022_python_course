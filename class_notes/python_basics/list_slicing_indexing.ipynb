{
 "cells": [
  {
   "cell_type": "markdown",
   "id": "5561718a",
   "metadata": {},
   "source": [
    "List Index and Slicing"
   ]
  },
  {
   "cell_type": "markdown",
   "id": "4c50d1a1",
   "metadata": {},
   "source": [
    "We care about two things\n",
    "1. Mutability\n",
    "2. Ordering\n",
    "\n",
    "Remember strings?\n",
    "\n",
    "Actually, string is a list of characters.\n",
    "\n",
    "Thus, all the rules we discussed before apply here.\n",
    "\n",
    "\n",
    "            List slicing and Indexing\n",
    "\n",
    "Zero-based\n",
    "\n",
    "Square brackets to define it.\n",
    "\n",
    "Comma seperated elements.\n",
    "\n",
    "Colon to slice\n",
    "\n",
    "The string code will not work\n",
    "    List_example = [1,2,3]\n",
    "    List_exxample[1] = \"ahmed\"\n",
    "    String_example = \"Python Course\"\n",
    "    String_example[0] =\"A\"\n",
    "\n",
    "This is because strings are immutable\n",
    "\n",
    "Lists are mutable\n"
   ]
  },
  {
   "cell_type": "code",
   "execution_count": 1,
   "id": "de5519eb",
   "metadata": {},
   "outputs": [],
   "source": [
    "list_example = [1,2,3]\n",
    "list_example[1] = \"ahmed\""
   ]
  },
  {
   "cell_type": "code",
   "execution_count": 2,
   "id": "d14692ab",
   "metadata": {},
   "outputs": [
    {
     "name": "stdout",
     "output_type": "stream",
     "text": [
      "[1, 'ahmed', 3]\n"
     ]
    }
   ],
   "source": [
    "print(list_example)"
   ]
  },
  {
   "cell_type": "code",
   "execution_count": 3,
   "id": "cde02a60",
   "metadata": {},
   "outputs": [
    {
     "data": {
      "text/plain": [
       "'P'"
      ]
     },
     "execution_count": 3,
     "metadata": {},
     "output_type": "execute_result"
    }
   ],
   "source": [
    "String_example = \"Python Course\"\n",
    "String_example[0]"
   ]
  },
  {
   "cell_type": "code",
   "execution_count": 4,
   "id": "4470ae0b",
   "metadata": {},
   "outputs": [
    {
     "ename": "TypeError",
     "evalue": "'str' object does not support item assignment",
     "output_type": "error",
     "traceback": [
      "\u001b[0;31m---------------------------------------------------------------------------\u001b[0m",
      "\u001b[0;31mTypeError\u001b[0m                                 Traceback (most recent call last)",
      "\u001b[1;32m/home/carl/Desktop/MatsHub/Complete_2022_python_course/class_notes/python_basics/list_slicing_indexing.ipynb Cell 6'\u001b[0m in \u001b[0;36m<cell line: 2>\u001b[0;34m()\u001b[0m\n\u001b[1;32m      <a href='vscode-notebook-cell:/home/carl/Desktop/MatsHub/Complete_2022_python_course/class_notes/python_basics/list_slicing_indexing.ipynb#ch0000005?line=0'>1</a>\u001b[0m String_example \u001b[39m=\u001b[39m \u001b[39m\"\u001b[39m\u001b[39mPython Course\u001b[39m\u001b[39m\"\u001b[39m\n\u001b[0;32m----> <a href='vscode-notebook-cell:/home/carl/Desktop/MatsHub/Complete_2022_python_course/class_notes/python_basics/list_slicing_indexing.ipynb#ch0000005?line=1'>2</a>\u001b[0m String_example[\u001b[39m0\u001b[39m] \u001b[39m=\u001b[39m \u001b[39m\"\u001b[39m\u001b[39mA\u001b[39m\u001b[39m\"\u001b[39m\n",
      "\u001b[0;31mTypeError\u001b[0m: 'str' object does not support item assignment"
     ]
    }
   ],
   "source": [
    "String_example = \"Python Course\"\n",
    "String_example[0] = \"A\""
   ]
  }
 ],
 "metadata": {
  "interpreter": {
   "hash": "767d51c1340bd893661ea55ea3124f6de3c7a262a8b4abca0554b478b1e2ff90"
  },
  "kernelspec": {
   "display_name": "Python 3 (ipykernel)",
   "language": "python",
   "name": "python3"
  },
  "language_info": {
   "codemirror_mode": {
    "name": "ipython",
    "version": 3
   },
   "file_extension": ".py",
   "mimetype": "text/x-python",
   "name": "python",
   "nbconvert_exporter": "python",
   "pygments_lexer": "ipython3",
   "version": "3.9.12"
  }
 },
 "nbformat": 4,
 "nbformat_minor": 5
}
