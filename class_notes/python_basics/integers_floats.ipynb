{
 "cells": [
  {
   "cell_type": "markdown",
   "id": "e6a669dd",
   "metadata": {},
   "source": [
    "            Intergers\n",
    "\n",
    "The most basic data type, yet one of the most frequently used.\n",
    "\n",
    "We don't need to declare the type of any variable. Python infers the data type.\n",
    "\n",
    "For example, when we write ==3, Python will creat a variable called x which will have int as it's datatype.\n",
    "\n",
    "We can see this by writing type(x).\n",
    "\n",
    "\n",
    "\n",
    "            Float\n",
    "\n",
    "For example, when we write x=3.0, Python will create a variable called x which will have float as it's datatype.\n",
    "\n",
    "We can see this by writing type(x).\n",
    "\n",
    "Performing an arithmetic operation between a float and an interger results in a float automatically.\n",
    "\n",
    "We can use scientific notation (10(x)) as follows x = .4e7\n",
    "\n",
    "Any number bigger than 1.8 X 10(308) will be treated as infinity.\n",
    "\n",
    "Any number less than 5.0 X 10(-324) will be tratd as zero.\n",
    "\n",
    "This is a common issue with floation-point rpresentation. I can dive deeper here.\n"
   ]
  },
  {
   "cell_type": "raw",
   "id": "4f13bcd9",
   "metadata": {},
   "source": [
    "Intergers and Floats"
   ]
  },
  {
   "cell_type": "code",
   "execution_count": 1,
   "id": "2cd682d2",
   "metadata": {},
   "outputs": [],
   "source": [
    "int =1"
   ]
  },
  {
   "cell_type": "code",
   "execution_count": 2,
   "id": "7e5e3b81",
   "metadata": {},
   "outputs": [],
   "source": [
    "first_num = 1"
   ]
  },
  {
   "cell_type": "code",
   "execution_count": 3,
   "id": "5d337ac6",
   "metadata": {},
   "outputs": [
    {
     "name": "stdout",
     "output_type": "stream",
     "text": [
      "<class 'int'>\n"
     ]
    }
   ],
   "source": [
    "print(type(first_num))"
   ]
  },
  {
   "cell_type": "code",
   "execution_count": 8,
   "id": "4116ff7c",
   "metadata": {},
   "outputs": [
    {
     "name": "stdout",
     "output_type": "stream",
     "text": [
      "<class 'float'>\n"
     ]
    }
   ],
   "source": [
    "second_num = 1.0\n",
    "print(type(second_num))"
   ]
  },
  {
   "cell_type": "code",
   "execution_count": 10,
   "id": "befad3bd",
   "metadata": {},
   "outputs": [
    {
     "name": "stdout",
     "output_type": "stream",
     "text": [
      "2.0\n"
     ]
    }
   ],
   "source": [
    "sum_nums = first_num + second_num\n",
    "print(sum_nums)"
   ]
  },
  {
   "cell_type": "code",
   "execution_count": 11,
   "id": "74395842",
   "metadata": {},
   "outputs": [
    {
     "name": "stdout",
     "output_type": "stream",
     "text": [
      "<class 'float'>\n"
     ]
    }
   ],
   "source": [
    "sum_nums = first_num + second_num\n",
    "print(type(sum_nums))"
   ]
  },
  {
   "cell_type": "code",
   "execution_count": null,
   "id": "2edc43e1",
   "metadata": {},
   "outputs": [],
   "source": []
  }
 ],
 "metadata": {
  "interpreter": {
   "hash": "234ef6a6594d3bde90fb6d953f8819a2c5e4558d5396c2bcf39db0789736caa3"
  },
  "kernelspec": {
   "display_name": "Python 3 (ipykernel)",
   "language": "python",
   "name": "python3"
  },
  "language_info": {
   "codemirror_mode": {
    "name": "ipython",
    "version": 3
   },
   "file_extension": ".py",
   "mimetype": "text/x-python",
   "name": "python",
   "nbconvert_exporter": "python",
   "pygments_lexer": "ipython3",
   "version": "3.10.4"
  }
 },
 "nbformat": 4,
 "nbformat_minor": 5
}
