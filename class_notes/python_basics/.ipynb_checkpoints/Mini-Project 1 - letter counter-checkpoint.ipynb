{
 "cells": [
  {
   "cell_type": "markdown",
   "id": "df142ee2",
   "metadata": {},
   "source": [
    "            Mini-Project 1\n",
    "\n",
    "    In this project, we want to:\n",
    "\n",
    "Print a welcome message to the user.\n",
    "\n",
    "Take a string (message) and a letter from the user.\n",
    "\n",
    "Count how many times this letter occured.\n",
    "\n",
    "Calculate the percentage of the letter in the message.\n",
    "\n",
    "Print the outputs to the user.\n",
    "\n",
    "\n",
    "PRINT THE WELCOME MESSAGE"
   ]
  },
  {
   "cell_type": "code",
   "execution_count": null,
   "id": "8580af41",
   "metadata": {},
   "outputs": [],
   "source": [
    "\"Welcome to the first mini project! I am an application that takes a message and a letter from you. My task is to count how many times this letter occured and to calculat it's percentage.\""
   ]
  },
  {
   "cell_type": "markdown",
   "id": "87c065c1",
   "metadata": {},
   "source": [
    "Get the user Inputs"
   ]
  },
  {
   "cell_type": "code",
   "execution_count": null,
   "id": "a13dc146",
   "metadata": {},
   "outputs": [
    {
     "name": "stdout",
     "output_type": "stream",
     "text": [
      "rich\n"
     ]
    }
   ],
   "source": [
    "user_message = input()"
   ]
  },
  {
   "cell_type": "code",
   "execution_count": null,
   "id": "8a96ad09",
   "metadata": {},
   "outputs": [
    {
     "name": "stdout",
     "output_type": "stream",
     "text": [
      "please enter your messagerich\n"
     ]
    }
   ],
   "source": [
    "user_message = input(\"please enter your message\")"
   ]
  },
  {
   "cell_type": "code",
   "execution_count": null,
   "id": "d929e49a",
   "metadata": {},
   "outputs": [
    {
     "name": "stdout",
     "output_type": "stream",
     "text": [
      "rich\n"
     ]
    }
   ],
   "source": [
    "print(user_message)"
   ]
  },
  {
   "cell_type": "raw",
   "id": "83ed5f26",
   "metadata": {},
   "source": [
    "<!-- the above do not work in vsc = per the course -->"
   ]
  },
  {
   "cell_type": "markdown",
   "id": "5265da0d",
   "metadata": {},
   "source": [
    "Get user Inputs"
   ]
  },
  {
   "cell_type": "code",
   "execution_count": null,
   "id": "7d59fd97",
   "metadata": {},
   "outputs": [
    {
     "name": "stdout",
     "output_type": "stream",
     "text": [
      "please enter your message this poem is so good\n",
      "Please enter the letter o\n"
     ]
    }
   ],
   "source": [
    "user_message = input(\"please enter your message \")\n",
    "user_letter = input(\"Please enter the letter \")"
   ]
  },
  {
   "cell_type": "code",
   "execution_count": null,
   "id": "2ec5f1ad",
   "metadata": {},
   "outputs": [
    {
     "name": "stdout",
     "output_type": "stream",
     "text": [
      "this poem is so good\n"
     ]
    }
   ],
   "source": [
    "print(user_message)"
   ]
  },
  {
   "cell_type": "markdown",
   "id": "1c7e3431",
   "metadata": {},
   "source": [
    "Count the occurrences"
   ]
  },
  {
   "cell_type": "code",
   "execution_count": null,
   "id": "0db0b8a3",
   "metadata": {},
   "outputs": [],
   "source": [
    "len(user_message)"
   ]
  }
 ],
 "metadata": {
  "interpreter": {
   "hash": "a624adbc5e596fddf72740b255048309200567f23df85867ce297e9f9d364c1b"
  },
  "kernelspec": {
   "display_name": "Python 3 (ipykernel)",
   "language": "python",
   "name": "python3"
  },
  "language_info": {
   "codemirror_mode": {
    "name": "ipython",
    "version": 3
   },
   "file_extension": ".py",
   "mimetype": "text/x-python",
   "name": "python",
   "nbconvert_exporter": "python",
   "pygments_lexer": "ipython3",
   "version": "3.9.12"
  }
 },
 "nbformat": 4,
 "nbformat_minor": 5
}
