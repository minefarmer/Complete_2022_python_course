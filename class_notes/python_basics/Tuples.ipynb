{
 "cells": [
  {
   "cell_type": "markdown",
   "id": "3e764e95",
   "metadata": {},
   "source": [
    "            Tuples"
   ]
  },
  {
   "cell_type": "markdown",
   "id": "5651a1d5",
   "metadata": {},
   "source": [
    "What is a Tuple?\n",
    "\n",
    "Special case of a list where the elements can not change.\n",
    "\n",
    "So, tuple is immutable\n",
    "\n",
    "We create a tuple using circuler brackets()\n",
    "\n",
    "Indexing and slicing are the same as lists.\n",
    "\n",
    "\n",
    "\n",
    "            What is a tuple?\n",
    "\n",
    "This code will give a syntax error!         My_tuple = (1,2,3)\n",
    "                                            My_tuple[1] = 1\n",
    "It will give a syntax error!\n"
   ]
  },
  {
   "cell_type": "code",
   "execution_count": 1,
   "id": "589ef7c4",
   "metadata": {},
   "outputs": [
    {
     "name": "stdout",
     "output_type": "stream",
     "text": [
      "<class 'tuple'>\n"
     ]
    }
   ],
   "source": [
    "my_tuple = (1, 2, 5.3)\n",
    "print(type(my_tuple))"
   ]
  },
  {
   "cell_type": "code",
   "execution_count": 2,
   "id": "142c9324",
   "metadata": {},
   "outputs": [
    {
     "ename": "TypeError",
     "evalue": "'tuple' object does not support item assignment",
     "output_type": "error",
     "traceback": [
      "\u001b[0;31m---------------------------------------------------------------------------\u001b[0m",
      "\u001b[0;31mTypeError\u001b[0m                                 Traceback (most recent call last)",
      "\u001b[1;32m/home/carl/Desktop/MatsHub/Complete_2022_python_course/class_notes/python_basics/Tuples.ipynb Cell 4'\u001b[0m in \u001b[0;36m<cell line: 1>\u001b[0;34m()\u001b[0m\n\u001b[0;32m----> <a href='vscode-notebook-cell:/home/carl/Desktop/MatsHub/Complete_2022_python_course/class_notes/python_basics/Tuples.ipynb#ch0000003?line=0'>1</a>\u001b[0m my_tuple[\u001b[39m1\u001b[39m] \u001b[39m=\u001b[39m \u001b[39m4\u001b[39m\n",
      "\u001b[0;31mTypeError\u001b[0m: 'tuple' object does not support item assignment"
     ]
    }
   ],
   "source": [
    "my_tuple[1] = 4"
   ]
  }
 ],
 "metadata": {
  "interpreter": {
   "hash": "767d51c1340bd893661ea55ea3124f6de3c7a262a8b4abca0554b478b1e2ff90"
  },
  "kernelspec": {
   "display_name": "Python 3 (ipykernel)",
   "language": "python",
   "name": "python3"
  },
  "language_info": {
   "codemirror_mode": {
    "name": "ipython",
    "version": 3
   },
   "file_extension": ".py",
   "mimetype": "text/x-python",
   "name": "python",
   "nbconvert_exporter": "python",
   "pygments_lexer": "ipython3",
   "version": "3.9.2"
  }
 },
 "nbformat": 4,
 "nbformat_minor": 5
}
