{
 "cells": [
  {
   "cell_type": "markdown",
   "id": "bb665863",
   "metadata": {},
   "source": [
    "String overview"
   ]
  },
  {
   "cell_type": "code",
   "execution_count": 1,
   "id": "f6c8bf0a",
   "metadata": {},
   "outputs": [
    {
     "name": "stdout",
     "output_type": "stream",
     "text": [
      "<class 'str'>\n"
     ]
    }
   ],
   "source": [
    "first_str = ''\n",
    "print(type(first_str))"
   ]
  },
  {
   "cell_type": "code",
   "execution_count": 2,
   "id": "d3834cde",
   "metadata": {},
   "outputs": [
    {
     "ename": "SyntaxError",
     "evalue": "invalid syntax (3853508250.py, line 1)",
     "output_type": "error",
     "traceback": [
      "\u001b[0;36m  Input \u001b[0;32mIn [2]\u001b[0;36m\u001b[0m\n\u001b[0;31m    'I'm a programmer'\u001b[0m\n\u001b[0m       ^\u001b[0m\n\u001b[0;31mSyntaxError\u001b[0m\u001b[0;31m:\u001b[0m invalid syntax\n"
     ]
    }
   ],
   "source": [
    "'I'm a programmer'"
   ]
  },
  {
   "cell_type": "code",
   "execution_count": 3,
   "id": "d408d8b1",
   "metadata": {},
   "outputs": [
    {
     "data": {
      "text/plain": [
       "\"I'm a programmer\""
      ]
     },
     "execution_count": 3,
     "metadata": {},
     "output_type": "execute_result"
    }
   ],
   "source": [
    "\"I'm a programmer\""
   ]
  },
  {
   "cell_type": "code",
   "execution_count": 4,
   "id": "adbdb986",
   "metadata": {},
   "outputs": [
    {
     "name": "stdout",
     "output_type": "stream",
     "text": [
      "This is the first \this is the second'\n"
     ]
    }
   ],
   "source": [
    "third_str = \"This is the first \\this is the second'\"\n",
    "print(third_str)"
   ]
  }
 ],
 "metadata": {
  "kernelspec": {
   "display_name": "Python 3 (ipykernel)",
   "language": "python",
   "name": "python3"
  },
  "language_info": {
   "codemirror_mode": {
    "name": "ipython",
    "version": 3
   },
   "file_extension": ".py",
   "mimetype": "text/x-python",
   "name": "python",
   "nbconvert_exporter": "python",
   "pygments_lexer": "ipython3",
   "version": "3.9.12"
  }
 },
 "nbformat": 4,
 "nbformat_minor": 5
}
