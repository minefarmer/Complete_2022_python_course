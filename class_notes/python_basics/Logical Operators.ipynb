{
 "cells": [
  {
   "cell_type": "markdown",
   "id": "f876cf16",
   "metadata": {},
   "source": [
    "Logical Operators"
   ]
  },
  {
   "cell_type": "markdown",
   "id": "bcef5c35",
   "metadata": {},
   "source": [
    "            Basic Logical Operators\n",
    "    Operation           Operator Symbol\n",
    "    Negate condition    not\n",
    "    Either condition    or\n",
    "    Both Condition      and\n",
    "\n",
    "\n",
    "            What is true and what is false?  \n",
    "        False                               True\n",
    "Zero numerical values -> 0, 0.0, 0.0+0      Anything else\n",
    "        Empty String\n",
    "        Empty Objects\n",
    "        None Keyword\n"
   ]
  },
  {
   "cell_type": "markdown",
   "id": "8aa41454",
   "metadata": {},
   "source": [
    "            Truthiness VS Equality\n",
    "\n",
    "If I check the truthiness of an empty string using the built-in function bool(\"\"), you will find it as False.\n",
    "\n",
    "However, if you check the equality with the equality operator, you will be confused, as both statements will be False\n",
    "    |print(\"\"==False)       |\n",
    "\n",
    "    |print(\"\"==True\")       \n",
    "\n",
    "\n",
    "To understand the problem and the solution better, let's go to our friend, Stack Overflow! -->  Understanding the truthfulness of python strings "
   ]
  },
  {
   "cell_type": "code",
   "execution_count": 1,
   "id": "d7984a88",
   "metadata": {},
   "outputs": [
    {
     "name": "stdout",
     "output_type": "stream",
     "text": [
      "False\n"
     ]
    }
   ],
   "source": [
    "x = 4 \n",
    "\n",
    "y = 5\n",
    "\n",
    "print( x == 5)"
   ]
  },
  {
   "cell_type": "code",
   "execution_count": 2,
   "id": "1be4892a",
   "metadata": {},
   "outputs": [
    {
     "name": "stdout",
     "output_type": "stream",
     "text": [
      "True\n"
     ]
    }
   ],
   "source": [
    "x = 4 \n",
    "\n",
    "y = 5\n",
    "\n",
    "print( not x == 5)"
   ]
  },
  {
   "cell_type": "code",
   "execution_count": 3,
   "id": "2e18c59d",
   "metadata": {},
   "outputs": [
    {
     "name": "stdout",
     "output_type": "stream",
     "text": [
      "True\n"
     ]
    }
   ],
   "source": [
    "x = 4 \n",
    "\n",
    "y = 5\n",
    "\n",
    "print( x == 5 or y == 5)"
   ]
  },
  {
   "cell_type": "code",
   "execution_count": 4,
   "id": "9fb0afe2",
   "metadata": {},
   "outputs": [
    {
     "name": "stdout",
     "output_type": "stream",
     "text": [
      "True\n"
     ]
    }
   ],
   "source": [
    "x = 4 \n",
    "\n",
    "y = 5\n",
    "\n",
    "print( False or True)"
   ]
  },
  {
   "cell_type": "code",
   "execution_count": 5,
   "id": "9feb4398",
   "metadata": {},
   "outputs": [
    {
     "name": "stdout",
     "output_type": "stream",
     "text": [
      "False\n"
     ]
    }
   ],
   "source": [
    "x = 4 \n",
    "\n",
    "y = 5\n",
    "\n",
    "print( False and True)"
   ]
  },
  {
   "cell_type": "code",
   "execution_count": 6,
   "id": "8b4114c1",
   "metadata": {},
   "outputs": [
    {
     "name": "stdout",
     "output_type": "stream",
     "text": [
      "False\n"
     ]
    }
   ],
   "source": [
    "empty_str = \"\",\n",
    "\n",
    "print(empty_str == True)"
   ]
  },
  {
   "cell_type": "code",
   "execution_count": 7,
   "id": "5b5426a6",
   "metadata": {},
   "outputs": [
    {
     "name": "stdout",
     "output_type": "stream",
     "text": [
      "False\n"
     ]
    }
   ],
   "source": [
    "empty_str = \"\",\n",
    "\n",
    "print(empty_str == False)"
   ]
  },
  {
   "cell_type": "code",
   "execution_count": 8,
   "id": "1e7b2aa7",
   "metadata": {},
   "outputs": [
    {
     "name": "stdout",
     "output_type": "stream",
     "text": [
      "False\n"
     ]
    }
   ],
   "source": [
    "empty_str = \"\",\n",
    "\n",
    "print(bool(empty_str) == False)"
   ]
  },
  {
   "cell_type": "code",
   "execution_count": 9,
   "id": "9854aa05",
   "metadata": {},
   "outputs": [
    {
     "data": {
      "text/plain": [
       "True"
      ]
     },
     "execution_count": 9,
     "metadata": {},
     "output_type": "execute_result"
    }
   ],
   "source": [
    "bool(empty_str)"
   ]
  }
 ],
 "metadata": {
  "interpreter": {
   "hash": "a624adbc5e596fddf72740b255048309200567f23df85867ce297e9f9d364c1b"
  },
  "kernelspec": {
   "display_name": "Python 3.9.12 ('base')",
   "language": "python",
   "name": "python3"
  },
  "language_info": {
   "codemirror_mode": {
    "name": "ipython",
    "version": 3
   },
   "file_extension": ".py",
   "mimetype": "text/x-python",
   "name": "python",
   "nbconvert_exporter": "python",
   "pygments_lexer": "ipython3",
   "version": "3.9.12"
  }
 },
 "nbformat": 4,
 "nbformat_minor": 5
}
