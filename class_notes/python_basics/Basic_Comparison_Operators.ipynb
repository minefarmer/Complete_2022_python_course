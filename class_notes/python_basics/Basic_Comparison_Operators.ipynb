{
 "cells": [
  {
   "cell_type": "code",
   "execution_count": null,
   "id": "30620b4e",
   "metadata": {},
   "outputs": [],
   "source": [
    "            Basic Comparison Operators\n",
    "    Operation       Operator Symbol\n",
    "      Equal to          ==\n",
    "      Less than         <\n",
    "  Less than or Equal    <=\n",
    "    Greater than        >\n",
    " Greater than or equal  >="
   ]
  },
  {
   "cell_type": "markdown",
   "id": "112d10f6",
   "metadata": {},
   "source": [
    "            Floating Point Problem\n",
    "\n",
    "Remember the floating-point problem when we discissed the data types?\n",
    "\n",
    "What do I think the result of this should be?\n",
    "\n",
    "                    1.1 + 2.2 == 3.3\n",
    "\n",
    "            It should be True, right?\n",
    "\n",
    "\n",
    "The answer is NO!\n",
    "\n",
    "This is not an error problem in Python.\n",
    "\n",
    "In fact, it is a limitation of the hardware itself.\n",
    "\n",
    "More info about the problem is in the officioa Python docs.\n",
    "\n",
    "Rounding can be a work around, but I have to be careful."
   ]
  },
  {
   "cell_type": "code",
   "execution_count": 3,
   "id": "a5629fb7",
   "metadata": {},
   "outputs": [
    {
     "name": "stdout",
     "output_type": "stream",
     "text": [
      "False\n"
     ]
    }
   ],
   "source": [
    "first_num = 4\n",
    "second_num = 5.2\n",
    "\n",
    "print((first_num + 3.2) == second_num)"
   ]
  },
  {
   "cell_type": "code",
   "execution_count": 4,
   "id": "2c4126ad",
   "metadata": {},
   "outputs": [
    {
     "name": "stdout",
     "output_type": "stream",
     "text": [
      "True\n"
     ]
    }
   ],
   "source": [
    "first_num = 2\n",
    "second_num = 5\n",
    "\n",
    "print(first_num < second_num)"
   ]
  }
 ],
 "metadata": {
  "interpreter": {
   "hash": "767d51c1340bd893661ea55ea3124f6de3c7a262a8b4abca0554b478b1e2ff90"
  },
  "kernelspec": {
   "display_name": "Python 3 (ipykernel)",
   "language": "python",
   "name": "python3"
  },
  "language_info": {
   "codemirror_mode": {
    "name": "ipython",
    "version": 3
   },
   "file_extension": ".py",
   "mimetype": "text/x-python",
   "name": "python",
   "nbconvert_exporter": "python",
   "pygments_lexer": "ipython3",
   "version": "3.9.12"
  }
 },
 "nbformat": 4,
 "nbformat_minor": 5
}
