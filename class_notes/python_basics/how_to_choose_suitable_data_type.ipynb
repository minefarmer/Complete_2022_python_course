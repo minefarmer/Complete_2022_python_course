{
 "cells": [
  {
   "cell_type": "markdown",
   "id": "dc77ce1e",
   "metadata": {},
   "source": [
    "How to choose the suitable data type"
   ]
  },
  {
   "cell_type": "markdown",
   "id": "5a428333",
   "metadata": {},
   "source": [
    "Use lists when we do not have any special cases that we want to take care of, and we want our list to be ordered for indexing."
   ]
  },
  {
   "cell_type": "markdown",
   "id": "344f2c9d",
   "metadata": {},
   "source": [
    "Use tuples only when we are sure that the values inside them should not be changed no matter what, so this is the best way to assure that.\n",
    "\n",
    "Use Dictionaries when we want to have some sort of relationship between some unique variable and other non-unique variables, as we only concerned with the key.\n",
    "\n",
    "Use sets when we know that any repeated data will be redundant. So, sets can be very efficient in ignoring redundant data and increases the performance of any algorithm.\n"
   ]
  }
 ],
 "metadata": {
  "kernelspec": {
   "display_name": "Python 3 (ipykernel)",
   "language": "python",
   "name": "python3"
  },
  "language_info": {
   "codemirror_mode": {
    "name": "ipython",
    "version": 3
   },
   "file_extension": ".py",
   "mimetype": "text/x-python",
   "name": "python",
   "nbconvert_exporter": "python",
   "pygments_lexer": "ipython3",
   "version": "3.9.12"
  }
 },
 "nbformat": 4,
 "nbformat_minor": 5
}
