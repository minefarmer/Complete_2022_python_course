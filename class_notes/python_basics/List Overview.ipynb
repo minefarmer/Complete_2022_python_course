{
 "cells": [
  {
   "cell_type": "markdown",
   "id": "a3f15efc",
   "metadata": {},
   "source": [
    "List Overview"
   ]
  },
  {
   "cell_type": "markdown",
   "id": "a4fac4e6",
   "metadata": {},
   "source": [
    "            What is a list? \n",
    "\n",
    "Given the data types we know so far, do I think we can store many thingd in the same variable?\n",
    "    The answer is NO!\n",
    "\n",
    "Thus, we need a more complex data type that can store multiple objects/things in the same variable!\n",
    "\n",
    "The simplest and most straightforward one is the list.\n",
    "\n",
    "List is a collection of any objects.\n",
    "\n",
    "We use square brackets []\n",
    "\n",
    "We seperate between elements using comma,\n",
    "\n",
    "As we see, lists can be powerful in storing data.\n",
    "\n",
    "However, it's true power is revieled when e use indexing and slicing.\n"
   ]
  },
  {
   "cell_type": "code",
   "execution_count": 1,
   "id": "a469aaa5",
   "metadata": {},
   "outputs": [],
   "source": [
    "x = 1\n",
    "y = 2.5\n",
    "z = \"ahmed\"\n",
    "b = True\n"
   ]
  },
  {
   "cell_type": "code",
   "execution_count": 2,
   "id": "3d1ec43e",
   "metadata": {},
   "outputs": [],
   "source": [
    "my_list = [1, 2.5, \"ahmed\" , True]"
   ]
  },
  {
   "cell_type": "code",
   "execution_count": 3,
   "id": "8f98f28f",
   "metadata": {},
   "outputs": [
    {
     "name": "stdout",
     "output_type": "stream",
     "text": [
      "[1, 2.5, 'ahmed', True]\n"
     ]
    }
   ],
   "source": [
    "print(my_list)"
   ]
  },
  {
   "cell_type": "code",
   "execution_count": 4,
   "id": "d0cba63a",
   "metadata": {},
   "outputs": [
    {
     "name": "stdout",
     "output_type": "stream",
     "text": [
      "<class 'list'>\n"
     ]
    }
   ],
   "source": [
    "print(type(my_list))"
   ]
  }
 ],
 "metadata": {
  "interpreter": {
   "hash": "767d51c1340bd893661ea55ea3124f6de3c7a262a8b4abca0554b478b1e2ff90"
  },
  "kernelspec": {
   "display_name": "Python 3 (ipykernel)",
   "language": "python",
   "name": "python3"
  },
  "language_info": {
   "codemirror_mode": {
    "name": "ipython",
    "version": 3
   },
   "file_extension": ".py",
   "mimetype": "text/x-python",
   "name": "python",
   "nbconvert_exporter": "python",
   "pygments_lexer": "ipython3",
   "version": "3.9.12"
  }
 },
 "nbformat": 4,
 "nbformat_minor": 5
}
