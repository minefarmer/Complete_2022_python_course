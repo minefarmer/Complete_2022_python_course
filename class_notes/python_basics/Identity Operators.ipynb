{
 "cells": [
  {
   "cell_type": "markdown",
   "id": "6e01861f",
   "metadata": {},
   "source": [
    "            Basic Identity Operators"
   ]
  },
  {
   "cell_type": "markdown",
   "id": "15a5a99b",
   "metadata": {},
   "source": [
    "    Operation   Operator Symbol\n",
    "        is          is\n",
    "      not is      not is     "
   ]
  },
  {
   "cell_type": "code",
   "execution_count": null,
   "id": "00ace047",
   "metadata": {},
   "outputs": [],
   "source": [
    "The equality operator checks of the values are the same.\n",
    "\n",
    "The is operator checks if the variables(objects) are the same."
   ]
  },
  {
   "cell_type": "code",
   "execution_count": 2,
   "id": "64c08868",
   "metadata": {},
   "outputs": [
    {
     "name": "stdout",
     "output_type": "stream",
     "text": [
      "True\n"
     ]
    }
   ],
   "source": [
    "x = 1000\n",
    "y = 1000\n",
    "print(x == y) # Equality operator, Comparing VALUES "
   ]
  },
  {
   "cell_type": "code",
   "execution_count": 3,
   "id": "119c9e9f",
   "metadata": {},
   "outputs": [
    {
     "name": "stdout",
     "output_type": "stream",
     "text": [
      "False\n"
     ]
    }
   ],
   "source": [
    "print(x is y) # Identity operator , comparing VARIABLES ( MEMORY ADDRESS)"
   ]
  },
  {
   "cell_type": "code",
   "execution_count": 4,
   "id": "caa1690a",
   "metadata": {},
   "outputs": [
    {
     "data": {
      "text/plain": [
       "1516178363024"
      ]
     },
     "execution_count": 4,
     "metadata": {},
     "output_type": "execute_result"
    }
   ],
   "source": [
    "id(x)"
   ]
  },
  {
   "cell_type": "code",
   "execution_count": 5,
   "id": "6bb18773",
   "metadata": {},
   "outputs": [
    {
     "data": {
      "text/plain": [
       "1516178362960"
      ]
     },
     "execution_count": 5,
     "metadata": {},
     "output_type": "execute_result"
    }
   ],
   "source": [
    "id(y)"
   ]
  },
  {
   "cell_type": "code",
   "execution_count": 6,
   "id": "7ee2458d",
   "metadata": {},
   "outputs": [],
   "source": [
    "x = 10\n",
    "y = 10"
   ]
  },
  {
   "cell_type": "code",
   "execution_count": 7,
   "id": "0bae7f80",
   "metadata": {},
   "outputs": [
    {
     "name": "stdout",
     "output_type": "stream",
     "text": [
      "True\n"
     ]
    }
   ],
   "source": [
    "print(x is y)"
   ]
  },
  {
   "cell_type": "code",
   "execution_count": 8,
   "id": "b9ceb501",
   "metadata": {},
   "outputs": [
    {
     "data": {
      "text/plain": [
       "1518211656272"
      ]
     },
     "execution_count": 8,
     "metadata": {},
     "output_type": "execute_result"
    }
   ],
   "source": [
    "id(x)"
   ]
  },
  {
   "cell_type": "code",
   "execution_count": 9,
   "id": "f439c6c8",
   "metadata": {},
   "outputs": [
    {
     "data": {
      "text/plain": [
       "1518211656272"
      ]
     },
     "execution_count": 9,
     "metadata": {},
     "output_type": "execute_result"
    }
   ],
   "source": [
    "id(y)"
   ]
  }
 ],
 "metadata": {
  "interpreter": {
   "hash": "a624adbc5e596fddf72740b255048309200567f23df85867ce297e9f9d364c1b"
  },
  "kernelspec": {
   "display_name": "Python 3.9.12 ('base')",
   "language": "python",
   "name": "python3"
  },
  "language_info": {
   "codemirror_mode": {
    "name": "ipython",
    "version": 3
   },
   "file_extension": ".py",
   "mimetype": "text/x-python",
   "name": "python",
   "nbconvert_exporter": "python",
   "pygments_lexer": "ipython3",
   "version": "3.9.12"
  }
 },
 "nbformat": 4,
 "nbformat_minor": 5
}
