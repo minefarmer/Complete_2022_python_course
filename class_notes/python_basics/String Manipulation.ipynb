{
 "cells": [
  {
   "cell_type": "markdown",
   "id": "94f78879",
   "metadata": {},
   "source": [
    "String Manipulation"
   ]
  },
  {
   "cell_type": "code",
   "execution_count": 1,
   "id": "40011e01",
   "metadata": {},
   "outputs": [
    {
     "name": "stdout",
     "output_type": "stream",
     "text": [
      "ahmedwael\n"
     ]
    }
   ],
   "source": [
    "first_str = \"ahmed\"\n",
    "second_str = \"wael\"\n",
    "third_str = first_str + second_str  ## adding two string\n",
    "print(third_str)"
   ]
  },
  {
   "cell_type": "code",
   "execution_count": 2,
   "id": "c57ed2da",
   "metadata": {},
   "outputs": [
    {
     "name": "stdout",
     "output_type": "stream",
     "text": [
      "ahmed wael\n"
     ]
    }
   ],
   "source": [
    "first_str = \"ahmed\"\n",
    "second_str = \"wael\"\n",
    "third_str = first_str +\" \"+ second_str  ## adding two string\n",
    "print(third_str)"
   ]
  },
  {
   "cell_type": "markdown",
   "id": "5acae3f0",
   "metadata": {},
   "source": []
  },
  {
   "cell_type": "code",
   "execution_count": 3,
   "id": "c3fe20d2",
   "metadata": {},
   "outputs": [
    {
     "ename": "TypeError",
     "evalue": "can't multiply sequence by non-int of type 'str'",
     "output_type": "error",
     "traceback": [
      "\u001b[0;31m---------------------------------------------------------------------------\u001b[0m",
      "\u001b[0;31mTypeError\u001b[0m                                 Traceback (most recent call last)",
      "Input \u001b[0;32mIn [3]\u001b[0m, in \u001b[0;36m<cell line: 1>\u001b[0;34m()\u001b[0m\n\u001b[0;32m----> 1\u001b[0m third_str \u001b[38;5;241m=\u001b[39m \u001b[43mfirst_str\u001b[49m\u001b[43m \u001b[49m\u001b[38;5;241;43m*\u001b[39;49m\u001b[43m \u001b[49m\u001b[43msecond_str\u001b[49m\n",
      "\u001b[0;31mTypeError\u001b[0m: can't multiply sequence by non-int of type 'str'"
     ]
    }
   ],
   "source": [
    "third_str = first_str * second_str"
   ]
  },
  {
   "cell_type": "code",
   "execution_count": 6,
   "id": "c5e442ed",
   "metadata": {},
   "outputs": [
    {
     "name": "stdout",
     "output_type": "stream",
     "text": [
      "ahmedahmedahmed\n"
     ]
    }
   ],
   "source": [
    "third_str = first_str * 3  ## multiply a string by an integer\n",
    "print(third_str)"
   ]
  },
  {
   "cell_type": "code",
   "execution_count": 7,
   "id": "64f7f14f",
   "metadata": {},
   "outputs": [
    {
     "data": {
      "text/plain": [
       "True"
      ]
     },
     "execution_count": 7,
     "metadata": {},
     "output_type": "execute_result"
    }
   ],
   "source": [
    "first_str = \"ahmed\"\n",
    "second_str = \"ahmed wael\"\n",
    "first_str in second_str"
   ]
  },
  {
   "cell_type": "code",
   "execution_count": 8,
   "id": "ad327559",
   "metadata": {},
   "outputs": [
    {
     "data": {
      "text/plain": [
       "5"
      ]
     },
     "execution_count": 8,
     "metadata": {},
     "output_type": "execute_result"
    }
   ],
   "source": [
    "len(first_str)"
   ]
  },
  {
   "cell_type": "code",
   "execution_count": 9,
   "id": "96af4f1d",
   "metadata": {},
   "outputs": [
    {
     "data": {
      "text/plain": [
       "5"
      ]
     },
     "execution_count": 9,
     "metadata": {},
     "output_type": "execute_result"
    }
   ],
   "source": [
    "int('5')"
   ]
  },
  {
   "cell_type": "code",
   "execution_count": 10,
   "id": "62471e1e",
   "metadata": {},
   "outputs": [
    {
     "data": {
      "text/plain": [
       "'1.4'"
      ]
     },
     "execution_count": 10,
     "metadata": {},
     "output_type": "execute_result"
    }
   ],
   "source": [
    "str('1.4')"
   ]
  },
  {
   "cell_type": "code",
   "execution_count": null,
   "id": "c3ceb2b6",
   "metadata": {},
   "outputs": [],
   "source": []
  }
 ],
 "metadata": {
  "interpreter": {
   "hash": "767d51c1340bd893661ea55ea3124f6de3c7a262a8b4abca0554b478b1e2ff90"
  },
  "kernelspec": {
   "display_name": "Python 3 (ipykernel)",
   "language": "python",
   "name": "python3"
  },
  "language_info": {
   "codemirror_mode": {
    "name": "ipython",
    "version": 3
   },
   "file_extension": ".py",
   "mimetype": "text/x-python",
   "name": "python",
   "nbconvert_exporter": "python",
   "pygments_lexer": "ipython3",
   "version": "3.9.12"
  }
 },
 "nbformat": 4,
 "nbformat_minor": 5
}
