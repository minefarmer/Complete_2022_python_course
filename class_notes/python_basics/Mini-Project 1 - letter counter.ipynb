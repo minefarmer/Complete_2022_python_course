{
 "cells": [
  {
   "cell_type": "markdown",
   "id": "df142ee2",
   "metadata": {},
   "source": [
    "            Mini-Project 1\n",
    "\n",
    "    In this project, we want to:\n",
    "\n",
    "Print a welcome message to the user.\n",
    "\n",
    "Take a string (message) and a letter from the user.\n",
    "\n",
    "Count how many times this letter occured.\n",
    "\n",
    "Calculate the percentage of the letter in the message.\n",
    "\n",
    "Print the outputs to the user.\n",
    "\n",
    "\n",
    "PRINT THE WELCOME MESSAGE"
   ]
  },
  {
   "cell_type": "code",
   "execution_count": 5,
   "id": "8580af41",
   "metadata": {},
   "outputs": [
    {
     "data": {
      "text/plain": [
       "\"Welcome to the first mini project! I am an application that takes a message and a letter from you. My task is to count how many times this letter occured and to calculat it's percentage.\""
      ]
     },
     "execution_count": 5,
     "metadata": {},
     "output_type": "execute_result"
    }
   ],
   "source": [
    "\"Welcome to the first mini project! I am an application that takes a message and a letter from you. My task is to count how many times this letter occured and to calculat it's percentage.\""
   ]
  },
  {
   "cell_type": "markdown",
   "id": "87c065c1",
   "metadata": {},
   "source": [
    "Get the user Inputs"
   ]
  }
 ],
 "metadata": {
  "interpreter": {
   "hash": "a624adbc5e596fddf72740b255048309200567f23df85867ce297e9f9d364c1b"
  },
  "kernelspec": {
   "display_name": "Python 3 (ipykernel)",
   "language": "python",
   "name": "python3"
  },
  "language_info": {
   "codemirror_mode": {
    "name": "ipython",
    "version": 3
   },
   "file_extension": ".py",
   "mimetype": "text/x-python",
   "name": "python",
   "nbconvert_exporter": "python",
   "pygments_lexer": "ipython3",
   "version": "3.9.12"
  }
 },
 "nbformat": 4,
 "nbformat_minor": 5
}
