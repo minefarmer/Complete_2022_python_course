{
 "cells": [
  {
   "cell_type": "markdown",
   "id": "b7d451f2",
   "metadata": {},
   "source": [
    "# Sets"
   ]
  },
  {
   "cell_type": "markdown",
   "id": "c57a8531",
   "metadata": {},
   "source": [
    "What is a set?"
   ]
  },
  {
   "cell_type": "markdown",
   "id": "f710a22b",
   "metadata": {},
   "source": [
    "Special case of a list where the elements can only be unique.\n",
    "\n",
    "Set can not be indexed.\n",
    "\n",
    "So, set is immutable.\n",
    "\n",
    "Set doesn't have order.\n",
    "\n",
    "We create  a set using curly brackets {}\n",
    "    My_set = {1, 2, 3}          My_set = {1, 2, 3}\n",
    "    My_set[1] = 1               print(My_set[1])\n",
    "Both will give a syntax error ! # Because they are immutable.\n",
    "\n",
    "What if we have repeated objects?\n",
    "                My_set= {1,2,3,1}\n",
    "                print(My_set)\n",
    "It will print only the unique values.  # the last one(1) will not be printed.\n",
    "\n",
    "\n"
   ]
  },
  {
   "cell_type": "code",
   "execution_count": 1,
   "id": "97533911",
   "metadata": {},
   "outputs": [
    {
     "name": "stdout",
     "output_type": "stream",
     "text": [
      "{1, 3.2, 'ahmed'}\n"
     ]
    }
   ],
   "source": [
    "my_set = {1, 3.2 , \"ahmed\" }\n",
    "print(my_set)"
   ]
  },
  {
   "cell_type": "code",
   "execution_count": 2,
   "id": "6ebaf245",
   "metadata": {},
   "outputs": [
    {
     "name": "stdout",
     "output_type": "stream",
     "text": [
      "<class 'set'>\n"
     ]
    }
   ],
   "source": [
    "print(type(my_set))"
   ]
  },
  {
   "cell_type": "code",
   "execution_count": 4,
   "id": "7c18c374",
   "metadata": {},
   "outputs": [
    {
     "ename": "TypeError",
     "evalue": "'set' object is not subscriptable",
     "output_type": "error",
     "traceback": [
      "\u001b[1;31m---------------------------------------------------------------------------\u001b[0m",
      "\u001b[1;31mTypeError\u001b[0m                                 Traceback (most recent call last)",
      "\u001b[1;32mc:\\Users\\pgold\\MatsHub\\Complete_2022_python_course\\class_notes\\python_basics\\Sets.ipynb Cell 6'\u001b[0m in \u001b[0;36m<cell line: 1>\u001b[1;34m()\u001b[0m\n\u001b[1;32m----> <a href='vscode-notebook-cell:/c%3A/Users/pgold/MatsHub/Complete_2022_python_course/class_notes/python_basics/Sets.ipynb#ch0000005?line=0'>1</a>\u001b[0m \u001b[39mprint\u001b[39m(my_set[\u001b[39m1\u001b[39;49m])\n",
      "\u001b[1;31mTypeError\u001b[0m: 'set' object is not subscriptable"
     ]
    }
   ],
   "source": [
    "print(my_set[1])"
   ]
  },
  {
   "cell_type": "code",
   "execution_count": 5,
   "id": "ecfd3382",
   "metadata": {},
   "outputs": [],
   "source": [
    "my_set = {1, 1, 1, 1, \"ahmed\", \"ahmed\", \"ahmed\"}"
   ]
  },
  {
   "cell_type": "code",
   "execution_count": 8,
   "id": "11ca8327",
   "metadata": {},
   "outputs": [
    {
     "name": "stdout",
     "output_type": "stream",
     "text": [
      "{1, 'ahmed'}\n"
     ]
    }
   ],
   "source": [
    "print(my_set)  # It only prints one 1 and one 'ahmed'"
   ]
  }
 ],
 "metadata": {
  "interpreter": {
   "hash": "a624adbc5e596fddf72740b255048309200567f23df85867ce297e9f9d364c1b"
  },
  "kernelspec": {
   "display_name": "Python 3.9.12 ('base')",
   "language": "python",
   "name": "python3"
  },
  "language_info": {
   "codemirror_mode": {
    "name": "ipython",
    "version": 3
   },
   "file_extension": ".py",
   "mimetype": "text/x-python",
   "name": "python",
   "nbconvert_exporter": "python",
   "pygments_lexer": "ipython3",
   "version": "3.9.12"
  }
 },
 "nbformat": 4,
 "nbformat_minor": 5
}
