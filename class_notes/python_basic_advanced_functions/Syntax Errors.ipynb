{
 "cells": [
  {
   "cell_type": "markdown",
   "id": "e434793a",
   "metadata": {},
   "source": [
    "#                           Syntax Errors\n",
    "    What is a syntax error?\n",
    "Known as parsing errors, as the Python interpreter parses the whole code to convert it to byte code before being executed.\n",
    "Most common type of errors for beginners.\n",
    "Easy to understand and overcome.\n",
    "Unrelated to correctness of the code's logic.\n",
    "I mus fix ti for the code to even runm.\n",
    "If there are multiple syntax errors, the code will highlight only the first one.\n",
    "\n",
    "    How to read the syntax error!\n",
    "The output of this code:\n",
    "        first_num   = 20\n",
    "        1secondnum  = 30\n",
    "        third_num   = 50\n",
    "        forth num   = 100\n",
    "\n",
    "will be as follows\n",
    "        File \"<ipython-input-5-3b85272a7245>\", line 2\n",
    "            1secondnum = 30\n",
    "        \n",
    "        SyntaxError: invalid syntax\n",
    "\n",
    "The file name\n",
    "The exponent or caret sign\n",
    "Th line number\n",
    "The error message\n",
    "\n",
    "If we fix the first error and run the code again.\n",
    "the code will be interpeted till line 4.\n",
    "This is where it will stop as there is another error.\n"
   ]
  }
 ],
 "metadata": {
  "kernelspec": {
   "display_name": "Python 3 (ipykernel)",
   "language": "python",
   "name": "python3"
  },
  "language_info": {
   "codemirror_mode": {
    "name": "ipython",
    "version": 3
   },
   "file_extension": ".py",
   "mimetype": "text/x-python",
   "name": "python",
   "nbconvert_exporter": "python",
   "pygments_lexer": "ipython3",
   "version": "3.9.7"
  }
 },
 "nbformat": 4,
 "nbformat_minor": 5
}
