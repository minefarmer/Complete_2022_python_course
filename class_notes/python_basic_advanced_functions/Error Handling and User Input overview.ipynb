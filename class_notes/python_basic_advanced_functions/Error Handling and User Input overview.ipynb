{
 "cells": [
  {
   "cell_type": "markdown",
   "id": "f2ffa4d7",
   "metadata": {},
   "source": [
    "# Error Handling and User Input Overview\n",
    "\n",
    "Error handling\n",
    "User Input\n",
    "Syntax Errors\n",
    "Exceptions\n"
   ]
  }
 ],
 "metadata": {
  "kernelspec": {
   "display_name": "Python 3 (ipykernel)",
   "language": "python",
   "name": "python3"
  },
  "language_info": {
   "codemirror_mode": {
    "name": "ipython",
    "version": 3
   },
   "file_extension": ".py",
   "mimetype": "text/x-python",
   "name": "python",
   "nbconvert_exporter": "python",
   "pygments_lexer": "ipython3",
   "version": "3.9.12"
  }
 },
 "nbformat": 4,
 "nbformat_minor": 5
}
