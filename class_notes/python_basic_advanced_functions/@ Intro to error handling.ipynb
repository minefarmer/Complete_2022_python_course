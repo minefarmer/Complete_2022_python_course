{
 "cells": [
  {
   "cell_type": "markdown",
   "id": "4383edab",
   "metadata": {},
   "source": [
    "# Intro to error handling\n",
    "\n",
    "            What could go wrong?"
   ]
  },
  {
   "cell_type": "markdown",
   "id": "b30879d8",
   "metadata": {},
   "source": [
    "Almost anything in the world can have errors at some point, especially in programming!\n",
    "\n",
    "Remember our very simple multiplication function?\n",
    "\n",
    "What if we use it with strings?\n",
    "\n",
    "We will have an error!\n",
    "\n",
    "In more complex functions and programs, we need to handle even bigger errors."
   ]
  },
  {
   "cell_type": "markdown",
   "id": "b8dc06b8",
   "metadata": {},
   "source": [
    "            Error TYpes\n",
    "1. Syntax Errors:\n",
    "    We saw it before. Look at it as a grammatical error.\n",
    "    The code won't run under any condition.\n",
    "\n",
    "2. Exceptions:\n",
    "    1. Cac happes even if there are no syntax errors.\n",
    "    2. The code will stop if some conditions happen.\n",
    "    3. We need to catch and handle this condition, so the code won't stop.\n"
   ]
  }
 ],
 "metadata": {
  "interpreter": {
   "hash": "143d2740fa7885280d88cdaad3dbdadb51fa40347825ef5e3d2acba7c4a72194"
  },
  "kernelspec": {
   "display_name": "Python 3 (ipykernel)",
   "language": "python",
   "name": "python3"
  },
  "language_info": {
   "codemirror_mode": {
    "name": "ipython",
    "version": 3
   },
   "file_extension": ".py",
   "mimetype": "text/x-python",
   "name": "python",
   "nbconvert_exporter": "python",
   "pygments_lexer": "ipython3",
   "version": "3.9.12"
  }
 },
 "nbformat": 4,
 "nbformat_minor": 5
}
