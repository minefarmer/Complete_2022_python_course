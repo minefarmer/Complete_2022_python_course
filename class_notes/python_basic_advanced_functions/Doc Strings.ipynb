{
 "cells": [
  {
   "cell_type": "markdown",
   "id": "7e2efafd",
   "metadata": {},
   "source": [
    "# Doc Strings"
   ]
  },
  {
   "cell_type": "markdown",
   "id": "27395bf8",
   "metadata": {},
   "source": [
    "            Documentation\n",
    "Doc Strings, short for Documentation Strings. is cricial fir documentating Python Functions.\n",
    "Very simp;e, just use triple quotation strings in the line after the function header."
   ]
  },
  {
   "cell_type": "code",
   "execution_count": 3,
   "id": "bbefbadb",
   "metadata": {},
   "outputs": [
    {
     "data": {
      "text/plain": [
       "'If we have a complex function, we can add more details to the docstring as follows '"
      ]
     },
     "execution_count": 3,
     "metadata": {},
     "output_type": "execute_result"
    }
   ],
   "source": [
    "# Documentation\n",
    "\"\"\"If we have a complex function, we can add more details to the docstring as follows \"\"\""
   ]
  }
 ],
 "metadata": {
  "interpreter": {
   "hash": "143d2740fa7885280d88cdaad3dbdadb51fa40347825ef5e3d2acba7c4a72194"
  },
  "kernelspec": {
   "display_name": "Python 3 (ipykernel)",
   "language": "python",
   "name": "python3"
  },
  "language_info": {
   "codemirror_mode": {
    "name": "ipython",
    "version": 3
   },
   "file_extension": ".py",
   "mimetype": "text/x-python",
   "name": "python",
   "nbconvert_exporter": "python",
   "pygments_lexer": "ipython3",
   "version": "3.9.12"
  }
 },
 "nbformat": 4,
 "nbformat_minor": 5
}
