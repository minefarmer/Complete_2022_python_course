{
 "cells": [
  {
   "cell_type": "markdown",
   "id": "3c391c30",
   "metadata": {},
   "source": [
    "#                       Python help function"
   ]
  },
  {
   "cell_type": "markdown",
   "id": "9759b9ea",
   "metadata": {},
   "source": [
    "                    NO NEED TO MEMORIZE\n",
    "Python has hundreds of built-in functions.\n",
    "Each function can have one or more inputs and outputs.\n",
    "No need to remember how to use any of them.\n",
    "For example, if I write help(print), the output will be as follows.\n",
    "\n",
    "Help on built-in function print in module builtins:\n",
    "\n",
    "print(...)\n",
    "    print(value, ..., sep=' ', end='\\n', file=sys.stdout, flush=False)\n",
    "\n",
    "    Prints the values to a stream, or to sys.stdout by default.\n",
    "    Optional keyword arguments:\n",
    "    file:  a file-like object (stream); defaults to the current sys.stdout.\n",
    "    sep:   string inserted between values, default a space.\n",
    "    end:   string appended after the last value, default a newline.\n",
    "    flush: whether to forcibly flush the stream.\n",
    "\n",
    "Most of the famious libraries have thier help functions.\n"
   ]
  }
 ],
 "metadata": {
  "kernelspec": {
   "display_name": "Python 3 (ipykernel)",
   "language": "python",
   "name": "python3"
  },
  "language_info": {
   "codemirror_mode": {
    "name": "ipython",
    "version": 3
   },
   "file_extension": ".py",
   "mimetype": "text/x-python",
   "name": "python",
   "nbconvert_exporter": "python",
   "pygments_lexer": "ipython3",
   "version": "3.9.7"
  }
 },
 "nbformat": 4,
 "nbformat_minor": 5
}
