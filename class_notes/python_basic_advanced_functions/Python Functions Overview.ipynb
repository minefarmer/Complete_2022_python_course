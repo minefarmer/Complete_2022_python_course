{
 "cells": [
  {
   "cell_type": "markdown",
   "id": "4f5c7e4d",
   "metadata": {},
   "source": [
    "#                                                Python Functons Overview"
   ]
  },
  {
   "cell_type": "markdown",
   "id": "0e169ee6",
   "metadata": {},
   "source": [
    "Help Functions\n",
    "efining Functions\n",
    "Variable Scope (Local vs Global)\n",
    "Doc Strings"
   ]
  },
  {
   "cell_type": "markdown",
   "id": "e809b4c6",
   "metadata": {},
   "source": [
    "            What is a function?\n",
    "Functions take some inputs, do some logic on the, andreturn an output.\n",
    "Imagine that you want to calculate the sum of two variables.\n",
    "What if I want to repeat the process multiple times?\n",
    "I want to have it as a function in my code"
   ]
  }
 ],
 "metadata": {
  "kernelspec": {
   "display_name": "Python 3 (ipykernel)",
   "language": "python",
   "name": "python3"
  },
  "language_info": {
   "codemirror_mode": {
    "name": "ipython",
    "version": 3
   },
   "file_extension": ".py",
   "mimetype": "text/x-python",
   "name": "python",
   "nbconvert_exporter": "python",
   "pygments_lexer": "ipython3",
   "version": "3.9.7"
  }
 },
 "nbformat": 4,
 "nbformat_minor": 5
}
