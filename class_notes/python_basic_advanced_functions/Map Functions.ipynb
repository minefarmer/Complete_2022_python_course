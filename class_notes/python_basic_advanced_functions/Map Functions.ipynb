{
 "cells": [
  {
   "cell_type": "markdown",
   "id": "f2f4fc10",
   "metadata": {},
   "source": [
    "# Map Function\n",
    "#               HIGHER ORDER FUNCTIONS"
   ]
  },
  {
   "cell_type": "code",
   "execution_count": null,
   "id": "9e509c5c",
   "metadata": {},
   "outputs": [],
   "source": [
    "'''\n",
    "Higher order functions take FUNCTIONS AS ARGUMENT.\n",
    "\n",
    "Map function is as follows\n",
    "            map(func, *iterables)\n",
    "\n",
    "The asterisk means that there can be MORE THAN ONE iterables.\n",
    "\n",
    "It APPLIES the function on the iterables.\n",
    "\n",
    "The function must have number of inputs equal to the number of ITERABLES.\n",
    "\n",
    "Map returns a GENERATOR that can be applied by using the list built-in function.\n",
    "\n",
    "The function can be a NORMAL OR a LAMBDA one.\n",
    "\n",
    "It is BETTER to use LAMBDA with map as it is more PYTHONIC way to write the code.\n",
    "'''\n"
   ]
  },
  {
   "cell_type": "code",
   "execution_count": 3,
   "id": "6f365101",
   "metadata": {},
   "outputs": [],
   "source": [
    "def add_five(my_list):\n",
    "    output_list = []\n",
    "    for element in my_list:\n",
    "        element = element + 5\n",
    "        output_list.append(element)\n",
    "    return output_list"
   ]
  },
  {
   "cell_type": "code",
   "execution_count": 4,
   "id": "6373dca2",
   "metadata": {},
   "outputs": [
    {
     "data": {
      "text/plain": [
       "[10, 6, 25]"
      ]
     },
     "execution_count": 4,
     "metadata": {},
     "output_type": "execute_result"
    }
   ],
   "source": [
    "my_list = [5,1, 20]\n",
    "add_five(my_list)"
   ]
  },
  {
   "cell_type": "code",
   "execution_count": 6,
   "id": "eb0aca24",
   "metadata": {},
   "outputs": [
    {
     "data": {
      "text/plain": [
       "<map at 0x21121f2f550>"
      ]
     },
     "execution_count": 6,
     "metadata": {},
     "output_type": "execute_result"
    }
   ],
   "source": [
    "def add_five_map(element):\n",
    "    return element + 5\n",
    "map(add_five , my_list)"
   ]
  },
  {
   "cell_type": "code",
   "execution_count": 20,
   "id": "d9cf156f",
   "metadata": {},
   "outputs": [
    {
     "data": {
      "text/plain": [
       "map"
      ]
     },
     "execution_count": 20,
     "metadata": {},
     "output_type": "execute_result"
    }
   ],
   "source": [
    "def add_five_map(element):\n",
    "    return element + 5\n",
    "output = map(add_five_map , my_list)\n",
    "\n",
    "type(output)"
   ]
  },
  {
   "cell_type": "code",
   "execution_count": 21,
   "id": "00cf4022",
   "metadata": {},
   "outputs": [
    {
     "data": {
      "text/plain": [
       "10"
      ]
     },
     "execution_count": 21,
     "metadata": {},
     "output_type": "execute_result"
    }
   ],
   "source": [
    "next(output)"
   ]
  },
  {
   "cell_type": "code",
   "execution_count": 22,
   "id": "3f7f3b2d",
   "metadata": {},
   "outputs": [
    {
     "data": {
      "text/plain": [
       "[6, 25]"
      ]
     },
     "execution_count": 22,
     "metadata": {},
     "output_type": "execute_result"
    }
   ],
   "source": [
    "list(output)"
   ]
  },
  {
   "cell_type": "code",
   "execution_count": 23,
   "id": "2bd315c1",
   "metadata": {},
   "outputs": [],
   "source": [
    "def add_five_map(element):\n",
    "    return element + 5\n",
    "output = map(add_five_map , my_list)"
   ]
  },
  {
   "cell_type": "code",
   "execution_count": 24,
   "id": "27f2aed5",
   "metadata": {},
   "outputs": [],
   "source": [
    "output = map( lambda element : element + 5 , my_list)"
   ]
  },
  {
   "cell_type": "code",
   "execution_count": 25,
   "id": "be6c50c3",
   "metadata": {},
   "outputs": [
    {
     "data": {
      "text/plain": [
       "[10, 6, 25]"
      ]
     },
     "execution_count": 25,
     "metadata": {},
     "output_type": "execute_result"
    }
   ],
   "source": [
    "list (output)"
   ]
  },
  {
   "cell_type": "code",
   "execution_count": 26,
   "id": "1e26630f",
   "metadata": {},
   "outputs": [],
   "source": [
    "def add_five_map(element):\n",
    "    return element + 5\n",
    "output = map(add_five_map , my_list)"
   ]
  },
  {
   "cell_type": "code",
   "execution_count": 27,
   "id": "a76d5ed0",
   "metadata": {},
   "outputs": [],
   "source": [
    "output = map( lambda element : element + 5 , my_list)"
   ]
  },
  {
   "cell_type": "code",
   "execution_count": 30,
   "id": "5a0cbe51",
   "metadata": {},
   "outputs": [
    {
     "name": "stdout",
     "output_type": "stream",
     "text": [
      "[5.0, 1.0, 20.0]\n"
     ]
    }
   ],
   "source": [
    "float_casted = map(float , my_list)\n",
    "print(list(float_casted))"
   ]
  },
  {
   "cell_type": "code",
   "execution_count": 31,
   "id": "9f243114",
   "metadata": {},
   "outputs": [
    {
     "name": "stdout",
     "output_type": "stream",
     "text": [
      "[5, 1, 20]\n"
     ]
    }
   ],
   "source": [
    "print(my_list)"
   ]
  },
  {
   "cell_type": "code",
   "execution_count": 32,
   "id": "add719da",
   "metadata": {},
   "outputs": [
    {
     "data": {
      "text/plain": [
       "8"
      ]
     },
     "execution_count": 32,
     "metadata": {},
     "output_type": "execute_result"
    }
   ],
   "source": [
    "pow(2,3)"
   ]
  },
  {
   "cell_type": "code",
   "execution_count": 34,
   "id": "7463a697",
   "metadata": {},
   "outputs": [],
   "source": [
    "my_list = [5,1, 20]\n",
    "pow_list = [2, 3, 2]"
   ]
  },
  {
   "cell_type": "code",
   "execution_count": 35,
   "id": "60766a7d",
   "metadata": {},
   "outputs": [
    {
     "data": {
      "text/plain": [
       "4"
      ]
     },
     "execution_count": 35,
     "metadata": {},
     "output_type": "execute_result"
    }
   ],
   "source": [
    "pow(2,2)"
   ]
  },
  {
   "cell_type": "code",
   "execution_count": 36,
   "id": "f25c6723",
   "metadata": {},
   "outputs": [
    {
     "data": {
      "text/plain": [
       "[25, 1, 400]"
      ]
     },
     "execution_count": 36,
     "metadata": {},
     "output_type": "execute_result"
    }
   ],
   "source": [
    "list( map(pow , my_list , pow_list ))"
   ]
  },
  {
   "cell_type": "code",
   "execution_count": 37,
   "id": "1163a31e",
   "metadata": {},
   "outputs": [],
   "source": [
    "def add_tog(x,y):\n",
    "    return x+y"
   ]
  },
  {
   "cell_type": "code",
   "execution_count": 38,
   "id": "3402e037",
   "metadata": {},
   "outputs": [
    {
     "data": {
      "text/plain": [
       "[7, 4, 22]"
      ]
     },
     "execution_count": 38,
     "metadata": {},
     "output_type": "execute_result"
    }
   ],
   "source": [
    "list(map(add_tog , my_list , pow_list))"
   ]
  },
  {
   "cell_type": "code",
   "execution_count": 39,
   "id": "5f2d0a92",
   "metadata": {},
   "outputs": [
    {
     "data": {
      "text/plain": [
       "[7, 4, 22]"
      ]
     },
     "execution_count": 39,
     "metadata": {},
     "output_type": "execute_result"
    }
   ],
   "source": [
    "list(map(lambda x,y: x+y , my_list , pow_list))"
   ]
  },
  {
   "cell_type": "code",
   "execution_count": 40,
   "id": "a7c19e3c",
   "metadata": {},
   "outputs": [
    {
     "data": {
      "text/plain": [
       "[3, -2, 18]"
      ]
     },
     "execution_count": 40,
     "metadata": {},
     "output_type": "execute_result"
    }
   ],
   "source": [
    "list(map(lambda x,y: x-y , my_list , pow_list))"
   ]
  }
 ],
 "metadata": {
  "interpreter": {
   "hash": "ad2bdc8ecc057115af97d19610ffacc2b4e99fae6737bb82f5d7fb13d2f2c186"
  },
  "kernelspec": {
   "display_name": "Python 3.9.7 ('base')",
   "language": "python",
   "name": "python3"
  },
  "language_info": {
   "codemirror_mode": {
    "name": "ipython",
    "version": 3
   },
   "file_extension": ".py",
   "mimetype": "text/x-python",
   "name": "python",
   "nbconvert_exporter": "python",
   "pygments_lexer": "ipython3",
   "version": "3.9.7"
  }
 },
 "nbformat": 4,
 "nbformat_minor": 5
}
