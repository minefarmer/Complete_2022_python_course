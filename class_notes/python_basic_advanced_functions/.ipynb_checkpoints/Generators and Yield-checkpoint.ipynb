{
 "cells": [
  {
   "cell_type": "markdown",
   "id": "5c43789a",
   "metadata": {},
   "source": [
    "# Generators and Yield"
   ]
  },
  {
   "cell_type": "markdown",
   "id": "899fba0c",
   "metadata": {},
   "source": [
    "## GENERATORS"
   ]
  },
  {
   "cell_type": "code",
   "execution_count": 3,
   "id": "3eb00d0a",
   "metadata": {},
   "outputs": [
    {
     "data": {
      "text/plain": [
       "'    \\nWe can CONSTRUCT Python ITERATORS using FUNCTION.\\n\\nThese functions are called GENERATORS,\\n\\n'"
      ]
     },
     "execution_count": 3,
     "metadata": {},
     "output_type": "execute_result"
    }
   ],
   "source": [
    "'''    \n",
    "We can CONSTRUCT Python ITERATORS using FUNCTION.\n",
    "\n",
    "These functions are called GENERATORS,\n",
    "\n",
    "'''"
   ]
  },
  {
   "cell_type": "markdown",
   "id": "5edc6aca",
   "metadata": {},
   "source": [
    "## YIELD"
   ]
  },
  {
   "cell_type": "code",
   "execution_count": null,
   "id": "f2492bf7",
   "metadata": {},
   "outputs": [],
   "source": [
    "The key DIFFERENCE beteen regular functions and generators is the YIELD keyword."
   ]
  },
  {
   "cell_type": "code",
   "execution_count": null,
   "id": "117db964",
   "metadata": {},
   "outputs": [],
   "source": []
  }
 ],
 "metadata": {
  "interpreter": {
   "hash": "143d2740fa7885280d88cdaad3dbdadb51fa40347825ef5e3d2acba7c4a72194"
  },
  "kernelspec": {
   "display_name": "Python 3 (ipykernel)",
   "language": "python",
   "name": "python3"
  },
  "language_info": {
   "codemirror_mode": {
    "name": "ipython",
    "version": 3
   },
   "file_extension": ".py",
   "mimetype": "text/x-python",
   "name": "python",
   "nbconvert_exporter": "python",
   "pygments_lexer": "ipython3",
   "version": "3.9.7"
  }
 },
 "nbformat": 4,
 "nbformat_minor": 5
}
