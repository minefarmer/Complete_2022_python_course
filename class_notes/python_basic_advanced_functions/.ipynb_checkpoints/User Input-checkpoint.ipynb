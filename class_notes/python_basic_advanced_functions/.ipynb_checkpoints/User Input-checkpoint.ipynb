{
 "cells": [
  {
   "cell_type": "markdown",
   "id": "49cc7f66",
   "metadata": {},
   "source": [
    "# User Input"
   ]
  },
  {
   "cell_type": "markdown",
   "id": "a9aa25ba",
   "metadata": {},
   "source": [
    "# Taking input from the user.\n",
    "\n"
   ]
  },
  {
   "cell_type": "markdown",
   "id": "f8de98a4",
   "metadata": {},
   "source": [
    "            Taking Input from the User"
   ]
  },
  {
   "cell_type": "code",
   "execution_count": null,
   "id": "260719c6",
   "metadata": {},
   "outputs": [],
   "source": [
    "x = input()"
   ]
  },
  {
   "cell_type": "code",
   "execution_count": null,
   "id": "298949f8",
   "metadata": {},
   "outputs": [],
   "source": []
  }
 ],
 "metadata": {
  "kernelspec": {
   "display_name": "Python 3 (ipykernel)",
   "language": "python",
   "name": "python3"
  },
  "language_info": {
   "codemirror_mode": {
    "name": "ipython",
    "version": 3
   },
   "file_extension": ".py",
   "mimetype": "text/x-python",
   "name": "python",
   "nbconvert_exporter": "python",
   "pygments_lexer": "ipython3",
   "version": "3.9.12"
  }
 },
 "nbformat": 4,
 "nbformat_minor": 5
}
