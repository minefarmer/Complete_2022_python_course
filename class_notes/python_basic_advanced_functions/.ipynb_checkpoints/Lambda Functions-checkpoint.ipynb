{
 "cells": [
  {
   "cell_type": "markdown",
   "id": "f79e8108",
   "metadata": {},
   "source": [
    "# Lambda Function Usage"
   ]
  },
  {
   "cell_type": "code",
   "execution_count": null,
   "id": "f5ff5fa5",
   "metadata": {},
   "outputs": [],
   "source": [
    "\"\"\"\n",
    "Lambda functions are mainly used for SMALL SIMPLE functions.\n",
    "\n",
    "Also, it can be used as an ARGUMENT for HIGHER-ORDER functions.\n",
    "\n",
    "Higher order functions take FUNCTIONS as ARGUMENT.\n",
    "\n",
    "Examples are FILTER and MAP functions, which we will discuss in the next two lessons.\n",
    "\"\"\""
   ]
  }
 ],
 "metadata": {
  "interpreter": {
   "hash": "a624adbc5e596fddf72740b255048309200567f23df85867ce297e9f9d364c1b"
  },
  "kernelspec": {
   "display_name": "Python 3",
   "language": "python",
   "name": "python3"
  },
  "language_info": {
   "codemirror_mode": {
    "name": "ipython",
    "version": 3
   },
   "file_extension": ".py",
   "mimetype": "text/x-python",
   "name": "python",
   "nbconvert_exporter": "python",
   "pygments_lexer": "ipython3",
   "version": "3.8.8"
  }
 },
 "nbformat": 4,
 "nbformat_minor": 5
}
