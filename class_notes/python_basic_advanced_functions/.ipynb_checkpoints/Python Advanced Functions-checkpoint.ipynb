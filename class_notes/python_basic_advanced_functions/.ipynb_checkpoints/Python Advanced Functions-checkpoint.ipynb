{
 "cells": [
  {
   "cell_type": "markdown",
   "id": "782b7c51",
   "metadata": {},
   "source": [
    "#                           Python Advanced Functions"
   ]
  },
  {
   "cell_type": "code",
   "execution_count": null,
   "id": "b018b056",
   "metadata": {},
   "outputs": [],
   "source": [
    "'''\n",
    "Lambda Functions\n",
    "Functions *args and  **kwargs\n",
    "Iterators\n",
    "Generators and yield Keyword\n",
    "Map Functions\n",
    "Filter Functions\n",
    "'''"
   ]
  }
 ],
 "metadata": {
  "kernelspec": {
   "display_name": "Python 3",
   "language": "python",
   "name": "python3"
  },
  "language_info": {
   "codemirror_mode": {
    "name": "ipython",
    "version": 3
   },
   "file_extension": ".py",
   "mimetype": "text/x-python",
   "name": "python",
   "nbconvert_exporter": "python",
   "pygments_lexer": "ipython3",
   "version": "3.8.8"
  }
 },
 "nbformat": 4,
 "nbformat_minor": 5
}
