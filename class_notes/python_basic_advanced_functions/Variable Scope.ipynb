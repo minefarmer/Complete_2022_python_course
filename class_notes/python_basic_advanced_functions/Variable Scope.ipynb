{
 "cells": [
  {
   "cell_type": "markdown",
   "id": "48ddbd57",
   "metadata": {},
   "source": [
    "# Variable Scope"
   ]
  },
  {
   "cell_type": "markdown",
   "id": "22a6c774",
   "metadata": {},
   "source": [
    "                Global Variables\n",
    "Wecan force a variable inside a function to be global using global keyword."
   ]
  },
  {
   "cell_type": "markdown",
   "id": "be8f69e0",
   "metadata": {},
   "source": [
    "    Local vs Global\n",
    "Not all variables can be accessed all the time.\n",
    "There is a scope for each variable, either local or global.\n",
    "Global variables can be accessed and modified from anywhere in the code.\n",
    "Local variables can only be accessed from specific functions.\n"
   ]
  },
  {
   "cell_type": "markdown",
   "id": "af8c66b0",
   "metadata": {},
   "source": [
    "    Local Variables\n",
    "Notice the following code\n",
    "            def multiply(x,y)\n",
    "                result = x*y\n",
    "                return result\n",
    "            print(result)\n",
    "It will throw an error, as result is a local variable in multiply function."
   ]
  },
  {
   "cell_type": "markdown",
   "id": "142682d3",
   "metadata": {},
   "source": [
    "    Global Variables\n",
    "On the other hand, this code\n",
    "            result = 5\n",
    "            def multiply(x,y):\n",
    "                result = x * y\n",
    "                return result\n",
    "            print(multiply(5,2))\n",
    "            print(result)\n",
    "Will not throw an error, but output will 10 and 5. (if agains't left side)\n",
    "\n",
    "Because result inside multiply funtion is a local variable, while result in the first line is a global variable.\n",
    "\n",
    "We can force a variable inside a function to be global using global keyword.\n",
    "\n",
    "# code is down below (3) \n"
   ]
  },
  {
   "cell_type": "code",
   "execution_count": 3,
   "id": "11c489ff",
   "metadata": {},
   "outputs": [
    {
     "name": "stdout",
     "output_type": "stream",
     "text": [
      "10\n",
      "10\n"
     ]
    }
   ],
   "source": [
    "result = 5\n",
    "def multiply(x,y):\n",
    "    global result\n",
    "    result = x*y\n",
    "    return result\n",
    "print(multiply(5,2))\n",
    "print(result)"
   ]
  },
  {
   "cell_type": "code",
   "execution_count": 13,
   "id": "0337e1f3",
   "metadata": {},
   "outputs": [],
   "source": [
    "def mul(x,y):\n",
    "    global result\n",
    "    result = x*y\n",
    "    print(result)\n",
    "    return result"
   ]
  },
  {
   "cell_type": "code",
   "execution_count": 14,
   "id": "fc469ac6",
   "metadata": {},
   "outputs": [
    {
     "name": "stdout",
     "output_type": "stream",
     "text": [
      "8\n",
      "8\n"
     ]
    }
   ],
   "source": [
    "print(mul(4,2))"
   ]
  },
  {
   "cell_type": "code",
   "execution_count": 15,
   "id": "324f3411",
   "metadata": {},
   "outputs": [
    {
     "name": "stdout",
     "output_type": "stream",
     "text": [
      "8\n"
     ]
    }
   ],
   "source": [
    "print(result)"
   ]
  },
  {
   "cell_type": "code",
   "execution_count": 16,
   "id": "b228a729",
   "metadata": {},
   "outputs": [],
   "source": [
    "global result\n",
    "\n",
    "def mul(x,y):\n",
    "\n",
    "    result = x*y\n",
    "    print(result)\n",
    "    return result"
   ]
  },
  {
   "cell_type": "code",
   "execution_count": 17,
   "id": "b75dd4c3",
   "metadata": {},
   "outputs": [
    {
     "name": "stdout",
     "output_type": "stream",
     "text": [
      "8\n",
      "8\n"
     ]
    }
   ],
   "source": [
    "print(mul(4,2))"
   ]
  },
  {
   "cell_type": "code",
   "execution_count": 18,
   "id": "a5a63809",
   "metadata": {},
   "outputs": [
    {
     "name": "stdout",
     "output_type": "stream",
     "text": [
      "8\n"
     ]
    }
   ],
   "source": [
    "print(result)"
   ]
  }
 ],
 "metadata": {
  "interpreter": {
   "hash": "143d2740fa7885280d88cdaad3dbdadb51fa40347825ef5e3d2acba7c4a72194"
  },
  "kernelspec": {
   "display_name": "Python 3 (ipykernel)",
   "language": "python",
   "name": "python3"
  },
  "language_info": {
   "codemirror_mode": {
    "name": "ipython",
    "version": 3
   },
   "file_extension": ".py",
   "mimetype": "text/x-python",
   "name": "python",
   "nbconvert_exporter": "python",
   "pygments_lexer": "ipython3",
   "version": "3.9.12"
  }
 },
 "nbformat": 4,
 "nbformat_minor": 5
}
