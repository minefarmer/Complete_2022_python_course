{
 "cells": [
  {
   "cell_type": "markdown",
   "id": "59aacb4c",
   "metadata": {},
   "source": [
    "#                                                        Defining Functions"
   ]
  },
  {
   "cell_type": "markdown",
   "id": "f821bc23",
   "metadata": {},
   "source": [
    "                Function Header\n",
    "\n",
    "Python uses the keyword def to define the function.\n",
    "\n",
    "Functions can have multiple inputs and/or outputs.\n",
    "\n",
    "The following is an example of a function header.\n",
    "\n",
    "            def multiply(x, y)\n",
    "\n",
    "You can have optional input by assigning the value of the variable in the function header\n",
    "\n",
    "The code will throw an error if I don't provide x or y, but not z.\n",
    "        def multiply(x,y,z = 1):\n"
   ]
  },
  {
   "cell_type": "markdown",
   "id": "6d727a10",
   "metadata": {},
   "source": [
    "                Function Body\n",
    "\n",
    "The function body is indented in a code block, like loops and conditional statements.\n",
    "We can return one or more outputs using return.\n",
    "\n",
    "        def multiply(x, y ):\n",
    "            result = x\n",
    "            return result\n"
   ]
  },
  {
   "cell_type": "markdown",
   "id": "834886b6",
   "metadata": {},
   "source": [
    "                Function Naming\n",
    "Can't us spaces or special characters.\n",
    "Can't use Python keywords or built-in functions' names, \n",
    "Use descritive names for the function name, inputs and outputs."
   ]
  },
  {
   "cell_type": "code",
   "execution_count": 1,
   "id": "0e209f7c",
   "metadata": {},
   "outputs": [
    {
     "name": "stdout",
     "output_type": "stream",
     "text": [
      "24\n"
     ]
    }
   ],
   "source": [
    "def multiply(first_num, second_num):\n",
    "    result = first_num * second_num\n",
    "    return result\n",
    "\n",
    "res = multiply(4,6)\n",
    "print(res)"
   ]
  },
  {
   "cell_type": "code",
   "execution_count": null,
   "id": "22cd3d4e",
   "metadata": {},
   "outputs": [],
   "source": []
  }
 ],
 "metadata": {
  "interpreter": {
   "hash": "143d2740fa7885280d88cdaad3dbdadb51fa40347825ef5e3d2acba7c4a72194"
  },
  "kernelspec": {
   "display_name": "Python 3 (ipykernel)",
   "language": "python",
   "name": "python3"
  },
  "language_info": {
   "codemirror_mode": {
    "name": "ipython",
    "version": 3
   },
   "file_extension": ".py",
   "mimetype": "text/x-python",
   "name": "python",
   "nbconvert_exporter": "python",
   "pygments_lexer": "ipython3",
   "version": "3.9.12"
  }
 },
 "nbformat": 4,
 "nbformat_minor": 5
}
