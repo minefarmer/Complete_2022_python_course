{
 "cells": [
  {
   "cell_type": "markdown",
   "id": "59aacb4c",
   "metadata": {},
   "source": [
    "#                                                        Defining Functions"
   ]
  },
  {
   "cell_type": "markdown",
   "id": "f821bc23",
   "metadata": {},
   "source": [
    "                Function Header\n",
    "\n",
    "Python uses the keyword def to define the function.\n",
    "\n",
    "Functions can have multiple inputs and/or outputs.\n",
    "\n",
    "The following is an example of a function header.\n",
    "\n",
    "            def multiply(x, y)\n"
   ]
  }
 ],
 "metadata": {
  "kernelspec": {
   "display_name": "Python 3 (ipykernel)",
   "language": "python",
   "name": "python3"
  },
  "language_info": {
   "codemirror_mode": {
    "name": "ipython",
    "version": 3
   },
   "file_extension": ".py",
   "mimetype": "text/x-python",
   "name": "python",
   "nbconvert_exporter": "python",
   "pygments_lexer": "ipython3",
   "version": "3.9.7"
  }
 },
 "nbformat": 4,
 "nbformat_minor": 5
}
