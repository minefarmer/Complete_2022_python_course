{
 "cells": [
  {
   "cell_type": "markdown",
   "id": "f79e8108",
   "metadata": {},
   "source": [
    "# LAMBDA FUNCTIONS"
   ]
  },
  {
   "cell_type": "code",
   "execution_count": 10,
   "id": "f5ff5fa5",
   "metadata": {},
   "outputs": [
    {
     "data": {
      "text/plain": [
       "'\\nLambda functions are mainly used for SMALL SIMPLE functions.\\n\\nAlso, it can be used as an ARGUMENT for HIGHER-ORDER functions.\\n\\nHigher order functions take FUNCTIONS as ARGUMENT.\\n\\nExamples are FILTER and MAP functions, which we will discuss in the next two lessons.\\n'"
      ]
     },
     "execution_count": 10,
     "metadata": {},
     "output_type": "execute_result"
    }
   ],
   "source": [
    "\"\"\"\n",
    "Lambda functions are mainly used for SMALL SIMPLE functions.\n",
    "\n",
    "Also, it can be used as an ARGUMENT for HIGHER-ORDER functions.\n",
    "\n",
    "Higher order functions take FUNCTIONS as ARGUMENT.\n",
    "\n",
    "Examples are FILTER and MAP functions, which we will discuss in the next two lessons.\n",
    "\"\"\""
   ]
  },
  {
   "cell_type": "markdown",
   "id": "17df9460",
   "metadata": {},
   "source": [
    "ONE LINE FUNCTIONS"
   ]
  },
  {
   "cell_type": "code",
   "execution_count": 11,
   "id": "1f0b0bdb",
   "metadata": {},
   "outputs": [
    {
     "data": {
      "text/plain": [
       "'                 ONE LINE FUNCTIONS\\n\\nThe division function we discussed earlier can be simplified into one line.\\n\\nWe can do so by using lambda keyword as follows.\\n'"
      ]
     },
     "execution_count": 11,
     "metadata": {},
     "output_type": "execute_result"
    }
   ],
   "source": [
    "'''                 ONE LINE FUNCTIONS\n",
    "\n",
    "The division function we discussed earlier can be simplified into one line.\n",
    "\n",
    "We can do so by using lambda keyword as follows.\n",
    "'''"
   ]
  },
  {
   "cell_type": "code",
   "execution_count": 12,
   "id": "08501557",
   "metadata": {},
   "outputs": [
    {
     "name": "stdout",
     "output_type": "stream",
     "text": [
      "1.5\n"
     ]
    }
   ],
   "source": [
    "def div(x,y):\n",
    "    return x/y\n",
    "print(div(3,2))"
   ]
  },
  {
   "cell_type": "code",
   "execution_count": 13,
   "id": "beb52252",
   "metadata": {},
   "outputs": [
    {
     "name": "stdout",
     "output_type": "stream",
     "text": [
      "1.5\n"
     ]
    }
   ],
   "source": [
    "'''         Lambda Function Syntax\n",
    "We use the lambda keyword, followed by the function variables.\n",
    "Then, we use the colon, followed by the function body.\n",
    "\n",
    "'''\n",
    "div = lambda x,y : x/y\n",
    "print(div(3,2))"
   ]
  },
  {
   "cell_type": "code",
   "execution_count": 14,
   "id": "503410d5",
   "metadata": {},
   "outputs": [
    {
     "data": {
      "text/plain": [
       "'                 LAMBDA FUNCTION USAGE\\n\\n\\n'"
      ]
     },
     "execution_count": 14,
     "metadata": {},
     "output_type": "execute_result"
    }
   ],
   "source": [
    "'''                 LAMBDA FUNCTION USAGE\n",
    "Lambda functions are mainly used for SMALL SIMPLE functions.\n",
    "Also, it can be used as an ARGUMENT for HIGHER-ORDER functions.\n",
    "Higher order functions take FUNCTIONS as ARGUMENT.\n",
    "Examples are FILTER and MAP functions, which we will discuss in the next two lessons.\n",
    "'''"
   ]
  },
  {
   "cell_type": "code",
   "execution_count": 15,
   "id": "3bb3dca6",
   "metadata": {},
   "outputs": [
    {
     "name": "stdout",
     "output_type": "stream",
     "text": [
      "12\n"
     ]
    }
   ],
   "source": [
    "def mul(x,y):\n",
    "    return x*y\n",
    "print(mul(3,4))"
   ]
  },
  {
   "cell_type": "code",
   "execution_count": 16,
   "id": "33a7f595",
   "metadata": {},
   "outputs": [
    {
     "name": "stdout",
     "output_type": "stream",
     "text": [
      "<function mul at 0x0000017AA7864820>\n"
     ]
    }
   ],
   "source": [
    "print(mul)"
   ]
  },
  {
   "cell_type": "code",
   "execution_count": 17,
   "id": "3c500e54",
   "metadata": {},
   "outputs": [
    {
     "name": "stdout",
     "output_type": "stream",
     "text": [
      "12\n"
     ]
    }
   ],
   "source": [
    "mul_lambda = lambda x,y : x*y\n",
    "print(mul_lambda(3,4))"
   ]
  },
  {
   "cell_type": "code",
   "execution_count": 18,
   "id": "267e6dda",
   "metadata": {},
   "outputs": [
    {
     "name": "stdout",
     "output_type": "stream",
     "text": [
      "<function <lambda> at 0x0000017AA7864670>\n"
     ]
    }
   ],
   "source": [
    "print(mul_lambda)"
   ]
  }
 ],
 "metadata": {
  "interpreter": {
   "hash": "a624adbc5e596fddf72740b255048309200567f23df85867ce297e9f9d364c1b"
  },
  "kernelspec": {
   "display_name": "Python 3",
   "language": "python",
   "name": "python3"
  },
  "language_info": {
   "codemirror_mode": {
    "name": "ipython",
    "version": 3
   },
   "file_extension": ".py",
   "mimetype": "text/x-python",
   "name": "python",
   "nbconvert_exporter": "python",
   "pygments_lexer": "ipython3",
   "version": "3.8.8"
  }
 },
 "nbformat": 4,
 "nbformat_minor": 5
}
