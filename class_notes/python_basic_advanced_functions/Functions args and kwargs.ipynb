{
 "cells": [
  {
   "cell_type": "markdown",
   "id": "fc205b56",
   "metadata": {},
   "source": [
    "#          Functions args and kwargs"
   ]
  },
  {
   "cell_type": "code",
   "execution_count": null,
   "id": "0bd3f339",
   "metadata": {},
   "outputs": [],
   "source": [
    "'''         FUNCTION INPUT FLEXIBILITY\n",
    "Sometimes, we don't know BEFOREHAND how many INPUTS a function should take.\n",
    "For example, we can have a multiplication function that should MULTIPLY ALL it's input, which can be 2, 3, 4, or more.\n",
    "The straightforward way to do it is to use a LIST as the function input.\n",
    "'''"
   ]
  },
  {
   "cell_type": "code",
   "execution_count": null,
   "id": "6b50b606",
   "metadata": {},
   "outputs": [
    {
     "ename": "",
     "evalue": "",
     "output_type": "error",
     "traceback": [
      "\u001b[1;31mRunning cells with 'Python 3.8.10 ('Matsenv')' requires ipykernel package.\n",
      "Run the following command to install 'ipykernel' into the Python environment. \n",
      "Command: 'conda install -n Matsenv ipykernel --update-deps --force-reinstall'"
     ]
    }
   ],
   "source": [
    "def multiply(input_list):\n",
    "    result = 1\n",
    "    for element in input_list:\n",
    "        result *= element\n",
    "    return result\n",
    "my_list = [1,2,3]\n",
    "print(multiply(my_list))\n",
    "\n"
   ]
  },
  {
   "cell_type": "code",
   "execution_count": 1,
   "id": "9f515fce",
   "metadata": {},
   "outputs": [
    {
     "name": "stdout",
     "output_type": "stream",
     "text": [
      "6\n"
     ]
    }
   ],
   "source": [
    "'''\n",
    "However, there is a more PYTHONIC way to do that, so we don't need to worry defining a list.\n",
    "This is by using the args as an argument.\n",
    "The ASTERISK is called the unpacking operator.\n",
    "'''\n",
    "\n",
    "def multiply(*args):\n",
    "    result = 1\n",
    "    for element in args:\n",
    "        result *= element\n",
    "    return result\n",
    "print(multiply(1,2,3))"
   ]
  },
  {
   "cell_type": "code",
   "execution_count": 3,
   "id": "e229ec68",
   "metadata": {
    "scrolled": true
   },
   "outputs": [
    {
     "name": "stdout",
     "output_type": "stream",
     "text": [
      "x Carl\n",
      "y Richard\n",
      "z Matson\n"
     ]
    }
   ],
   "source": [
    "'''                 kwargs\n",
    "If I have keywords or named arguments, then you can use kwargs, which is short for KEYWORD ARGUMENTS. Or NAMED ARGUMENTS.\n",
    "We define it by using DOUBLE ASTERISK, which is also an UNPACKING operator.\n",
    "'''\n",
    "\n",
    "def display(**kwargs):\n",
    "    for k, e in zip( kwargs.keys(), kwargs.values() ):\n",
    "        print(k,e)\n",
    "display(x=\"Carl\",y= \"Richard\",z = \"Matson\")\n"
   ]
  },
  {
   "cell_type": "code",
   "execution_count": 5,
   "id": "d3a697ff",
   "metadata": {},
   "outputs": [],
   "source": [
    "'''\n",
    "Notice that pass the inputs as a DICTIONARY.\n",
    "Also note that it doesn't need to be called kwargs, this is just a CONVENTION.\n",
    "'''\n",
    "\n",
    "def display(**kwargs):\n",
    "    for k, e in zip(kwargs.keys(), kwargs.values()):\n",
    "        print(k,e)\n",
    "# display(x=\"Roger\", y =\"David\" z = \"Matson\")   # this line throws an error"
   ]
  },
  {
   "cell_type": "code",
   "execution_count": 9,
   "id": "7dc15474",
   "metadata": {},
   "outputs": [
    {
     "data": {
      "text/plain": [
       "'                 FUNCTION INPUT ORDERING\\nThe correct ordering is:\\n    1. Standeard input\\n    2. Required input\\n        b. Optional input\\n\\n    2. Positional input (*args)\\n\\n    3. Keyword input (**kwargs)\\n'"
      ]
     },
     "execution_count": 9,
     "metadata": {},
     "output_type": "execute_result"
    }
   ],
   "source": [
    "'''                 FUNCTION INPUT ORDERING\n",
    "The correct ordering is:\n",
    "    1. Standeard input\n",
    "    2. Required input\n",
    "        b. Optional input\n",
    "\n",
    "    2. Positional input (*args)\n",
    "\n",
    "    3. Keyword input (**kwargs)\n",
    "'''\n",
    "\n",
    "# def func_exmp(x, y, z=3, *args, **kwargs):"
   ]
  },
  {
   "cell_type": "code",
   "execution_count": 11,
   "id": "e092a5a4",
   "metadata": {},
   "outputs": [],
   "source": [
    "def print_input(*args):\n",
    "    for i in args:\n",
    "        print(i)"
   ]
  },
  {
   "cell_type": "code",
   "execution_count": 12,
   "id": "18f2b2c0",
   "metadata": {},
   "outputs": [
    {
     "name": "stdout",
     "output_type": "stream",
     "text": [
      "1\n",
      "2\n",
      "5\n",
      "1\n"
     ]
    }
   ],
   "source": [
    "print_input(1,2,5,1)"
   ]
  },
  {
   "cell_type": "code",
   "execution_count": 13,
   "id": "c226ab83",
   "metadata": {},
   "outputs": [
    {
     "name": "stdout",
     "output_type": "stream",
     "text": [
      "1\n",
      "5\n",
      "1\n"
     ]
    }
   ],
   "source": [
    "print_input(1,5,1)"
   ]
  },
  {
   "cell_type": "code",
   "execution_count": 22,
   "id": "7929d031",
   "metadata": {},
   "outputs": [],
   "source": [
    "def print_input2(**k):\n",
    "    for key , value in zip(k.keys() , k.values()):\n",
    "        print(key, value)"
   ]
  },
  {
   "cell_type": "code",
   "execution_count": 31,
   "id": "9301d267",
   "metadata": {},
   "outputs": [
    {
     "name": "stdout",
     "output_type": "stream",
     "text": [
      "x Carl\n",
      "y Richard\n"
     ]
    }
   ],
   "source": [
    "print_input2(x = \"Carl\", y = \"Richard\")"
   ]
  },
  {
   "cell_type": "code",
   "execution_count": 32,
   "id": "36a5fa90",
   "metadata": {},
   "outputs": [
    {
     "ename": "SyntaxError",
     "evalue": "non-default argument follows default argument (1747488958.py, line 1)",
     "output_type": "error",
     "traceback": [
      "\u001b[1;36m  Input \u001b[1;32mIn [32]\u001b[1;36m\u001b[0m\n\u001b[1;33m    def print_input3(y = 1 , x):  # will no work==see below\u001b[0m\n\u001b[1;37m                     ^\u001b[0m\n\u001b[1;31mSyntaxError\u001b[0m\u001b[1;31m:\u001b[0m non-default argument follows default argument\n"
     ]
    }
   ],
   "source": [
    "def print_input3(y = 1 , x):  # will no work==see below\n",
    "    print(x)\n",
    "    print(y)"
   ]
  },
  {
   "cell_type": "code",
   "execution_count": 34,
   "id": "65860953",
   "metadata": {},
   "outputs": [],
   "source": [
    "def print_input3(y , x =1):\n",
    "    print(y)\n",
    "    print(x)"
   ]
  },
  {
   "cell_type": "code",
   "execution_count": 38,
   "id": "46854caf",
   "metadata": {},
   "outputs": [],
   "source": [
    "def print_input4(*z, y , x =1):\n",
    "    print(x)\n",
    "    print(y)\n",
    "    print(z)"
   ]
  },
  {
   "cell_type": "code",
   "execution_count": 39,
   "id": "e9e5d31e",
   "metadata": {},
   "outputs": [
    {
     "name": "stdout",
     "output_type": "stream",
     "text": [
      "5\n",
      "1\n",
      "(1, 2, 3, 4)\n"
     ]
    }
   ],
   "source": [
    "print_input4(1,2,3,4 , y = 1 , x = 5)"
   ]
  },
  {
   "cell_type": "code",
   "execution_count": null,
   "id": "85813fde",
   "metadata": {},
   "outputs": [],
   "source": []
  }
 ],
 "metadata": {
  "interpreter": {
   "hash": "3b28d870bda76897fec60acabb0fa914a50a2877130064b9ad02036157f7dd04"
  },
  "kernelspec": {
   "display_name": "Python 3",
   "language": "python",
   "name": "python3"
  },
  "language_info": {
   "codemirror_mode": {
    "name": "ipython",
    "version": 3
   },
   "file_extension": ".py",
   "mimetype": "text/x-python",
   "name": "python",
   "nbconvert_exporter": "python",
   "pygments_lexer": "ipython3",
   "version": "3.8.8"
  }
 },
 "nbformat": 4,
 "nbformat_minor": 5
}
