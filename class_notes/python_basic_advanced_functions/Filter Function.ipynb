{
 "cells": [
  {
   "cell_type": "markdown",
   "id": "7a2f50b5",
   "metadata": {},
   "source": [
    "# FILTER FUNCTION\n",
    "\n",
    "WHAT IS A FILTER FUNCTION?"
   ]
  },
  {
   "cell_type": "code",
   "execution_count": 1,
   "id": "dfeede38",
   "metadata": {},
   "outputs": [
    {
     "data": {
      "text/plain": [
       "'\\nInstead of applyong a function on all elements in the iterable, FILTER selects SPECIFIC elements from the iterable based on a condition in the function.\\n            filter(func, iterable)\\nUnlike map, filter can ONLY work on ONE iterable.\\n'"
      ]
     },
     "execution_count": 1,
     "metadata": {},
     "output_type": "execute_result"
    }
   ],
   "source": [
    "'''\n",
    "Instead of applyong a function on all elements in the iterable, FILTER selects SPECIFIC elements from the iterable based on a condition in the function.\n",
    "            filter(func, iterable)\n",
    "Unlike map, filter can ONLY work on ONE iterable.\n",
    "'''"
   ]
  },
  {
   "cell_type": "code",
   "execution_count": 3,
   "id": "faf3cf96",
   "metadata": {},
   "outputs": [],
   "source": [
    "'''         FILTER FUNCTION NOTES\n",
    "The function must RETURN a BOOLEAN ITERABLE.\n",
    "\n",
    "Like map, filter returns a GENERATOR, so we need to use the LIST function.\n",
    "'''\n",
    "\n",
    "grades = [20,80,100, 50, 60, 70]\n",
    "def pass_grade(grade):\n",
    "    return grade > 50\n",
    "\n",
    "passed= list(filter(pass_grade, grades))\n"
   ]
  },
  {
   "cell_type": "code",
   "execution_count": 7,
   "id": "6889b0c3",
   "metadata": {},
   "outputs": [],
   "source": [
    "def pass_grade_normal(list_grades):\n",
    "    pass_grade_list = []\n",
    "    for current_grade in list_grades:\n",
    "        if current_grade > 50:\n",
    "            pass_grade_list.append(current_grade)\n",
    "    return pass_grade_list"
   ]
  },
  {
   "cell_type": "code",
   "execution_count": 5,
   "id": "792a1e0b",
   "metadata": {},
   "outputs": [],
   "source": [
    "list_grade = [60, 55, 100, 20, 34, 70]"
   ]
  },
  {
   "cell_type": "code",
   "execution_count": 8,
   "id": "e7db5619",
   "metadata": {},
   "outputs": [
    {
     "data": {
      "text/plain": [
       "[60, 55, 100, 70]"
      ]
     },
     "execution_count": 8,
     "metadata": {},
     "output_type": "execute_result"
    }
   ],
   "source": [
    "pass_grade_normal(list_grade)"
   ]
  },
  {
   "cell_type": "code",
   "execution_count": 10,
   "id": "606e6561",
   "metadata": {},
   "outputs": [],
   "source": [
    "def pass_grade_filter(grade):\n",
    "    return grade > 50"
   ]
  },
  {
   "cell_type": "code",
   "execution_count": null,
   "id": "67c2bcd0",
   "metadata": {},
   "outputs": [],
   "source": [
    "filter(pass_grade_filter , list_grade)"
   ]
  },
  {
   "cell_type": "code",
   "execution_count": 11,
   "id": "a7fee1e7",
   "metadata": {},
   "outputs": [
    {
     "data": {
      "text/plain": [
       "True"
      ]
     },
     "execution_count": 11,
     "metadata": {},
     "output_type": "execute_result"
    }
   ],
   "source": [
    "grade = 60\n",
    "grade > 50"
   ]
  },
  {
   "cell_type": "code",
   "execution_count": 12,
   "id": "2cde81ae",
   "metadata": {},
   "outputs": [],
   "source": [
    "passed_grade_filter = list(filter(pass_grade_filter , list_grade))"
   ]
  },
  {
   "cell_type": "code",
   "execution_count": 13,
   "id": "fe4a654c",
   "metadata": {},
   "outputs": [
    {
     "data": {
      "text/plain": [
       "[60, 55, 100, 70]"
      ]
     },
     "execution_count": 13,
     "metadata": {},
     "output_type": "execute_result"
    }
   ],
   "source": [
    "passed_grade_filter"
   ]
  }
 ],
 "metadata": {
  "interpreter": {
   "hash": "ad2bdc8ecc057115af97d19610ffacc2b4e99fae6737bb82f5d7fb13d2f2c186"
  },
  "kernelspec": {
   "display_name": "Python 3 (ipykernel)",
   "language": "python",
   "name": "python3"
  },
  "language_info": {
   "codemirror_mode": {
    "name": "ipython",
    "version": 3
   },
   "file_extension": ".py",
   "mimetype": "text/x-python",
   "name": "python",
   "nbconvert_exporter": "python",
   "pygments_lexer": "ipython3",
   "version": "3.9.7"
  }
 },
 "nbformat": 4,
 "nbformat_minor": 5
}
