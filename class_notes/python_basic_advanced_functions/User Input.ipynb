{
 "cells": [
  {
   "cell_type": "markdown",
   "id": "49cc7f66",
   "metadata": {},
   "source": [
    "# User Input"
   ]
  },
  {
   "cell_type": "markdown",
   "id": "a9aa25ba",
   "metadata": {},
   "source": [
    "# Taking input from the user.\n",
    "\n"
   ]
  },
  {
   "cell_type": "markdown",
   "id": "f8de98a4",
   "metadata": {},
   "source": [
    "            Taking Input from the User"
   ]
  },
  {
   "cell_type": "code",
   "execution_count": 1,
   "id": "260719c6",
   "metadata": {},
   "outputs": [
    {
     "ename": "NameError",
     "evalue": "name 'rich' is not defined",
     "output_type": "error",
     "traceback": [
      "\u001b[0;31m---------------------------------------------------------------------------\u001b[0m",
      "\u001b[0;31mNameError\u001b[0m                                 Traceback (most recent call last)",
      "\u001b[1;32m/home/carl/Desktop/MatsHub/Complete_2022_python_course/class_notes/python_basic_advanced_functions/User Input.ipynb Cell 4'\u001b[0m in \u001b[0;36m<cell line: 1>\u001b[0;34m()\u001b[0m\n\u001b[0;32m----> <a href='vscode-notebook-cell:/home/carl/Desktop/MatsHub/Complete_2022_python_course/class_notes/python_basic_advanced_functions/User%20Input.ipynb#ch0000003?line=0'>1</a>\u001b[0m x \u001b[39m=\u001b[39m rich\n",
      "\u001b[0;31mNameError\u001b[0m: name 'rich' is not defined"
     ]
    }
   ],
   "source": [
    "x = rich  # no workie"
   ]
  }
 ],
 "metadata": {
  "interpreter": {
   "hash": "767d51c1340bd893661ea55ea3124f6de3c7a262a8b4abca0554b478b1e2ff90"
  },
  "kernelspec": {
   "display_name": "Python 3 (ipykernel)",
   "language": "python",
   "name": "python3"
  },
  "language_info": {
   "codemirror_mode": {
    "name": "ipython",
    "version": 3
   },
   "file_extension": ".py",
   "mimetype": "text/x-python",
   "name": "python",
   "nbconvert_exporter": "python",
   "pygments_lexer": "ipython3",
   "version": "3.9.12"
  }
 },
 "nbformat": 4,
 "nbformat_minor": 5
}
